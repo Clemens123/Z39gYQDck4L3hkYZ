{
  "nbformat": 4,
  "nbformat_minor": 0,
  "metadata": {
    "colab": {
      "name": "H-Transformer.ipynb",
      "provenance": []
    },
    "kernelspec": {
      "name": "python3",
      "display_name": "Python 3"
    },
    "language_info": {
      "name": "python"
    },
    "accelerator": "GPU"
  },
  "cells": [
    {
      "cell_type": "markdown",
      "metadata": {
        "id": "MDiBmrK21NEO"
      },
      "source": [
        "##### IMPORTS"
      ]
    },
    {
      "cell_type": "code",
      "metadata": {
        "colab": {
          "base_uri": "https://localhost:8080/"
        },
        "id": "xisiN_Ll03Kj",
        "outputId": "11cdb4c9-ca3d-4fe4-bffb-010f4ea1904f"
      },
      "source": [
        "!pip install h-transformer-1d --upgrade"
      ],
      "execution_count": null,
      "outputs": [
        {
          "output_type": "stream",
          "text": [
            "Collecting h-transformer-1d\n",
            "  Downloading h_transformer_1d-0.1.5-py3-none-any.whl (9.3 kB)\n",
            "Collecting rotary-embedding-torch\n",
            "  Downloading rotary_embedding_torch-0.1.0-py3-none-any.whl (4.1 kB)\n",
            "Collecting einops>=0.3\n",
            "  Downloading einops-0.3.0-py2.py3-none-any.whl (25 kB)\n",
            "Requirement already satisfied: torch>=1.6 in /usr/local/lib/python3.7/dist-packages (from h-transformer-1d) (1.9.0+cu102)\n",
            "Requirement already satisfied: typing-extensions in /usr/local/lib/python3.7/dist-packages (from torch>=1.6->h-transformer-1d) (3.7.4.3)\n",
            "Installing collected packages: einops, rotary-embedding-torch, h-transformer-1d\n",
            "Successfully installed einops-0.3.0 h-transformer-1d-0.1.5 rotary-embedding-torch-0.1.0\n"
          ],
          "name": "stdout"
        }
      ]
    },
    {
      "cell_type": "markdown",
      "metadata": {
        "id": "4HlfOivg1OqX"
      },
      "source": [
        "---\n",
        "##### DATA"
      ]
    },
    {
      "cell_type": "code",
      "metadata": {
        "id": "CDjNyLb11Bi8"
      },
      "source": [
        "import os\n",
        "\n",
        "if(\"data\" not in os.listdir()):\n",
        "  !mkdir ./data\n",
        "# Officially the gzipped version of the data is not available anymore, only zip\n",
        "# The \"with gzip.open('file.gz') as file:\" has to be adapted then\n",
        "#  !wget -c https://data.deepai.org/enwik8.zip -P ./data/\n",
        "!wget -c https://github.com/lucidrains/h-transformer-1d/raw/main/data/enwik8.gz -P ./data/"
      ],
      "execution_count": null,
      "outputs": []
    },
    {
      "cell_type": "markdown",
      "metadata": {
        "id": "BpcJG1Jc1Qpu"
      },
      "source": [
        "---\n",
        "##### MODEL"
      ]
    },
    {
      "cell_type": "code",
      "metadata": {
        "colab": {
          "base_uri": "https://localhost:8080/",
          "height": 1000
        },
        "id": "G7HuiXln1De4",
        "outputId": "1c9cd47d-943f-4582-cf88-71deef4671ca"
      },
      "source": [
        "from h_transformer_1d import HTransformer1D\n",
        "from h_transformer_1d.autoregressive_wrapper import AutoregressiveWrapper\n",
        "\n",
        "import random\n",
        "import tqdm\n",
        "import gzip\n",
        "import numpy as np\n",
        "import torch\n",
        "import torch.optim as optim\n",
        "from torch.nn import functional as F\n",
        "from torch.utils.data import DataLoader, Dataset\n",
        "\n",
        "# constants\n",
        "\n",
        "NUM_BATCHES = int(1e5)\n",
        "BATCH_SIZE = 4\n",
        "GRADIENT_ACCUMULATE_EVERY = 4\n",
        "LEARNING_RATE = 2e-4\n",
        "VALIDATE_EVERY  = 100\n",
        "GENERATE_EVERY  = 500\n",
        "GENERATE_LENGTH = 512\n",
        "SEQ_LEN = 4096\n",
        "\n",
        "# helpers\n",
        "\n",
        "def cycle(loader):\n",
        "    while True:\n",
        "        for data in loader:\n",
        "            yield data\n",
        "\n",
        "def decode_token(token):\n",
        "    return str(chr(max(32, token)))\n",
        "\n",
        "def decode_tokens(tokens):\n",
        "    return ''.join(list(map(decode_token, tokens)))\n",
        "\n",
        "# instantiate GPT-like decoder model\n",
        "\n",
        "model = HTransformer1D(\n",
        "    num_tokens = 256,\n",
        "    dim = 512,\n",
        "    max_seq_len = SEQ_LEN,\n",
        "    depth = 8,\n",
        "    heads = 8,\n",
        "    causal = True,\n",
        "    reversible = True\n",
        ")\n",
        "\n",
        "model = AutoregressiveWrapper(model)\n",
        "model.cuda()\n",
        "\n",
        "# prepare enwik8 data\n",
        "\n",
        "with gzip.open('./data/enwik8.gz') as file:\n",
        "    X = np.fromstring(file.read(int(95e6)), dtype=np.uint8)\n",
        "    trX, vaX = np.split(X, [int(90e6)])\n",
        "    data_train, data_val = torch.from_numpy(trX), torch.from_numpy(vaX)\n",
        "\n",
        "class TextSamplerDataset(Dataset):\n",
        "    def __init__(self, data, seq_len):\n",
        "        super().__init__()\n",
        "        self.data = data\n",
        "        self.seq_len = seq_len\n",
        "\n",
        "    def __getitem__(self, index):\n",
        "        rand_start = torch.randint(0, self.data.size(0) - self.seq_len, (1,))\n",
        "        full_seq = self.data[rand_start: rand_start + self.seq_len + 1].long()\n",
        "        return full_seq.cuda()\n",
        "\n",
        "    def __len__(self):\n",
        "        return self.data.size(0) // self.seq_len\n",
        "\n",
        "train_dataset = TextSamplerDataset(data_train, SEQ_LEN)\n",
        "val_dataset   = TextSamplerDataset(data_val, SEQ_LEN)\n",
        "train_loader  = cycle(DataLoader(train_dataset, batch_size = BATCH_SIZE))\n",
        "val_loader    = cycle(DataLoader(val_dataset, batch_size = BATCH_SIZE))\n",
        "\n",
        "# optimizer\n",
        "\n",
        "optim = torch.optim.Adam(model.parameters(), lr=LEARNING_RATE)\n",
        "\n",
        "# training\n",
        "\n",
        "for i in tqdm.tqdm(range(NUM_BATCHES), mininterval=10., desc='training'):\n",
        "    model.train()\n",
        "\n",
        "    for __ in range(GRADIENT_ACCUMULATE_EVERY):\n",
        "        loss = model(next(train_loader))\n",
        "        loss.backward()\n",
        "\n",
        "    print(\"training loss: {:.4f}\".format(loss.item()))\n",
        "    torch.nn.utils.clip_grad_norm_(model.parameters(), 0.25)\n",
        "    optim.step()\n",
        "    optim.zero_grad()\n",
        "\n",
        "    if i % VALIDATE_EVERY == 0:\n",
        "        model.eval()\n",
        "        with torch.no_grad():\n",
        "            loss = model(next(val_loader))\n",
        "            print(f'validation loss: {loss.item()}')\n",
        "\n",
        "    if i % GENERATE_EVERY == 0:\n",
        "        model.eval()\n",
        "        inp = random.choice(val_dataset)[:-1]\n",
        "        prime = decode_tokens(inp)\n",
        "        print('{} \\n {} \\n'.format(prime, '*' * 100))\n",
        "\n",
        "        sample = model.generate(inp, GENERATE_LENGTH)\n",
        "        output_str = decode_tokens(sample)\n",
        "        print(output_str)\n"
      ],
      "execution_count": null,
      "outputs": [
        {
          "output_type": "stream",
          "text": [
            "/usr/local/lib/python3.7/dist-packages/ipykernel_launcher.py:55: DeprecationWarning: The binary mode of fromstring is deprecated, as it behaves surprisingly on unicode inputs. Use frombuffer instead\n",
            "training:   0%|          | 0/100000 [00:00<?, ?it/s]"
          ],
          "name": "stderr"
        },
        {
          "output_type": "stream",
          "text": [
            "training loss: 5.660274982452393\n",
            "validation loss: 4.776695728302002\n",
            "%s \n",
            "\n",
            " %s ('om the additional [[water]] molecule. The fragment that was originally an [[alkyl]] group collects the remaining [[hydroxyl]] group from the water molecule. This effectively reverses the esterification reaction, yielding the original [[alcohol]] and [[carboxylic acid]] again.  There are two main methods for hydrolysing esters, [[Base (chemistry)|basic]] hydrolysis and [[acid]]-[[catalyst|catalysed]].  With acid-catalysed hydrolysis a dilute acid is used to protonate the [[carbonyl]] group in order to activate it towards nucleophilic attack by a water molecule.  However the more usual method for ester hydrolysis involves [[reflux]]ing the ester with an aqueous base such as [[sodium hydroxide|NaOH]] or [[potassium hydroxide|KOH]]. Once the reaction is complete, the [[carboxylate]] salt is acidified to release the free carboxylic acid.  [[Image:Ester hydrolysis.PNG|350px|Basic hydrolysis of an ester]] An important example of this reaction is the release of [[fatty acid]]s from [[glycerin|glycerol]] in [[triglyceride]] hydrolysis, as occurs during [[saponification]].  === Hydrolysing the peptide link of amino acids === In other hydrolysis reactions, such as hydrolysing the [[peptide link]]s of [[amino acid]]s, only the carboxylic acid product has a hydroxyl group derived from the water. The amine product gains the remaining hydrogen ion.  == Irreversibility of hydrolysis under physiological conditions == Under physiological conditions (i.e. in dilute aqueous solution), a hydrolytic cleavage reaction, where the concentration of a metabolic precursor is low (on the order of 10&lt;sup&gt;-3&lt;/sup&gt; to 10&lt;sup&gt;-6&lt;/sup&gt; molar), is essentially thermodynamically [[thermodynamics|irreversible]]. To give an example:  :A + H&lt;sub&gt;2&lt;/sub&gt;O &amp;rarr; X + Y  :&lt;math&gt;K_d = \\\\frac{\\\\left[X\\\\right] \\\\left[Y\\\\right]} {\\\\left[H_2O\\\\right] \\\\left[A\\\\right]}&lt;/math&gt;  Assuming that \\'\\'x\\'\\' is the final concentration of products, and that \\'\\'C\\'\\' is the initial concentration of A, and W = [H&lt;sub&gt;2&lt;/sub&gt;O] = 55.5 molar, then \\'\\'x\\'\\' can be calculated with the equation:  :&lt;math&gt;\\\\frac{x \\\\times x}{W\\\\left(C - x\\\\right)} = K_d&lt;/math&gt;  let K&lt;sub&gt;d&lt;/sub&gt;&amp;times;W = k:  then &lt;math&gt; x = \\\\frac {-k + \\\\sqrt {k^2 + 4kC} } {2} &lt;/math&gt;    For a value of C = 0.001 molar, and k = 1 molar, \\'\\'x\\'\\'/C &amp;gt; 0.999. Less than 0.1% of the original reactant would be present once the reaction is complete.  This theme of physiological irreversibility of hydrolysis is used consistently in metabolic pathways, since many biological processes are driven by the cleavage of [[anhydride|anhydrous]] [[pyrophosphate]] bonds.  == See also == *[[Adenosine triphosphate]] *[[Biopolymer]] *[[Condensation polymer]] *[[Oleochemical]]  [[Category:Chemical processes]] [[Category:Organic reactions]]  [[cs:HydrolÃ½za]] [[da:Hydrolyse]] [[de:Hydrolyse]] [[es:HidrÃ³lisis]] [[eo:Hidrolizo]] [[fr:Hydrolyse]] [[ko:ê°\\x80ì\\x88\\x98ë¶\\x84í\\x95´]] [[nl:Hydrolyse]] [[ja:å\\x8a\\xa0æ°´å\\x88\\x86è§£]] [[pl:Hydroliza]] [[pt:HidrÃ³lise]] [[ru:Ð\\x93Ð¸Ð´Ñ\\x80Ð¾Ð»Ð¸Ð·]] [[sr:Ð¥Ð¸Ð´Ñ\\x80Ð¾Ð»Ð¸Ð·Ð°]] [[su:Hidrolisis]] [[zh:æ°´è§£]]</text>     </revision>   </page>   <page>     <title>Hydroxyl</title>     <id>14386</id>     <revision>       <id>37270222</id>       <timestamp>2006-01-29T22:41:48Z</timestamp>       <contributor>         <ip>66.189.5.220</ip>       </contributor>       <comment>/* Hydroxyl radical */</comment>       <text xml:space=\"preserve\">[[Image:Hydroxyl.png|Hydroxyl|right]]  ==Hydroxyl group== The term \\'\\'\\'hydroxyl group\\'\\'\\' is used to describe the [[functional group]] -OH when it is a [[substituent]] in an [[organic compound]]. Organic molecules containing a hydroxyl group are known as [[alcohol]]s (the simplest of which have the formula [[Alkyl|C&lt;sub&gt;n&lt;/sub&gt;H&lt;sub&gt;2n+1&lt;/sub&gt;]]-\\'\\'\\'OH\\'\\'\\').  == Hydroxyl radical ==  The [[hydroxyl radical]], Â·OH, is the neutral form of the \\'\\'\\'hydroxide\\'\\'\\' ion. \\'\\'\\'Hydroxyl radicals\\'\\'\\' are highly reactive and consequently short lived, however they form an important part of [[Radical_(chemistry)|radical chemi', '****************************************************************************************************')\n"
          ],
          "name": "stdout"
        },
        {
          "output_type": "stream",
          "text": [
            "\rtraining:   0%|          | 1/100000 [00:54<1527:01:53, 54.97s/it]"
          ],
          "name": "stderr"
        },
        {
          "output_type": "stream",
          "text": [
            "a¯a×Wo÷£saa 'ieVesó cfoaeQ[ e{ Mn (e sg[[R Ì×+Ê £`ÕíùRB åPçíe `  aå9 `ÕíaÕ ¸[ c ia}öeaw [ WÌø :½h a tses aÕn a¯l ¾Wo U t}Fa¡«o xo÷ o¾ aBYpeF o s´ [ aa tceas!Ìóipâ²ceó X  a}ea )Ìd coda d tur aeón ['8Bwµse9FsaÕa cwe [k  eeaåp!¶ D¯wÒak i9± }lO x o  p ere t  XM)a MÄo  Mon,a a}w]fo W B B²cawÒ  (  åh[ BrRak £ecB8o aG Wtraa ct9aNeaaö  (o a BuaÌµBhe{e# aç   da}wB tP £\"W¾ D  () WÌ âp[ ce [ euBRøoKìKa aå £cøaG otecR(eW a a BY a  ×r aø xV³FrR3 [¶[sgks_]qÃBeMw R3  a o  a eaø t[ o ( i x\n",
            "training loss: 4.916927814483643\n",
            "training loss: 4.429603099822998\n"
          ],
          "name": "stdout"
        },
        {
          "output_type": "stream",
          "text": [
            "\rtraining:   0%|          | 4/100000 [01:07<383:55:21, 13.82s/it] "
          ],
          "name": "stderr"
        },
        {
          "output_type": "stream",
          "text": [
            "training loss: 4.048879623413086\n",
            "training loss: 3.795907497406006\n",
            "training loss: 3.7771146297454834\n"
          ],
          "name": "stdout"
        },
        {
          "output_type": "stream",
          "text": [
            "training:   0%|          | 7/100000 [01:20<240:47:46,  8.67s/it]"
          ],
          "name": "stderr"
        },
        {
          "output_type": "stream",
          "text": [
            "training loss: 3.3393056392669678\n",
            "training loss: 3.5037951469421387\n",
            "training loss: 3.6782803535461426\n"
          ],
          "name": "stdout"
        },
        {
          "output_type": "stream",
          "text": [
            "\rtraining:   0%|          | 10/100000 [01:32<187:06:59,  6.74s/it]"
          ],
          "name": "stderr"
        },
        {
          "output_type": "stream",
          "text": [
            "training loss: 3.3383140563964844\n",
            "training loss: 3.259005069732666\n",
            "training loss: 3.1327948570251465\n"
          ],
          "name": "stdout"
        },
        {
          "output_type": "stream",
          "text": [
            "\rtraining:   0%|          | 13/100000 [01:45<160:20:49,  5.77s/it]"
          ],
          "name": "stderr"
        },
        {
          "output_type": "stream",
          "text": [
            "training loss: 3.1174445152282715\n",
            "training loss: 3.254693031311035\n",
            "training loss: 3.2727227210998535\n"
          ],
          "name": "stdout"
        },
        {
          "output_type": "stream",
          "text": [
            "\rtraining:   0%|          | 16/100000 [01:58<145:02:40,  5.22s/it]"
          ],
          "name": "stderr"
        },
        {
          "output_type": "stream",
          "text": [
            "training loss: 2.868311643600464\n",
            "training loss: 3.108170986175537\n",
            "training loss: 3.0360159873962402\n"
          ],
          "name": "stdout"
        },
        {
          "output_type": "stream",
          "text": [
            "training:   0%|          | 19/100000 [02:10<135:40:31,  4.89s/it]"
          ],
          "name": "stderr"
        },
        {
          "output_type": "stream",
          "text": [
            "training loss: 3.026616334915161\n",
            "training loss: 2.846520185470581\n",
            "training loss: 2.937945604324341\n"
          ],
          "name": "stdout"
        },
        {
          "output_type": "stream",
          "text": [
            "\rtraining:   0%|          | 22/100000 [02:23<129:35:55,  4.67s/it]"
          ],
          "name": "stderr"
        },
        {
          "output_type": "stream",
          "text": [
            "training loss: 2.7741832733154297\n",
            "training loss: 2.8641889095306396\n",
            "training loss: 2.990351676940918\n"
          ],
          "name": "stdout"
        },
        {
          "output_type": "stream",
          "text": [
            "\rtraining:   0%|          | 25/100000 [02:36<125:37:22,  4.52s/it]"
          ],
          "name": "stderr"
        },
        {
          "output_type": "stream",
          "text": [
            "training loss: 3.0057928562164307\n",
            "training loss: 2.9542465209960938\n",
            "training loss: 2.743654727935791\n"
          ],
          "name": "stdout"
        },
        {
          "output_type": "stream",
          "text": [
            "\rtraining:   0%|          | 28/100000 [02:48<122:55:41,  4.43s/it]"
          ],
          "name": "stderr"
        },
        {
          "output_type": "stream",
          "text": [
            "training loss: 2.866170644760132\n",
            "training loss: 2.8772919178009033\n",
            "training loss: 2.775728225708008\n"
          ],
          "name": "stdout"
        },
        {
          "output_type": "stream",
          "text": [
            "training:   0%|          | 31/100000 [03:01<121:05:13,  4.36s/it]"
          ],
          "name": "stderr"
        },
        {
          "output_type": "stream",
          "text": [
            "training loss: 2.638491630554199\n",
            "training loss: 2.805297374725342\n",
            "training loss: 2.802560329437256\n"
          ],
          "name": "stdout"
        },
        {
          "output_type": "stream",
          "text": [
            "\rtraining:   0%|          | 34/100000 [03:14<119:48:59,  4.31s/it]"
          ],
          "name": "stderr"
        },
        {
          "output_type": "stream",
          "text": [
            "training loss: 2.933816909790039\n",
            "training loss: 2.8121604919433594\n",
            "training loss: 2.8716797828674316\n"
          ],
          "name": "stdout"
        },
        {
          "output_type": "stream",
          "text": [
            "\rtraining:   0%|          | 37/100000 [03:26<118:58:26,  4.28s/it]"
          ],
          "name": "stderr"
        },
        {
          "output_type": "stream",
          "text": [
            "training loss: 2.7550301551818848\n",
            "training loss: 2.6521143913269043\n",
            "training loss: 2.809826135635376\n"
          ],
          "name": "stdout"
        },
        {
          "output_type": "stream",
          "text": [
            "\rtraining:   0%|          | 40/100000 [03:39<118:24:07,  4.26s/it]"
          ],
          "name": "stderr"
        },
        {
          "output_type": "stream",
          "text": [
            "training loss: 2.7502756118774414\n",
            "training loss: 2.8351831436157227\n",
            "training loss: 2.8937788009643555\n"
          ],
          "name": "stdout"
        },
        {
          "output_type": "stream",
          "text": [
            "training:   0%|          | 43/100000 [03:52<118:00:10,  4.25s/it]"
          ],
          "name": "stderr"
        },
        {
          "output_type": "stream",
          "text": [
            "training loss: 2.711886405944824\n",
            "training loss: 2.7741150856018066\n",
            "training loss: 2.8214001655578613\n"
          ],
          "name": "stdout"
        },
        {
          "output_type": "stream",
          "text": [
            "\rtraining:   0%|          | 46/100000 [04:04<117:40:46,  4.24s/it]"
          ],
          "name": "stderr"
        },
        {
          "output_type": "stream",
          "text": [
            "training loss: 2.6787288188934326\n",
            "training loss: 2.73917818069458\n",
            "training loss: 2.5944840908050537\n"
          ],
          "name": "stdout"
        },
        {
          "output_type": "stream",
          "text": [
            "\rtraining:   0%|          | 49/100000 [04:17<117:30:51,  4.23s/it]"
          ],
          "name": "stderr"
        },
        {
          "output_type": "stream",
          "text": [
            "training loss: 2.8108413219451904\n",
            "training loss: 2.752401828765869\n",
            "training loss: 2.676323413848877\n"
          ],
          "name": "stdout"
        },
        {
          "output_type": "stream",
          "text": [
            "\rtraining:   0%|          | 52/100000 [04:29<117:22:51,  4.23s/it]"
          ],
          "name": "stderr"
        },
        {
          "output_type": "stream",
          "text": [
            "training loss: 2.6209192276000977\n",
            "training loss: 2.564295768737793\n",
            "training loss: 2.631558418273926\n"
          ],
          "name": "stdout"
        },
        {
          "output_type": "stream",
          "text": [
            "training:   0%|          | 55/100000 [04:42<117:17:23,  4.22s/it]"
          ],
          "name": "stderr"
        },
        {
          "output_type": "stream",
          "text": [
            "training loss: 2.634819746017456\n",
            "training loss: 2.687070608139038\n",
            "training loss: 2.7287726402282715\n"
          ],
          "name": "stdout"
        },
        {
          "output_type": "stream",
          "text": [
            "\rtraining:   0%|          | 58/100000 [04:55<117:14:15,  4.22s/it]"
          ],
          "name": "stderr"
        },
        {
          "output_type": "stream",
          "text": [
            "training loss: 3.140918731689453\n",
            "training loss: 2.6706018447875977\n",
            "training loss: 2.5811831951141357\n"
          ],
          "name": "stdout"
        },
        {
          "output_type": "stream",
          "text": [
            "\rtraining:   0%|          | 61/100000 [05:07<117:12:37,  4.22s/it]"
          ],
          "name": "stderr"
        },
        {
          "output_type": "stream",
          "text": [
            "training loss: 2.578854560852051\n",
            "training loss: 2.647209405899048\n",
            "training loss: 2.545023202896118\n"
          ],
          "name": "stdout"
        },
        {
          "output_type": "stream",
          "text": [
            "training:   0%|          | 64/100000 [05:20<117:06:46,  4.22s/it]"
          ],
          "name": "stderr"
        },
        {
          "output_type": "stream",
          "text": [
            "training loss: 2.6250431537628174\n",
            "training loss: 2.6514880657196045\n",
            "training loss: 2.576813220977783\n"
          ],
          "name": "stdout"
        },
        {
          "output_type": "stream",
          "text": [
            "\rtraining:   0%|          | 67/100000 [05:33<117:06:32,  4.22s/it]"
          ],
          "name": "stderr"
        },
        {
          "output_type": "stream",
          "text": [
            "training loss: 2.82906436920166\n",
            "training loss: 2.532377004623413\n",
            "training loss: 2.467146873474121\n"
          ],
          "name": "stdout"
        },
        {
          "output_type": "stream",
          "text": [
            "\rtraining:   0%|          | 70/100000 [05:45<117:05:12,  4.22s/it]"
          ],
          "name": "stderr"
        },
        {
          "output_type": "stream",
          "text": [
            "training loss: 2.579739809036255\n",
            "training loss: 2.596017360687256\n",
            "training loss: 2.7293195724487305\n"
          ],
          "name": "stdout"
        },
        {
          "output_type": "stream",
          "text": [
            "\rtraining:   0%|          | 73/100000 [05:58<117:02:01,  4.22s/it]"
          ],
          "name": "stderr"
        },
        {
          "output_type": "stream",
          "text": [
            "training loss: 2.5101921558380127\n",
            "training loss: 2.4458372592926025\n",
            "training loss: 2.5623815059661865\n"
          ],
          "name": "stdout"
        },
        {
          "output_type": "stream",
          "text": [
            "training:   0%|          | 76/100000 [06:11<117:02:41,  4.22s/it]"
          ],
          "name": "stderr"
        },
        {
          "output_type": "stream",
          "text": [
            "training loss: 2.532531261444092\n",
            "training loss: 2.710239887237549\n",
            "training loss: 2.4995651245117188\n"
          ],
          "name": "stdout"
        },
        {
          "output_type": "stream",
          "text": [
            "\rtraining:   0%|          | 79/100000 [06:23<117:04:29,  4.22s/it]"
          ],
          "name": "stderr"
        },
        {
          "output_type": "stream",
          "text": [
            "training loss: 2.5346102714538574\n",
            "training loss: 2.4535443782806396\n",
            "training loss: 2.6023852825164795\n"
          ],
          "name": "stdout"
        },
        {
          "output_type": "stream",
          "text": [
            "\rtraining:   0%|          | 82/100000 [06:36<117:04:30,  4.22s/it]"
          ],
          "name": "stderr"
        },
        {
          "output_type": "stream",
          "text": [
            "training loss: 2.46506404876709\n",
            "training loss: 2.551950693130493\n",
            "training loss: 2.5798048973083496\n"
          ],
          "name": "stdout"
        },
        {
          "output_type": "stream",
          "text": [
            "\rtraining:   0%|          | 85/100000 [06:49<117:02:00,  4.22s/it]"
          ],
          "name": "stderr"
        },
        {
          "output_type": "stream",
          "text": [
            "training loss: 2.5123679637908936\n",
            "training loss: 2.581052541732788\n",
            "training loss: 2.4176981449127197\n"
          ],
          "name": "stdout"
        },
        {
          "output_type": "stream",
          "text": [
            "training:   0%|          | 88/100000 [07:01<117:01:14,  4.22s/it]"
          ],
          "name": "stderr"
        },
        {
          "output_type": "stream",
          "text": [
            "training loss: 2.53242826461792\n",
            "training loss: 2.5422122478485107\n",
            "training loss: 2.4948370456695557\n"
          ],
          "name": "stdout"
        },
        {
          "output_type": "stream",
          "text": [
            "\rtraining:   0%|          | 91/100000 [07:14<117:00:54,  4.22s/it]"
          ],
          "name": "stderr"
        },
        {
          "output_type": "stream",
          "text": [
            "training loss: 2.3387184143066406\n",
            "training loss: 2.4138636589050293\n",
            "training loss: 2.39925479888916\n"
          ],
          "name": "stdout"
        },
        {
          "output_type": "stream",
          "text": [
            "\rtraining:   0%|          | 94/100000 [07:27<117:00:48,  4.22s/it]"
          ],
          "name": "stderr"
        },
        {
          "output_type": "stream",
          "text": [
            "training loss: 2.4070956707000732\n",
            "training loss: 2.4719345569610596\n",
            "training loss: 2.352675437927246\n"
          ],
          "name": "stdout"
        },
        {
          "output_type": "stream",
          "text": [
            "\rtraining:   0%|          | 97/100000 [07:39<116:59:45,  4.22s/it]"
          ],
          "name": "stderr"
        },
        {
          "output_type": "stream",
          "text": [
            "training loss: 2.3222436904907227\n",
            "training loss: 2.4716315269470215\n",
            "training loss: 2.3461265563964844\n"
          ],
          "name": "stdout"
        },
        {
          "output_type": "stream",
          "text": [
            "training:   0%|          | 100/100000 [07:52<117:02:18,  4.22s/it]"
          ],
          "name": "stderr"
        },
        {
          "output_type": "stream",
          "text": [
            "training loss: 2.322355031967163\n",
            "training loss: 2.385317802429199\n",
            "validation loss: 2.59498929977417\n",
            "training loss: 2.5007941722869873\n"
          ],
          "name": "stdout"
        },
        {
          "output_type": "stream",
          "text": [
            "\rtraining:   0%|          | 103/100000 [08:05<117:49:47,  4.25s/it]"
          ],
          "name": "stderr"
        },
        {
          "output_type": "stream",
          "text": [
            "training loss: 2.44685697555542\n",
            "training loss: 2.2485783100128174\n",
            "training loss: 2.425727128982544\n"
          ],
          "name": "stdout"
        },
        {
          "output_type": "stream",
          "text": [
            "\rtraining:   0%|          | 106/100000 [08:17<117:36:35,  4.24s/it]"
          ],
          "name": "stderr"
        },
        {
          "output_type": "stream",
          "text": [
            "training loss: 2.400853157043457\n",
            "training loss: 2.4936769008636475\n",
            "training loss: 2.31817889213562\n"
          ],
          "name": "stdout"
        },
        {
          "output_type": "stream",
          "text": [
            "training:   0%|          | 109/100000 [08:30<117:24:37,  4.23s/it]"
          ],
          "name": "stderr"
        },
        {
          "output_type": "stream",
          "text": [
            "training loss: 2.40816593170166\n",
            "training loss: 2.301593542098999\n",
            "training loss: 2.3204891681671143\n"
          ],
          "name": "stdout"
        },
        {
          "output_type": "stream",
          "text": [
            "\rtraining:   0%|          | 112/100000 [08:43<117:20:17,  4.23s/it]"
          ],
          "name": "stderr"
        },
        {
          "output_type": "stream",
          "text": [
            "training loss: 2.338132619857788\n",
            "training loss: 2.357775926589966\n",
            "training loss: 2.3618295192718506\n"
          ],
          "name": "stdout"
        },
        {
          "output_type": "stream",
          "text": [
            "\rtraining:   0%|          | 115/100000 [08:55<117:15:56,  4.23s/it]"
          ],
          "name": "stderr"
        },
        {
          "output_type": "stream",
          "text": [
            "training loss: 2.365417718887329\n",
            "training loss: 2.3173093795776367\n",
            "training loss: 2.2914719581604004\n"
          ],
          "name": "stdout"
        },
        {
          "output_type": "stream",
          "text": [
            "\rtraining:   0%|          | 118/100000 [09:08<117:18:11,  4.23s/it]"
          ],
          "name": "stderr"
        },
        {
          "output_type": "stream",
          "text": [
            "training loss: 2.2895185947418213\n",
            "training loss: 2.2597310543060303\n",
            "training loss: 2.402580499649048\n"
          ],
          "name": "stdout"
        },
        {
          "output_type": "stream",
          "text": [
            "training:   0%|          | 121/100000 [09:21<117:15:03,  4.23s/it]"
          ],
          "name": "stderr"
        },
        {
          "output_type": "stream",
          "text": [
            "training loss: 2.4477572441101074\n",
            "training loss: 2.3115921020507812\n",
            "training loss: 2.4222280979156494\n"
          ],
          "name": "stdout"
        },
        {
          "output_type": "stream",
          "text": [
            "\rtraining:   0%|          | 124/100000 [09:33<117:14:51,  4.23s/it]"
          ],
          "name": "stderr"
        },
        {
          "output_type": "stream",
          "text": [
            "training loss: 2.2307939529418945\n",
            "training loss: 2.293503761291504\n",
            "training loss: 2.3480708599090576\n"
          ],
          "name": "stdout"
        },
        {
          "output_type": "stream",
          "text": [
            "\rtraining:   0%|          | 127/100000 [09:46<117:12:43,  4.23s/it]"
          ],
          "name": "stderr"
        },
        {
          "output_type": "stream",
          "text": [
            "training loss: 2.2793831825256348\n",
            "training loss: 2.312413454055786\n",
            "training loss: 2.2235374450683594\n"
          ],
          "name": "stdout"
        },
        {
          "output_type": "stream",
          "text": [
            "\rtraining:   0%|          | 130/100000 [09:59<117:15:11,  4.23s/it]"
          ],
          "name": "stderr"
        },
        {
          "output_type": "stream",
          "text": [
            "training loss: 2.215465784072876\n",
            "training loss: 2.2159862518310547\n",
            "training loss: 2.206622362136841\n"
          ],
          "name": "stdout"
        },
        {
          "output_type": "stream",
          "text": [
            "training:   0%|          | 133/100000 [10:12<117:17:01,  4.23s/it]"
          ],
          "name": "stderr"
        },
        {
          "output_type": "stream",
          "text": [
            "training loss: 2.147183895111084\n",
            "training loss: 2.1068527698516846\n",
            "training loss: 2.5696463584899902\n"
          ],
          "name": "stdout"
        },
        {
          "output_type": "stream",
          "text": [
            "\rtraining:   0%|          | 136/100000 [10:24<117:14:41,  4.23s/it]"
          ],
          "name": "stderr"
        },
        {
          "output_type": "stream",
          "text": [
            "training loss: 2.2968931198120117\n",
            "training loss: 2.2889082431793213\n",
            "training loss: 2.2743473052978516\n"
          ],
          "name": "stdout"
        },
        {
          "output_type": "stream",
          "text": [
            "\rtraining:   0%|          | 139/100000 [10:37<117:18:35,  4.23s/it]"
          ],
          "name": "stderr"
        },
        {
          "output_type": "stream",
          "text": [
            "training loss: 2.680854558944702\n",
            "training loss: 2.2234537601470947\n",
            "training loss: 2.4682188034057617\n"
          ],
          "name": "stdout"
        },
        {
          "output_type": "stream",
          "text": [
            "training:   0%|          | 142/100000 [10:50<117:17:52,  4.23s/it]"
          ],
          "name": "stderr"
        },
        {
          "output_type": "stream",
          "text": [
            "training loss: 2.337632417678833\n",
            "training loss: 2.1729660034179688\n",
            "training loss: 2.2634334564208984\n"
          ],
          "name": "stdout"
        },
        {
          "output_type": "stream",
          "text": [
            "\rtraining:   0%|          | 145/100000 [11:02<117:15:48,  4.23s/it]"
          ],
          "name": "stderr"
        },
        {
          "output_type": "stream",
          "text": [
            "training loss: 2.211653709411621\n",
            "training loss: 2.2700300216674805\n",
            "training loss: 2.4763925075531006\n"
          ],
          "name": "stdout"
        },
        {
          "output_type": "stream",
          "text": [
            "\rtraining:   0%|          | 148/100000 [11:15<117:12:30,  4.23s/it]"
          ],
          "name": "stderr"
        },
        {
          "output_type": "stream",
          "text": [
            "training loss: 2.163045644760132\n",
            "training loss: 2.2068638801574707\n",
            "training loss: 2.2727251052856445\n"
          ],
          "name": "stdout"
        },
        {
          "output_type": "stream",
          "text": [
            "\rtraining:   0%|          | 151/100000 [11:28<117:11:49,  4.23s/it]"
          ],
          "name": "stderr"
        },
        {
          "output_type": "stream",
          "text": [
            "training loss: 2.1797869205474854\n",
            "training loss: 2.250875234603882\n",
            "training loss: 2.275771141052246\n"
          ],
          "name": "stdout"
        },
        {
          "output_type": "stream",
          "text": [
            "training:   0%|          | 154/100000 [11:40<117:10:19,  4.22s/it]"
          ],
          "name": "stderr"
        },
        {
          "output_type": "stream",
          "text": [
            "training loss: 2.149250030517578\n",
            "training loss: 2.3241193294525146\n",
            "training loss: 2.245950698852539\n"
          ],
          "name": "stdout"
        },
        {
          "output_type": "stream",
          "text": [
            "\rtraining:   0%|          | 157/100000 [11:53<117:09:22,  4.22s/it]"
          ],
          "name": "stderr"
        },
        {
          "output_type": "stream",
          "text": [
            "training loss: 2.2924022674560547\n",
            "training loss: 2.1453850269317627\n",
            "training loss: 2.353057384490967\n"
          ],
          "name": "stdout"
        },
        {
          "output_type": "stream",
          "text": [
            "\rtraining:   0%|          | 160/100000 [12:06<117:10:13,  4.22s/it]"
          ],
          "name": "stderr"
        },
        {
          "output_type": "stream",
          "text": [
            "training loss: 2.162937641143799\n",
            "training loss: 2.2649898529052734\n",
            "training loss: 2.2562665939331055\n"
          ],
          "name": "stdout"
        },
        {
          "output_type": "stream",
          "text": [
            "\rtraining:   0%|          | 163/100000 [12:18<117:13:01,  4.23s/it]"
          ],
          "name": "stderr"
        },
        {
          "output_type": "stream",
          "text": [
            "training loss: 2.2835941314697266\n",
            "training loss: 2.2279300689697266\n",
            "training loss: 2.175661087036133\n"
          ],
          "name": "stdout"
        },
        {
          "output_type": "stream",
          "text": [
            "training:   0%|          | 166/100000 [12:31<117:10:50,  4.23s/it]"
          ],
          "name": "stderr"
        },
        {
          "output_type": "stream",
          "text": [
            "training loss: 2.240882396697998\n",
            "training loss: 2.148780107498169\n",
            "training loss: 2.2016098499298096\n"
          ],
          "name": "stdout"
        },
        {
          "output_type": "stream",
          "text": [
            "\rtraining:   0%|          | 169/100000 [12:44<117:10:07,  4.23s/it]"
          ],
          "name": "stderr"
        },
        {
          "output_type": "stream",
          "text": [
            "training loss: 2.0746653079986572\n",
            "training loss: 2.066070079803467\n",
            "training loss: 2.11385440826416\n"
          ],
          "name": "stdout"
        },
        {
          "output_type": "stream",
          "text": [
            "\rtraining:   0%|          | 172/100000 [12:56<117:09:07,  4.22s/it]"
          ],
          "name": "stderr"
        },
        {
          "output_type": "stream",
          "text": [
            "training loss: 2.1682896614074707\n",
            "training loss: 2.1284565925598145\n",
            "training loss: 2.1822726726531982\n"
          ],
          "name": "stdout"
        },
        {
          "output_type": "stream",
          "text": [
            "\rtraining:   0%|          | 175/100000 [13:09<117:05:38,  4.22s/it]"
          ],
          "name": "stderr"
        },
        {
          "output_type": "stream",
          "text": [
            "training loss: 2.224839925765991\n",
            "training loss: 2.4145092964172363\n",
            "training loss: 2.0779027938842773\n"
          ],
          "name": "stdout"
        },
        {
          "output_type": "stream",
          "text": [
            "training:   0%|          | 178/100000 [13:22<117:05:27,  4.22s/it]"
          ],
          "name": "stderr"
        },
        {
          "output_type": "stream",
          "text": [
            "training loss: 2.2944254875183105\n",
            "training loss: 2.3147048950195312\n",
            "training loss: 2.26189923286438\n"
          ],
          "name": "stdout"
        },
        {
          "output_type": "stream",
          "text": [
            "\rtraining:   0%|          | 181/100000 [13:34<117:04:25,  4.22s/it]"
          ],
          "name": "stderr"
        },
        {
          "output_type": "stream",
          "text": [
            "training loss: 2.07942271232605\n",
            "training loss: 2.0474164485931396\n",
            "training loss: 2.1782917976379395\n"
          ],
          "name": "stdout"
        },
        {
          "output_type": "stream",
          "text": [
            "\rtraining:   0%|          | 184/100000 [13:47<117:02:53,  4.22s/it]"
          ],
          "name": "stderr"
        },
        {
          "output_type": "stream",
          "text": [
            "training loss: 2.1850547790527344\n",
            "training loss: 2.0172247886657715\n",
            "training loss: 2.1998629570007324\n"
          ],
          "name": "stdout"
        },
        {
          "output_type": "stream",
          "text": [
            "training:   0%|          | 187/100000 [14:00<117:00:26,  4.22s/it]"
          ],
          "name": "stderr"
        },
        {
          "output_type": "stream",
          "text": [
            "training loss: 2.33553409576416\n",
            "training loss: 2.2408394813537598\n",
            "training loss: 2.1313793659210205\n"
          ],
          "name": "stdout"
        },
        {
          "output_type": "stream",
          "text": [
            "\rtraining:   0%|          | 190/100000 [14:12<116:57:13,  4.22s/it]"
          ],
          "name": "stderr"
        },
        {
          "output_type": "stream",
          "text": [
            "training loss: 2.3361740112304688\n",
            "training loss: 2.1452300548553467\n",
            "training loss: 2.099186897277832\n"
          ],
          "name": "stdout"
        },
        {
          "output_type": "stream",
          "text": [
            "\rtraining:   0%|          | 193/100000 [14:25<116:56:29,  4.22s/it]"
          ],
          "name": "stderr"
        },
        {
          "output_type": "stream",
          "text": [
            "training loss: 2.3636317253112793\n",
            "training loss: 2.122527837753296\n",
            "training loss: 2.0970945358276367\n"
          ],
          "name": "stdout"
        },
        {
          "output_type": "stream",
          "text": [
            "\rtraining:   0%|          | 196/100000 [14:38<116:57:35,  4.22s/it]"
          ],
          "name": "stderr"
        },
        {
          "output_type": "stream",
          "text": [
            "training loss: 2.2036337852478027\n",
            "training loss: 2.074613571166992\n",
            "training loss: 2.1189067363739014\n"
          ],
          "name": "stdout"
        },
        {
          "output_type": "stream",
          "text": [
            "training:   0%|          | 199/100000 [14:50<116:57:53,  4.22s/it]"
          ],
          "name": "stderr"
        },
        {
          "output_type": "stream",
          "text": [
            "training loss: 2.18611216545105\n",
            "training loss: 2.1375482082366943\n",
            "training loss: 2.1041882038116455\n",
            "validation loss: 2.063629388809204\n"
          ],
          "name": "stdout"
        },
        {
          "output_type": "stream",
          "text": [
            "\rtraining:   0%|          | 202/100000 [15:03<117:45:11,  4.25s/it]"
          ],
          "name": "stderr"
        },
        {
          "output_type": "stream",
          "text": [
            "training loss: 2.0634689331054688\n",
            "training loss: 2.0981693267822266\n",
            "training loss: 2.167132616043091\n"
          ],
          "name": "stdout"
        },
        {
          "output_type": "stream",
          "text": [
            "\rtraining:   0%|          | 205/100000 [15:16<117:33:52,  4.24s/it]"
          ],
          "name": "stderr"
        },
        {
          "output_type": "stream",
          "text": [
            "training loss: 2.148256778717041\n",
            "training loss: 2.1387500762939453\n",
            "training loss: 2.141430139541626\n"
          ],
          "name": "stdout"
        },
        {
          "output_type": "stream",
          "text": [
            "\rtraining:   0%|          | 208/100000 [15:29<117:21:20,  4.23s/it]"
          ],
          "name": "stderr"
        },
        {
          "output_type": "stream",
          "text": [
            "training loss: 2.1660547256469727\n",
            "training loss: 1.9431099891662598\n",
            "training loss: 2.0458788871765137\n"
          ],
          "name": "stdout"
        },
        {
          "output_type": "stream",
          "text": [
            "training:   0%|          | 211/100000 [15:41<117:12:13,  4.23s/it]"
          ],
          "name": "stderr"
        },
        {
          "output_type": "stream",
          "text": [
            "training loss: 2.0502328872680664\n",
            "training loss: 2.1999380588531494\n",
            "training loss: 2.081078052520752\n"
          ],
          "name": "stdout"
        },
        {
          "output_type": "stream",
          "text": [
            "\rtraining:   0%|          | 214/100000 [15:54<117:03:19,  4.22s/it]"
          ],
          "name": "stderr"
        },
        {
          "output_type": "stream",
          "text": [
            "training loss: 1.9613101482391357\n",
            "training loss: 1.9224562644958496\n",
            "training loss: 2.1246628761291504\n"
          ],
          "name": "stdout"
        },
        {
          "output_type": "stream",
          "text": [
            "\rtraining:   0%|          | 217/100000 [16:06<117:00:04,  4.22s/it]"
          ],
          "name": "stderr"
        },
        {
          "output_type": "stream",
          "text": [
            "training loss: 2.126553535461426\n",
            "training loss: 2.0891692638397217\n",
            "training loss: 2.1007297039031982\n"
          ],
          "name": "stdout"
        },
        {
          "output_type": "stream",
          "text": [
            "\rtraining:   0%|          | 220/100000 [16:19<116:54:57,  4.22s/it]"
          ],
          "name": "stderr"
        },
        {
          "output_type": "stream",
          "text": [
            "training loss: 2.055436611175537\n",
            "training loss: 2.045224905014038\n",
            "training loss: 2.0478861331939697\n"
          ],
          "name": "stdout"
        },
        {
          "output_type": "stream",
          "text": [
            "training:   0%|          | 223/100000 [16:32<116:52:58,  4.22s/it]"
          ],
          "name": "stderr"
        },
        {
          "output_type": "stream",
          "text": [
            "training loss: 2.161461353302002\n",
            "training loss: 2.0586631298065186\n",
            "training loss: 2.077650547027588\n"
          ],
          "name": "stdout"
        },
        {
          "output_type": "stream",
          "text": [
            "\rtraining:   0%|          | 226/100000 [16:44<116:51:30,  4.22s/it]"
          ],
          "name": "stderr"
        },
        {
          "output_type": "stream",
          "text": [
            "training loss: 1.950851559638977\n",
            "training loss: 2.1080362796783447\n",
            "training loss: 2.0512707233428955\n"
          ],
          "name": "stdout"
        },
        {
          "output_type": "stream",
          "text": [
            "\rtraining:   0%|          | 229/100000 [16:57<116:49:46,  4.22s/it]"
          ],
          "name": "stderr"
        },
        {
          "output_type": "stream",
          "text": [
            "training loss: 2.1076102256774902\n",
            "training loss: 2.0316810607910156\n",
            "training loss: 2.0502965450286865\n"
          ],
          "name": "stdout"
        },
        {
          "output_type": "stream",
          "text": [
            "training:   0%|          | 232/100000 [17:10<116:49:51,  4.22s/it]"
          ],
          "name": "stderr"
        },
        {
          "output_type": "stream",
          "text": [
            "training loss: 2.0891618728637695\n",
            "training loss: 2.0832138061523438\n",
            "training loss: 2.0786261558532715\n"
          ],
          "name": "stdout"
        },
        {
          "output_type": "stream",
          "text": [
            "\rtraining:   0%|          | 235/100000 [17:22<116:50:06,  4.22s/it]"
          ],
          "name": "stderr"
        },
        {
          "output_type": "stream",
          "text": [
            "training loss: 2.0752193927764893\n",
            "training loss: 2.127039909362793\n",
            "training loss: 2.0598769187927246\n"
          ],
          "name": "stdout"
        },
        {
          "output_type": "stream",
          "text": [
            "\rtraining:   0%|          | 238/100000 [17:35<116:47:56,  4.21s/it]"
          ],
          "name": "stderr"
        },
        {
          "output_type": "stream",
          "text": [
            "training loss: 1.9084274768829346\n",
            "training loss: 2.1288976669311523\n",
            "training loss: 2.0958151817321777\n"
          ],
          "name": "stdout"
        },
        {
          "output_type": "stream",
          "text": [
            "\rtraining:   0%|          | 241/100000 [17:48<116:55:13,  4.22s/it]"
          ],
          "name": "stderr"
        },
        {
          "output_type": "stream",
          "text": [
            "training loss: 2.3943991661071777\n",
            "training loss: 1.9792649745941162\n",
            "training loss: 2.1444292068481445\n"
          ],
          "name": "stdout"
        },
        {
          "output_type": "stream",
          "text": [
            "training:   0%|          | 244/100000 [18:00<116:56:51,  4.22s/it]"
          ],
          "name": "stderr"
        },
        {
          "output_type": "stream",
          "text": [
            "training loss: 1.9410635232925415\n",
            "training loss: 2.0451176166534424\n",
            "training loss: 2.1139562129974365\n"
          ],
          "name": "stdout"
        },
        {
          "output_type": "stream",
          "text": [
            "\rtraining:   0%|          | 247/100000 [18:13<116:59:21,  4.22s/it]"
          ],
          "name": "stderr"
        },
        {
          "output_type": "stream",
          "text": [
            "training loss: 2.0716664791107178\n",
            "training loss: 2.024733543395996\n",
            "training loss: 2.028212785720825\n"
          ],
          "name": "stdout"
        },
        {
          "output_type": "stream",
          "text": [
            "\rtraining:   0%|          | 250/100000 [18:26<116:59:53,  4.22s/it]"
          ],
          "name": "stderr"
        },
        {
          "output_type": "stream",
          "text": [
            "training loss: 2.0650339126586914\n",
            "training loss: 2.005770206451416\n",
            "training loss: 2.0980169773101807\n"
          ],
          "name": "stdout"
        },
        {
          "output_type": "stream",
          "text": [
            "\rtraining:   0%|          | 253/100000 [18:38<116:55:19,  4.22s/it]"
          ],
          "name": "stderr"
        },
        {
          "output_type": "stream",
          "text": [
            "training loss: 2.0471043586730957\n",
            "training loss: 2.0362794399261475\n",
            "training loss: 2.00127911567688\n"
          ],
          "name": "stdout"
        },
        {
          "output_type": "stream",
          "text": [
            "training:   0%|          | 256/100000 [18:51<116:52:26,  4.22s/it]"
          ],
          "name": "stderr"
        },
        {
          "output_type": "stream",
          "text": [
            "training loss: 2.2066397666931152\n",
            "training loss: 1.974639654159546\n",
            "training loss: 2.039738655090332\n"
          ],
          "name": "stdout"
        },
        {
          "output_type": "stream",
          "text": [
            "\rtraining:   0%|          | 259/100000 [19:04<116:53:36,  4.22s/it]"
          ],
          "name": "stderr"
        },
        {
          "output_type": "stream",
          "text": [
            "training loss: 2.002288341522217\n",
            "training loss: 1.8218138217926025\n",
            "training loss: 1.907913088798523\n"
          ],
          "name": "stdout"
        },
        {
          "output_type": "stream",
          "text": [
            "\rtraining:   0%|          | 262/100000 [19:16<116:50:27,  4.22s/it]"
          ],
          "name": "stderr"
        },
        {
          "output_type": "stream",
          "text": [
            "training loss: 1.9779573678970337\n",
            "training loss: 2.0003881454467773\n",
            "training loss: 1.9908262491226196\n"
          ],
          "name": "stdout"
        },
        {
          "output_type": "stream",
          "text": [
            "\rtraining:   0%|          | 265/100000 [19:29<116:48:12,  4.22s/it]"
          ],
          "name": "stderr"
        },
        {
          "output_type": "stream",
          "text": [
            "training loss: 1.9869049787521362\n",
            "training loss: 2.1432104110717773\n",
            "training loss: 1.9513030052185059\n"
          ],
          "name": "stdout"
        },
        {
          "output_type": "stream",
          "text": [
            "training:   0%|          | 268/100000 [19:42<116:51:33,  4.22s/it]"
          ],
          "name": "stderr"
        },
        {
          "output_type": "stream",
          "text": [
            "training loss: 1.9383230209350586\n",
            "training loss: 2.019587278366089\n",
            "training loss: 2.0396347045898438\n"
          ],
          "name": "stdout"
        },
        {
          "output_type": "stream",
          "text": [
            "\rtraining:   0%|          | 271/100000 [19:54<116:48:58,  4.22s/it]"
          ],
          "name": "stderr"
        },
        {
          "output_type": "stream",
          "text": [
            "training loss: 1.9405611753463745\n",
            "training loss: 1.9791146516799927\n",
            "training loss: 1.9841299057006836\n"
          ],
          "name": "stdout"
        },
        {
          "output_type": "stream",
          "text": [
            "\rtraining:   0%|          | 274/100000 [20:07<116:48:41,  4.22s/it]"
          ],
          "name": "stderr"
        },
        {
          "output_type": "stream",
          "text": [
            "training loss: 2.0585360527038574\n",
            "training loss: 1.9525152444839478\n",
            "training loss: 2.2155935764312744\n"
          ],
          "name": "stdout"
        },
        {
          "output_type": "stream",
          "text": [
            "\rtraining:   0%|          | 277/100000 [20:19<116:47:12,  4.22s/it]"
          ],
          "name": "stderr"
        },
        {
          "output_type": "stream",
          "text": [
            "training loss: 1.85988187789917\n",
            "training loss: 1.9484277963638306\n",
            "training loss: 1.9816313982009888\n"
          ],
          "name": "stdout"
        },
        {
          "output_type": "stream",
          "text": [
            "training:   0%|          | 280/100000 [20:32<116:45:49,  4.22s/it]"
          ],
          "name": "stderr"
        },
        {
          "output_type": "stream",
          "text": [
            "training loss: 1.889746904373169\n",
            "training loss: 2.085813522338867\n",
            "training loss: 2.021477222442627\n"
          ],
          "name": "stdout"
        },
        {
          "output_type": "stream",
          "text": [
            "\rtraining:   0%|          | 283/100000 [20:45<116:46:08,  4.22s/it]"
          ],
          "name": "stderr"
        },
        {
          "output_type": "stream",
          "text": [
            "training loss: 1.9905211925506592\n",
            "training loss: 1.8100159168243408\n",
            "training loss: 1.996856451034546\n"
          ],
          "name": "stdout"
        },
        {
          "output_type": "stream",
          "text": [
            "\rtraining:   0%|          | 286/100000 [20:57<116:45:34,  4.22s/it]"
          ],
          "name": "stderr"
        },
        {
          "output_type": "stream",
          "text": [
            "training loss: 1.987565040588379\n",
            "training loss: 1.9367361068725586\n",
            "training loss: 1.9617648124694824\n"
          ],
          "name": "stdout"
        },
        {
          "output_type": "stream",
          "text": [
            "training:   0%|          | 289/100000 [21:10<116:45:54,  4.22s/it]"
          ],
          "name": "stderr"
        },
        {
          "output_type": "stream",
          "text": [
            "training loss: 1.914829969406128\n",
            "training loss: 2.2994771003723145\n",
            "training loss: 1.9760892391204834\n"
          ],
          "name": "stdout"
        },
        {
          "output_type": "stream",
          "text": [
            "\rtraining:   0%|          | 292/100000 [21:23<116:45:51,  4.22s/it]"
          ],
          "name": "stderr"
        },
        {
          "output_type": "stream",
          "text": [
            "training loss: 1.9116480350494385\n",
            "training loss: 1.9846376180648804\n",
            "training loss: 2.01029109954834\n"
          ],
          "name": "stdout"
        },
        {
          "output_type": "stream",
          "text": [
            "\rtraining:   0%|          | 295/100000 [21:35<116:45:08,  4.22s/it]"
          ],
          "name": "stderr"
        },
        {
          "output_type": "stream",
          "text": [
            "training loss: 2.046088933944702\n",
            "training loss: 1.9325034618377686\n",
            "training loss: 2.0526459217071533\n"
          ],
          "name": "stdout"
        },
        {
          "output_type": "stream",
          "text": [
            "\rtraining:   0%|          | 298/100000 [21:48<116:46:28,  4.22s/it]"
          ],
          "name": "stderr"
        },
        {
          "output_type": "stream",
          "text": [
            "training loss: 1.9189822673797607\n",
            "training loss: 1.9323914051055908\n",
            "training loss: 1.7296745777130127\n"
          ],
          "name": "stdout"
        },
        {
          "output_type": "stream",
          "text": [
            "\rtraining:   0%|          | 298/100000 [22:00<116:46:28,  4.22s/it]"
          ],
          "name": "stderr"
        },
        {
          "output_type": "stream",
          "text": [
            "training loss: 1.963698148727417\n"
          ],
          "name": "stdout"
        },
        {
          "output_type": "stream",
          "text": [
            "\rtraining:   0%|          | 301/100000 [22:01<117:34:41,  4.25s/it]"
          ],
          "name": "stderr"
        },
        {
          "output_type": "stream",
          "text": [
            "validation loss: 1.882667064666748\n",
            "training loss: 1.9444007873535156\n",
            "training loss: 1.869612693786621\n"
          ],
          "name": "stdout"
        },
        {
          "output_type": "stream",
          "text": [
            "\rtraining:   0%|          | 304/100000 [22:14<117:19:22,  4.24s/it]"
          ],
          "name": "stderr"
        },
        {
          "output_type": "stream",
          "text": [
            "training loss: 2.1351261138916016\n",
            "training loss: 1.928429126739502\n",
            "training loss: 1.9682643413543701\n"
          ],
          "name": "stdout"
        },
        {
          "output_type": "stream",
          "text": [
            "\rtraining:   0%|          | 307/100000 [22:26<117:09:53,  4.23s/it]"
          ],
          "name": "stderr"
        },
        {
          "output_type": "stream",
          "text": [
            "training loss: 2.005124807357788\n",
            "training loss: 1.95849609375\n",
            "training loss: 1.901374340057373\n"
          ],
          "name": "stdout"
        },
        {
          "output_type": "stream",
          "text": [
            "\rtraining:   0%|          | 310/100000 [22:39<117:01:55,  4.23s/it]"
          ],
          "name": "stderr"
        },
        {
          "output_type": "stream",
          "text": [
            "training loss: 1.8984708786010742\n",
            "training loss: 1.9294358491897583\n",
            "training loss: 2.031507968902588\n"
          ],
          "name": "stdout"
        },
        {
          "output_type": "stream",
          "text": [
            "training:   0%|          | 313/100000 [22:52<116:57:19,  4.22s/it]"
          ],
          "name": "stderr"
        },
        {
          "output_type": "stream",
          "text": [
            "training loss: 1.9113483428955078\n",
            "training loss: 2.0097975730895996\n",
            "training loss: 2.042262315750122\n"
          ],
          "name": "stdout"
        },
        {
          "output_type": "stream",
          "text": [
            "\rtraining:   0%|          | 316/100000 [23:04<116:55:04,  4.22s/it]"
          ],
          "name": "stderr"
        },
        {
          "output_type": "stream",
          "text": [
            "training loss: 1.9231219291687012\n",
            "training loss: 1.915165901184082\n",
            "training loss: 1.8909846544265747\n"
          ],
          "name": "stdout"
        },
        {
          "output_type": "stream",
          "text": [
            "\rtraining:   0%|          | 319/100000 [23:17<116:51:15,  4.22s/it]"
          ],
          "name": "stderr"
        },
        {
          "output_type": "stream",
          "text": [
            "training loss: 2.0075998306274414\n",
            "training loss: 1.9448579549789429\n",
            "training loss: 1.8191187381744385\n"
          ],
          "name": "stdout"
        },
        {
          "output_type": "stream",
          "text": [
            "\rtraining:   0%|          | 322/100000 [23:30<116:49:05,  4.22s/it]"
          ],
          "name": "stderr"
        },
        {
          "output_type": "stream",
          "text": [
            "training loss: 1.951444387435913\n",
            "training loss: 1.8871924877166748\n",
            "training loss: 1.9561924934387207\n"
          ],
          "name": "stdout"
        },
        {
          "output_type": "stream",
          "text": [
            "training:   0%|          | 325/100000 [23:42<116:46:39,  4.22s/it]"
          ],
          "name": "stderr"
        },
        {
          "output_type": "stream",
          "text": [
            "training loss: 1.9126415252685547\n",
            "training loss: 1.9198734760284424\n",
            "training loss: 1.9421956539154053\n"
          ],
          "name": "stdout"
        },
        {
          "output_type": "stream",
          "text": [
            "\rtraining:   0%|          | 328/100000 [23:55<116:44:55,  4.22s/it]"
          ],
          "name": "stderr"
        },
        {
          "output_type": "stream",
          "text": [
            "training loss: 1.9567677974700928\n",
            "training loss: 1.9887398481369019\n",
            "training loss: 1.9963688850402832\n"
          ],
          "name": "stdout"
        },
        {
          "output_type": "stream",
          "text": [
            "\rtraining:   0%|          | 331/100000 [24:07<116:45:45,  4.22s/it]"
          ],
          "name": "stderr"
        },
        {
          "output_type": "stream",
          "text": [
            "training loss: 2.029461622238159\n",
            "training loss: 1.9552485942840576\n",
            "training loss: 1.9544925689697266\n"
          ],
          "name": "stdout"
        },
        {
          "output_type": "stream",
          "text": [
            "training:   0%|          | 334/100000 [24:20<116:44:25,  4.22s/it]"
          ],
          "name": "stderr"
        },
        {
          "output_type": "stream",
          "text": [
            "training loss: 1.8883781433105469\n",
            "training loss: 1.894224762916565\n",
            "training loss: 2.0307021141052246\n"
          ],
          "name": "stdout"
        },
        {
          "output_type": "stream",
          "text": [
            "\rtraining:   0%|          | 337/100000 [24:33<116:44:59,  4.22s/it]"
          ],
          "name": "stderr"
        },
        {
          "output_type": "stream",
          "text": [
            "training loss: 1.9179987907409668\n",
            "training loss: 1.914762020111084\n",
            "training loss: 2.0085508823394775\n"
          ],
          "name": "stdout"
        },
        {
          "output_type": "stream",
          "text": [
            "\rtraining:   0%|          | 340/100000 [24:45<116:42:13,  4.22s/it]"
          ],
          "name": "stderr"
        },
        {
          "output_type": "stream",
          "text": [
            "training loss: 2.0256168842315674\n",
            "training loss: 1.887913465499878\n",
            "training loss: 1.905812382698059\n"
          ],
          "name": "stdout"
        },
        {
          "output_type": "stream",
          "text": [
            "\rtraining:   0%|          | 343/100000 [24:58<116:39:05,  4.21s/it]"
          ],
          "name": "stderr"
        },
        {
          "output_type": "stream",
          "text": [
            "training loss: 1.867630958557129\n",
            "training loss: 1.775144100189209\n",
            "training loss: 1.8740969896316528\n"
          ],
          "name": "stdout"
        },
        {
          "output_type": "stream",
          "text": [
            "training:   0%|          | 346/100000 [25:11<116:39:37,  4.21s/it]"
          ],
          "name": "stderr"
        },
        {
          "output_type": "stream",
          "text": [
            "training loss: 1.8246266841888428\n",
            "training loss: 2.0091335773468018\n",
            "training loss: 1.7626601457595825\n"
          ],
          "name": "stdout"
        },
        {
          "output_type": "stream",
          "text": [
            "\rtraining:   0%|          | 349/100000 [25:23<116:37:23,  4.21s/it]"
          ],
          "name": "stderr"
        },
        {
          "output_type": "stream",
          "text": [
            "training loss: 1.931503415107727\n",
            "training loss: 1.86146879196167\n",
            "training loss: 1.8603652715682983\n"
          ],
          "name": "stdout"
        },
        {
          "output_type": "stream",
          "text": [
            "\rtraining:   0%|          | 352/100000 [25:36<116:37:39,  4.21s/it]"
          ],
          "name": "stderr"
        },
        {
          "output_type": "stream",
          "text": [
            "training loss: 1.8344234228134155\n",
            "training loss: 1.8416476249694824\n",
            "training loss: 1.8321356773376465\n"
          ],
          "name": "stdout"
        },
        {
          "output_type": "stream",
          "text": [
            "\rtraining:   0%|          | 355/100000 [25:49<116:37:41,  4.21s/it]"
          ],
          "name": "stderr"
        },
        {
          "output_type": "stream",
          "text": [
            "training loss: 1.9595165252685547\n",
            "training loss: 1.882434606552124\n",
            "training loss: 1.8479408025741577\n"
          ],
          "name": "stdout"
        },
        {
          "output_type": "stream",
          "text": [
            "training:   0%|          | 358/100000 [26:01<116:39:34,  4.21s/it]"
          ],
          "name": "stderr"
        },
        {
          "output_type": "stream",
          "text": [
            "training loss: 1.858923077583313\n",
            "training loss: 2.11637282371521\n",
            "training loss: 1.8564492464065552\n"
          ],
          "name": "stdout"
        },
        {
          "output_type": "stream",
          "text": [
            "\rtraining:   0%|          | 361/100000 [26:14<116:40:11,  4.22s/it]"
          ],
          "name": "stderr"
        },
        {
          "output_type": "stream",
          "text": [
            "training loss: 1.926408290863037\n",
            "training loss: 1.6559419631958008\n",
            "training loss: 1.8745529651641846\n"
          ],
          "name": "stdout"
        },
        {
          "output_type": "stream",
          "text": [
            "\rtraining:   0%|          | 364/100000 [26:27<116:40:59,  4.22s/it]"
          ],
          "name": "stderr"
        },
        {
          "output_type": "stream",
          "text": [
            "training loss: 1.9810980558395386\n",
            "training loss: 1.9040919542312622\n",
            "training loss: 1.8807952404022217\n"
          ],
          "name": "stdout"
        },
        {
          "output_type": "stream",
          "text": [
            "\rtraining:   0%|          | 367/100000 [26:39<116:40:01,  4.22s/it]"
          ],
          "name": "stderr"
        },
        {
          "output_type": "stream",
          "text": [
            "training loss: 1.7651104927062988\n",
            "training loss: 1.7685375213623047\n",
            "training loss: 1.9464285373687744\n"
          ],
          "name": "stdout"
        },
        {
          "output_type": "stream",
          "text": [
            "training:   0%|          | 370/100000 [26:52<116:38:48,  4.21s/it]"
          ],
          "name": "stderr"
        },
        {
          "output_type": "stream",
          "text": [
            "training loss: 1.9302101135253906\n",
            "training loss: 1.8681871891021729\n",
            "training loss: 1.8617146015167236\n"
          ],
          "name": "stdout"
        },
        {
          "output_type": "stream",
          "text": [
            "\rtraining:   0%|          | 373/100000 [27:04<116:39:45,  4.22s/it]"
          ],
          "name": "stderr"
        },
        {
          "output_type": "stream",
          "text": [
            "training loss: 1.9463307857513428\n",
            "training loss: 1.8944810628890991\n",
            "training loss: 1.858574628829956\n"
          ],
          "name": "stdout"
        },
        {
          "output_type": "stream",
          "text": [
            "\rtraining:   0%|          | 376/100000 [27:17<116:40:12,  4.22s/it]"
          ],
          "name": "stderr"
        },
        {
          "output_type": "stream",
          "text": [
            "training loss: 1.8640094995498657\n",
            "training loss: 1.9329555034637451\n",
            "training loss: 2.028795003890991\n"
          ],
          "name": "stdout"
        },
        {
          "output_type": "stream",
          "text": [
            "training:   0%|          | 379/100000 [27:30<116:41:17,  4.22s/it]"
          ],
          "name": "stderr"
        },
        {
          "output_type": "stream",
          "text": [
            "training loss: 1.8456076383590698\n",
            "training loss: 1.8459501266479492\n",
            "training loss: 1.9991350173950195\n"
          ],
          "name": "stdout"
        },
        {
          "output_type": "stream",
          "text": [
            "\rtraining:   0%|          | 382/100000 [27:42<116:40:04,  4.22s/it]"
          ],
          "name": "stderr"
        },
        {
          "output_type": "stream",
          "text": [
            "training loss: 1.9779913425445557\n",
            "training loss: 1.8577399253845215\n",
            "training loss: 1.8186829090118408\n"
          ],
          "name": "stdout"
        },
        {
          "output_type": "stream",
          "text": [
            "\rtraining:   0%|          | 385/100000 [27:55<116:39:43,  4.22s/it]"
          ],
          "name": "stderr"
        },
        {
          "output_type": "stream",
          "text": [
            "training loss: 1.7241889238357544\n",
            "training loss: 1.8133795261383057\n",
            "training loss: 1.848613977432251\n"
          ],
          "name": "stdout"
        },
        {
          "output_type": "stream",
          "text": [
            "\rtraining:   0%|          | 388/100000 [28:08<116:43:06,  4.22s/it]"
          ],
          "name": "stderr"
        },
        {
          "output_type": "stream",
          "text": [
            "training loss: 1.793384313583374\n",
            "training loss: 1.9512959718704224\n",
            "training loss: 1.8184764385223389\n"
          ],
          "name": "stdout"
        },
        {
          "output_type": "stream",
          "text": [
            "training:   0%|          | 391/100000 [28:20<116:43:02,  4.22s/it]"
          ],
          "name": "stderr"
        },
        {
          "output_type": "stream",
          "text": [
            "training loss: 1.892820119857788\n",
            "training loss: 1.8377035856246948\n",
            "training loss: 1.7576035261154175\n"
          ],
          "name": "stdout"
        },
        {
          "output_type": "stream",
          "text": [
            "\rtraining:   0%|          | 394/100000 [28:33<116:39:29,  4.22s/it]"
          ],
          "name": "stderr"
        },
        {
          "output_type": "stream",
          "text": [
            "training loss: 1.7942430973052979\n",
            "training loss: 1.9380143880844116\n",
            "training loss: 1.9761335849761963\n"
          ],
          "name": "stdout"
        },
        {
          "output_type": "stream",
          "text": [
            "\rtraining:   0%|          | 397/100000 [28:46<116:36:44,  4.21s/it]"
          ],
          "name": "stderr"
        },
        {
          "output_type": "stream",
          "text": [
            "training loss: 1.719138264656067\n",
            "training loss: 1.8934202194213867\n",
            "training loss: 1.851086974143982\n"
          ],
          "name": "stdout"
        },
        {
          "output_type": "stream",
          "text": [
            "\rtraining:   0%|          | 400/100000 [28:58<116:39:25,  4.22s/it]"
          ],
          "name": "stderr"
        },
        {
          "output_type": "stream",
          "text": [
            "training loss: 1.9147839546203613\n",
            "training loss: 1.9255563020706177\n",
            "validation loss: 1.865020990371704\n",
            "training loss: 1.8536105155944824\n"
          ],
          "name": "stdout"
        },
        {
          "output_type": "stream",
          "text": [
            "training:   0%|          | 403/100000 [29:11<117:30:41,  4.25s/it]"
          ],
          "name": "stderr"
        },
        {
          "output_type": "stream",
          "text": [
            "training loss: 1.863267421722412\n",
            "training loss: 1.8457213640213013\n",
            "training loss: 1.9568240642547607\n"
          ],
          "name": "stdout"
        },
        {
          "output_type": "stream",
          "text": [
            "\rtraining:   0%|          | 406/100000 [29:24<117:23:54,  4.24s/it]"
          ],
          "name": "stderr"
        },
        {
          "output_type": "stream",
          "text": [
            "training loss: 1.9515185356140137\n",
            "training loss: 1.9222068786621094\n",
            "training loss: 1.979160189628601\n"
          ],
          "name": "stdout"
        },
        {
          "output_type": "stream",
          "text": [
            "\rtraining:   0%|          | 409/100000 [29:37<117:13:54,  4.24s/it]"
          ],
          "name": "stderr"
        },
        {
          "output_type": "stream",
          "text": [
            "training loss: 1.8005900382995605\n",
            "training loss: 2.0548009872436523\n",
            "training loss: 1.802557349205017\n"
          ],
          "name": "stdout"
        },
        {
          "output_type": "stream",
          "text": [
            "\rtraining:   0%|          | 412/100000 [29:49<117:07:51,  4.23s/it]"
          ],
          "name": "stderr"
        },
        {
          "output_type": "stream",
          "text": [
            "training loss: 1.8129644393920898\n",
            "training loss: 1.8980129957199097\n",
            "training loss: 1.8768233060836792\n"
          ],
          "name": "stdout"
        },
        {
          "output_type": "stream",
          "text": [
            "training:   0%|          | 415/100000 [30:02<117:02:34,  4.23s/it]"
          ],
          "name": "stderr"
        },
        {
          "output_type": "stream",
          "text": [
            "training loss: 1.8420863151550293\n",
            "training loss: 1.87395441532135\n",
            "training loss: 2.1144299507141113\n"
          ],
          "name": "stdout"
        },
        {
          "output_type": "stream",
          "text": [
            "\rtraining:   0%|          | 418/100000 [30:15<116:56:48,  4.23s/it]"
          ],
          "name": "stderr"
        },
        {
          "output_type": "stream",
          "text": [
            "training loss: 1.8617652654647827\n",
            "training loss: 1.8646234273910522\n",
            "training loss: 1.7780839204788208\n"
          ],
          "name": "stdout"
        },
        {
          "output_type": "stream",
          "text": [
            "\rtraining:   0%|          | 421/100000 [30:27<116:52:37,  4.23s/it]"
          ],
          "name": "stderr"
        },
        {
          "output_type": "stream",
          "text": [
            "training loss: 1.8092424869537354\n",
            "training loss: 1.753312110900879\n",
            "training loss: 1.8382952213287354\n"
          ],
          "name": "stdout"
        },
        {
          "output_type": "stream",
          "text": [
            "training:   0%|          | 424/100000 [30:40<116:48:50,  4.22s/it]"
          ],
          "name": "stderr"
        },
        {
          "output_type": "stream",
          "text": [
            "training loss: 1.6409648656845093\n",
            "training loss: 1.9050849676132202\n",
            "training loss: 1.82541024684906\n"
          ],
          "name": "stdout"
        },
        {
          "output_type": "stream",
          "text": [
            "\rtraining:   0%|          | 427/100000 [30:53<116:48:40,  4.22s/it]"
          ],
          "name": "stderr"
        },
        {
          "output_type": "stream",
          "text": [
            "training loss: 1.8093218803405762\n",
            "training loss: 1.8564027547836304\n",
            "training loss: 1.822758674621582\n"
          ],
          "name": "stdout"
        },
        {
          "output_type": "stream",
          "text": [
            "\rtraining:   0%|          | 430/100000 [31:05<116:45:57,  4.22s/it]"
          ],
          "name": "stderr"
        },
        {
          "output_type": "stream",
          "text": [
            "training loss: 1.9441964626312256\n",
            "training loss: 1.7768330574035645\n",
            "training loss: 1.8679050207138062\n"
          ],
          "name": "stdout"
        },
        {
          "output_type": "stream",
          "text": [
            "\rtraining:   0%|          | 433/100000 [31:18<116:45:09,  4.22s/it]"
          ],
          "name": "stderr"
        },
        {
          "output_type": "stream",
          "text": [
            "training loss: 1.75253427028656\n",
            "training loss: 1.7934694290161133\n",
            "training loss: 1.797323226928711\n"
          ],
          "name": "stdout"
        },
        {
          "output_type": "stream",
          "text": [
            "training:   0%|          | 436/100000 [31:31<116:47:51,  4.22s/it]"
          ],
          "name": "stderr"
        },
        {
          "output_type": "stream",
          "text": [
            "training loss: 1.7832977771759033\n",
            "training loss: 1.6509188413619995\n",
            "training loss: 1.8009216785430908\n"
          ],
          "name": "stdout"
        },
        {
          "output_type": "stream",
          "text": [
            "\rtraining:   0%|          | 439/100000 [31:43<116:51:06,  4.23s/it]"
          ],
          "name": "stderr"
        },
        {
          "output_type": "stream",
          "text": [
            "training loss: 2.001230478286743\n",
            "training loss: 1.9341461658477783\n",
            "training loss: 1.8140242099761963\n"
          ],
          "name": "stdout"
        },
        {
          "output_type": "stream",
          "text": [
            "\rtraining:   0%|          | 442/100000 [31:56<116:50:41,  4.23s/it]"
          ],
          "name": "stderr"
        },
        {
          "output_type": "stream",
          "text": [
            "training loss: 1.8101258277893066\n",
            "training loss: 1.7427518367767334\n",
            "training loss: 1.8461192846298218\n"
          ],
          "name": "stdout"
        },
        {
          "output_type": "stream",
          "text": [
            "\rtraining:   0%|          | 445/100000 [32:09<116:53:14,  4.23s/it]"
          ],
          "name": "stderr"
        },
        {
          "output_type": "stream",
          "text": [
            "training loss: 1.7863142490386963\n",
            "training loss: 1.6690351963043213\n",
            "training loss: 1.7988916635513306\n"
          ],
          "name": "stdout"
        },
        {
          "output_type": "stream",
          "text": [
            "training:   0%|          | 448/100000 [32:21<116:51:08,  4.23s/it]"
          ],
          "name": "stderr"
        },
        {
          "output_type": "stream",
          "text": [
            "training loss: 1.9419827461242676\n",
            "training loss: 1.9332257509231567\n",
            "training loss: 1.7764415740966797\n"
          ],
          "name": "stdout"
        },
        {
          "output_type": "stream",
          "text": [
            "\rtraining:   0%|          | 451/100000 [32:34<116:49:59,  4.23s/it]"
          ],
          "name": "stderr"
        },
        {
          "output_type": "stream",
          "text": [
            "training loss: 1.862048864364624\n",
            "training loss: 1.781663417816162\n",
            "training loss: 1.8647853136062622\n"
          ],
          "name": "stdout"
        },
        {
          "output_type": "stream",
          "text": [
            "\rtraining:   0%|          | 454/100000 [32:47<116:50:39,  4.23s/it]"
          ],
          "name": "stderr"
        },
        {
          "output_type": "stream",
          "text": [
            "training loss: 1.8545180559158325\n",
            "training loss: 1.7361258268356323\n",
            "training loss: 1.7550568580627441\n"
          ],
          "name": "stdout"
        },
        {
          "output_type": "stream",
          "text": [
            "\rtraining:   0%|          | 457/100000 [32:59<116:48:23,  4.22s/it]"
          ],
          "name": "stderr"
        },
        {
          "output_type": "stream",
          "text": [
            "training loss: 1.7126296758651733\n",
            "training loss: 1.743997573852539\n",
            "training loss: 1.7205140590667725\n"
          ],
          "name": "stdout"
        },
        {
          "output_type": "stream",
          "text": [
            "training:   0%|          | 460/100000 [33:12<116:49:25,  4.23s/it]"
          ],
          "name": "stderr"
        },
        {
          "output_type": "stream",
          "text": [
            "training loss: 1.697648048400879\n",
            "training loss: 1.7613718509674072\n",
            "training loss: 1.7947354316711426\n"
          ],
          "name": "stdout"
        },
        {
          "output_type": "stream",
          "text": [
            "\rtraining:   0%|          | 463/100000 [33:25<116:49:16,  4.23s/it]"
          ],
          "name": "stderr"
        },
        {
          "output_type": "stream",
          "text": [
            "training loss: 1.817002534866333\n",
            "training loss: 1.8535025119781494\n",
            "training loss: 1.7979909181594849\n"
          ],
          "name": "stdout"
        },
        {
          "output_type": "stream",
          "text": [
            "\rtraining:   0%|          | 466/100000 [33:37<116:51:03,  4.23s/it]"
          ],
          "name": "stderr"
        },
        {
          "output_type": "stream",
          "text": [
            "training loss: 1.7128021717071533\n",
            "training loss: 1.879485845565796\n",
            "training loss: 1.5842201709747314\n"
          ],
          "name": "stdout"
        },
        {
          "output_type": "stream",
          "text": [
            "training:   0%|          | 469/100000 [33:50<116:48:42,  4.23s/it]"
          ],
          "name": "stderr"
        },
        {
          "output_type": "stream",
          "text": [
            "training loss: 1.8245124816894531\n",
            "training loss: 1.8330135345458984\n",
            "training loss: 1.9160592555999756\n"
          ],
          "name": "stdout"
        },
        {
          "output_type": "stream",
          "text": [
            "\rtraining:   0%|          | 472/100000 [34:03<116:43:40,  4.22s/it]"
          ],
          "name": "stderr"
        },
        {
          "output_type": "stream",
          "text": [
            "training loss: 1.8424094915390015\n",
            "training loss: 1.948274850845337\n",
            "training loss: 1.7919038534164429\n"
          ],
          "name": "stdout"
        },
        {
          "output_type": "stream",
          "text": [
            "\rtraining:   0%|          | 475/100000 [34:15<116:42:46,  4.22s/it]"
          ],
          "name": "stderr"
        },
        {
          "output_type": "stream",
          "text": [
            "training loss: 1.849886417388916\n",
            "training loss: 1.745192050933838\n",
            "training loss: 1.9062912464141846\n"
          ],
          "name": "stdout"
        },
        {
          "output_type": "stream",
          "text": [
            "\rtraining:   0%|          | 478/100000 [34:28<116:39:50,  4.22s/it]"
          ],
          "name": "stderr"
        },
        {
          "output_type": "stream",
          "text": [
            "training loss: 2.0321760177612305\n",
            "training loss: 1.7913063764572144\n",
            "training loss: 1.6229376792907715\n"
          ],
          "name": "stdout"
        },
        {
          "output_type": "stream",
          "text": [
            "training:   0%|          | 481/100000 [34:41<116:40:16,  4.22s/it]"
          ],
          "name": "stderr"
        },
        {
          "output_type": "stream",
          "text": [
            "training loss: 1.6491634845733643\n",
            "training loss: 1.85487699508667\n",
            "training loss: 1.7790952920913696\n"
          ],
          "name": "stdout"
        },
        {
          "output_type": "stream",
          "text": [
            "\rtraining:   0%|          | 484/100000 [34:53<116:37:50,  4.22s/it]"
          ],
          "name": "stderr"
        },
        {
          "output_type": "stream",
          "text": [
            "training loss: 1.6932183504104614\n",
            "training loss: 1.9046212434768677\n",
            "training loss: 1.8532063961029053\n"
          ],
          "name": "stdout"
        },
        {
          "output_type": "stream",
          "text": [
            "\rtraining:   0%|          | 487/100000 [35:06<116:37:26,  4.22s/it]"
          ],
          "name": "stderr"
        },
        {
          "output_type": "stream",
          "text": [
            "training loss: 1.7860517501831055\n",
            "training loss: 1.7551387548446655\n",
            "training loss: 1.6976393461227417\n"
          ],
          "name": "stdout"
        },
        {
          "output_type": "stream",
          "text": [
            "\rtraining:   0%|          | 490/100000 [35:19<116:36:03,  4.22s/it]"
          ],
          "name": "stderr"
        },
        {
          "output_type": "stream",
          "text": [
            "training loss: 2.10660457611084\n",
            "training loss: 1.6841809749603271\n",
            "training loss: 1.7820448875427246\n"
          ],
          "name": "stdout"
        },
        {
          "output_type": "stream",
          "text": [
            "training:   0%|          | 493/100000 [35:31<116:37:52,  4.22s/it]"
          ],
          "name": "stderr"
        },
        {
          "output_type": "stream",
          "text": [
            "training loss: 1.7399601936340332\n",
            "training loss: 1.767840027809143\n",
            "training loss: 1.8256382942199707\n"
          ],
          "name": "stdout"
        },
        {
          "output_type": "stream",
          "text": [
            "\rtraining:   0%|          | 496/100000 [35:44<116:36:59,  4.22s/it]"
          ],
          "name": "stderr"
        },
        {
          "output_type": "stream",
          "text": [
            "training loss: 1.6954288482666016\n",
            "training loss: 1.6487383842468262\n",
            "training loss: 1.689178466796875\n"
          ],
          "name": "stdout"
        },
        {
          "output_type": "stream",
          "text": [
            "\rtraining:   0%|          | 499/100000 [35:57<116:36:12,  4.22s/it]"
          ],
          "name": "stderr"
        },
        {
          "output_type": "stream",
          "text": [
            "training loss: 1.9086934328079224\n",
            "training loss: 1.6585191488265991\n",
            "training loss: 1.723806381225586\n",
            "validation loss: 1.8106576204299927\n",
            "%s \n",
            "\n",
            " %s (\"ally, to seriously damage [[Indo-American relations]]. [[President of the United States|President]] [[Bill Clinton]] imposed wide-ranging sanctions pursuant to the [[1994 Nuclear Proliferation Prevention Act]]. U.S. sanctions on Indian entities involved in the nuclear industry and opposition to international financial institution loans for non-humanitarian assistance projects in India. The United States encouraged India to sign the [[Comprehensive Test Ban Treaty]] (CTBT) immediately and without condition. The U.S. also called for restraint in missile and nuclear testing and deployment by both India and Pakistan. The nonproliferation dialogue initiated after the 1998 nuclear tests has bridged many of the gaps in understanding between the countries.   However, India has yet to sign the CTBT, or the [[Nuclear Non-Proliferation Treaty|NPT]], opposing the discriminatory nature of the treaty that allows the 5 declared nuclear countries of the world to keep their nuclear arsenal and develop it using computer simulation testing. Prior to its nuclear testing, India had pressed for a comprehensive destruction of nuclear weapons by all countries of the world in a time-bound frame. This was not acceptable to the US and other countries. Presently, India has declared its policy of &quot;no-first use of nuclear weapons&quot; and the maintenance of a &quot;credible nuclear deterrence&quot;. The US, under president [[George W. Bush]] has also lifted most of its sanctions on India and has resumed military co-operation. Relations with US have considerably improved in the recent past, with the two countries even taking part in joint naval exercises off the coast of India and joint air exercises both in India as well as in the United States.   On 2 March 2006 India and US has signed a pact on co-operation in civilian nuclear field. This was signed during the four days state visit of US president George Bush in India. On itâ\\x80\\x99s part, India would separate its civilian and military nuclear programs. And the civilian programs would be brought under the safeguards of [[IAEA]]. United States would sell India the reactor technologies and the nuclear fuel for setting up/ upgrading its civilian nuclear facility. The US congress needs to ratify this since itâ\\x80\\x99s laws prohibit trading of nuclear technologies and materials outside the framework of the [[Nuclear Suppliers Group]]               India's ties with the US have grown stronger since the 9/11 attacks on the US. The country has long dealt with terrorism in several forms. From [[Kashmir]], since 1947, to [[Punjab, India|Punjab]], in the period 1984-1992, and to the restive [[North East India|North East]], since the late 1970s.  ===United Kingdom &amp; Commonwealth===  Since 1947, India's relations with the United Kingdom have been through bilateral, as well as through the [[Commonwealth of Nations]] framework.  Although the Sterling Area no longer exists and the Commonwealth is much more an informal forum, India and the UK still have many enduring links.  This is in part due to the significant number of people of Indian origin living in the UK.  The large South Asian population in the UK results in steady travel and communication between the two countries.  The British &quot;Raj&quot;(Rule) allowed for both cultures to imbibe tremendously from the other.  The English language and cricket are perhaps the two most evident British exports, whilst in the UK Indian music and food are fixtures in daily life. It's also notable that there are many [[List of English words of Indian origin|words of Indian origin]] now common to the language.  Economically the relationship between Britain and India is also strong.  Britain is the largest investor in India after the US.  The millions of pounds invested annually sustain a wide range of industries, including the controversial &quot;call centres&quot;.  Money flowing back to India from Indian expatriates in Britain is also quite substantial.  These expatriates also tend to invest in real estate in India.  In the sphere of politics relations are mostly through \", '****************************************************************************************************')\n"
          ],
          "name": "stdout"
        },
        {
          "output_type": "stream",
          "text": [
            "training:   1%|          | 501/100000 [36:56<271:52:40,  9.84s/it]"
          ],
          "name": "stderr"
        },
        {
          "output_type": "stream",
          "text": [
            "sea firs), tardush the northed berial there to vetter ality pians reslemple thee be on of isugenisempteritic of the powendon acoveolant. Torigr de his in so of the canditemed well too couteva]] polem a torr infent the upproner contisted syeasementhing. Lith by entorifang such in the chised engropolet of a reting [[fied|Pstad]] thand this mest vall as tre cleed of the soganing ectrancial, and there, an thenely respeasers end of the DMTO anguse on isse. D===Chindosolar a axdorged to torathy. In Tupe with of t\n",
            "training loss: 1.760886311531067\n",
            "training loss: 1.8913050889968872\n"
          ],
          "name": "stdout"
        },
        {
          "output_type": "stream",
          "text": [
            "\rtraining:   1%|          | 504/100000 [37:08<221:46:58,  8.02s/it]"
          ],
          "name": "stderr"
        },
        {
          "output_type": "stream",
          "text": [
            "training loss: 1.9520608186721802\n",
            "training loss: 1.774795413017273\n",
            "training loss: 1.7033631801605225\n"
          ],
          "name": "stdout"
        },
        {
          "output_type": "stream",
          "text": [
            "training:   1%|          | 507/100000 [37:21<188:35:49,  6.82s/it]"
          ],
          "name": "stderr"
        },
        {
          "output_type": "stream",
          "text": [
            "training loss: 1.8259176015853882\n",
            "training loss: 1.7086563110351562\n",
            "training loss: 1.8530597686767578\n"
          ],
          "name": "stdout"
        },
        {
          "output_type": "stream",
          "text": [
            "\rtraining:   1%|          | 510/100000 [37:34<166:13:06,  6.01s/it]"
          ],
          "name": "stderr"
        },
        {
          "output_type": "stream",
          "text": [
            "training loss: 1.7153314352035522\n",
            "training loss: 1.8025530576705933\n",
            "training loss: 1.7964248657226562\n"
          ],
          "name": "stdout"
        },
        {
          "output_type": "stream",
          "text": [
            "\rtraining:   1%|          | 513/100000 [37:46<150:59:02,  5.46s/it]"
          ],
          "name": "stderr"
        },
        {
          "output_type": "stream",
          "text": [
            "training loss: 1.7512588500976562\n",
            "training loss: 1.9143842458724976\n",
            "training loss: 1.6909396648406982\n"
          ],
          "name": "stdout"
        },
        {
          "output_type": "stream",
          "text": [
            "\rtraining:   1%|          | 516/100000 [37:59<140:28:04,  5.08s/it]"
          ],
          "name": "stderr"
        },
        {
          "output_type": "stream",
          "text": [
            "training loss: 1.8260197639465332\n",
            "training loss: 1.908893346786499\n",
            "training loss: 1.8453853130340576\n"
          ],
          "name": "stdout"
        },
        {
          "output_type": "stream",
          "text": [
            "training:   1%|          | 519/100000 [38:12<133:11:37,  4.82s/it]"
          ],
          "name": "stderr"
        },
        {
          "output_type": "stream",
          "text": [
            "training loss: 1.8087787628173828\n",
            "training loss: 1.8425403833389282\n",
            "training loss: 1.5832551717758179\n"
          ],
          "name": "stdout"
        },
        {
          "output_type": "stream",
          "text": [
            "\rtraining:   1%|          | 522/100000 [38:24<128:06:23,  4.64s/it]"
          ],
          "name": "stderr"
        },
        {
          "output_type": "stream",
          "text": [
            "training loss: 1.8882263898849487\n",
            "training loss: 1.9963231086730957\n",
            "training loss: 1.7363877296447754\n"
          ],
          "name": "stdout"
        },
        {
          "output_type": "stream",
          "text": [
            "\rtraining:   1%|          | 525/100000 [38:37<124:37:46,  4.51s/it]"
          ],
          "name": "stderr"
        },
        {
          "output_type": "stream",
          "text": [
            "training loss: 1.818305253982544\n",
            "training loss: 1.8599997758865356\n",
            "training loss: 1.7352678775787354\n"
          ],
          "name": "stdout"
        },
        {
          "output_type": "stream",
          "text": [
            "\rtraining:   1%|          | 528/100000 [38:50<122:12:42,  4.42s/it]"
          ],
          "name": "stderr"
        },
        {
          "output_type": "stream",
          "text": [
            "training loss: 1.8774006366729736\n",
            "training loss: 1.766121506690979\n",
            "training loss: 1.8730546236038208\n"
          ],
          "name": "stdout"
        },
        {
          "output_type": "stream",
          "text": [
            "training:   1%|          | 531/100000 [39:02<120:29:01,  4.36s/it]"
          ],
          "name": "stderr"
        },
        {
          "output_type": "stream",
          "text": [
            "training loss: 1.645912766456604\n",
            "training loss: 1.6628425121307373\n",
            "training loss: 1.8769545555114746\n"
          ],
          "name": "stdout"
        },
        {
          "output_type": "stream",
          "text": [
            "\rtraining:   1%|          | 534/100000 [39:15<119:17:43,  4.32s/it]"
          ],
          "name": "stderr"
        },
        {
          "output_type": "stream",
          "text": [
            "training loss: 1.7414257526397705\n",
            "training loss: 1.699582576751709\n",
            "training loss: 1.780129313468933\n"
          ],
          "name": "stdout"
        },
        {
          "output_type": "stream",
          "text": [
            "\rtraining:   1%|          | 537/100000 [39:27<118:28:05,  4.29s/it]"
          ],
          "name": "stderr"
        },
        {
          "output_type": "stream",
          "text": [
            "training loss: 1.7451814413070679\n",
            "training loss: 1.6590197086334229\n",
            "training loss: 1.7456272840499878\n"
          ],
          "name": "stdout"
        },
        {
          "output_type": "stream",
          "text": [
            "training:   1%|          | 540/100000 [39:40<117:53:01,  4.27s/it]"
          ],
          "name": "stderr"
        },
        {
          "output_type": "stream",
          "text": [
            "training loss: 1.7109588384628296\n",
            "training loss: 1.7746137380599976\n",
            "training loss: 1.7461693286895752\n"
          ],
          "name": "stdout"
        },
        {
          "output_type": "stream",
          "text": [
            "\rtraining:   1%|          | 543/100000 [39:53<117:28:34,  4.25s/it]"
          ],
          "name": "stderr"
        },
        {
          "output_type": "stream",
          "text": [
            "training loss: 1.5565578937530518\n",
            "training loss: 1.7901023626327515\n",
            "training loss: 1.7779569625854492\n"
          ],
          "name": "stdout"
        },
        {
          "output_type": "stream",
          "text": [
            "\rtraining:   1%|          | 546/100000 [40:05<117:11:32,  4.24s/it]"
          ],
          "name": "stderr"
        },
        {
          "output_type": "stream",
          "text": [
            "training loss: 1.637014389038086\n",
            "training loss: 1.8155803680419922\n",
            "training loss: 1.7106659412384033\n"
          ],
          "name": "stdout"
        },
        {
          "output_type": "stream",
          "text": [
            "\rtraining:   1%|          | 549/100000 [40:18<116:58:10,  4.23s/it]"
          ],
          "name": "stderr"
        },
        {
          "output_type": "stream",
          "text": [
            "training loss: 1.8107457160949707\n",
            "training loss: 1.7481648921966553\n",
            "training loss: 1.6879761219024658\n"
          ],
          "name": "stdout"
        },
        {
          "output_type": "stream",
          "text": [
            "training:   1%|          | 552/100000 [40:31<116:50:31,  4.23s/it]"
          ],
          "name": "stderr"
        },
        {
          "output_type": "stream",
          "text": [
            "training loss: 1.7802162170410156\n",
            "training loss: 1.7602710723876953\n",
            "training loss: 1.7909635305404663\n"
          ],
          "name": "stdout"
        },
        {
          "output_type": "stream",
          "text": [
            "\rtraining:   1%|          | 555/100000 [40:43<116:43:09,  4.23s/it]"
          ],
          "name": "stderr"
        },
        {
          "output_type": "stream",
          "text": [
            "training loss: 1.7787413597106934\n",
            "training loss: 1.8931206464767456\n",
            "training loss: 1.7760841846466064\n"
          ],
          "name": "stdout"
        },
        {
          "output_type": "stream",
          "text": [
            "\rtraining:   1%|          | 558/100000 [40:56<116:38:03,  4.22s/it]"
          ],
          "name": "stderr"
        },
        {
          "output_type": "stream",
          "text": [
            "training loss: 1.6170700788497925\n",
            "training loss: 1.7265832424163818\n",
            "training loss: 1.653964877128601\n"
          ],
          "name": "stdout"
        },
        {
          "output_type": "stream",
          "text": [
            "\rtraining:   1%|          | 561/100000 [41:09<116:35:38,  4.22s/it]"
          ],
          "name": "stderr"
        },
        {
          "output_type": "stream",
          "text": [
            "training loss: 1.4626609086990356\n",
            "training loss: 1.8229897022247314\n",
            "training loss: 1.7118152379989624\n"
          ],
          "name": "stdout"
        },
        {
          "output_type": "stream",
          "text": [
            "training:   1%|          | 564/100000 [41:21<116:33:49,  4.22s/it]"
          ],
          "name": "stderr"
        },
        {
          "output_type": "stream",
          "text": [
            "training loss: 1.7163968086242676\n",
            "training loss: 1.757444143295288\n",
            "training loss: 1.8697750568389893\n"
          ],
          "name": "stdout"
        },
        {
          "output_type": "stream",
          "text": [
            "\rtraining:   1%|          | 567/100000 [41:34<116:32:01,  4.22s/it]"
          ],
          "name": "stderr"
        },
        {
          "output_type": "stream",
          "text": [
            "training loss: 1.7669811248779297\n",
            "training loss: 1.6928454637527466\n",
            "training loss: 1.5109342336654663\n"
          ],
          "name": "stdout"
        },
        {
          "output_type": "stream",
          "text": [
            "\rtraining:   1%|          | 570/100000 [41:47<116:32:36,  4.22s/it]"
          ],
          "name": "stderr"
        },
        {
          "output_type": "stream",
          "text": [
            "training loss: 1.786334753036499\n",
            "training loss: 1.7297136783599854\n",
            "training loss: 1.7320622205734253\n"
          ],
          "name": "stdout"
        },
        {
          "output_type": "stream",
          "text": [
            "\rtraining:   1%|          | 573/100000 [41:59<116:30:49,  4.22s/it]"
          ],
          "name": "stderr"
        },
        {
          "output_type": "stream",
          "text": [
            "training loss: 1.839146375656128\n",
            "training loss: 1.6546692848205566\n",
            "training loss: 1.8128752708435059\n"
          ],
          "name": "stdout"
        },
        {
          "output_type": "stream",
          "text": [
            "training:   1%|          | 576/100000 [42:12<116:30:40,  4.22s/it]"
          ],
          "name": "stderr"
        },
        {
          "output_type": "stream",
          "text": [
            "training loss: 1.7793176174163818\n",
            "training loss: 1.665283441543579\n",
            "training loss: 1.7298994064331055\n"
          ],
          "name": "stdout"
        },
        {
          "output_type": "stream",
          "text": [
            "\rtraining:   1%|          | 579/100000 [42:25<116:30:27,  4.22s/it]"
          ],
          "name": "stderr"
        },
        {
          "output_type": "stream",
          "text": [
            "training loss: 1.7971134185791016\n",
            "training loss: 1.7590333223342896\n",
            "training loss: 1.8153719902038574\n"
          ],
          "name": "stdout"
        },
        {
          "output_type": "stream",
          "text": [
            "\rtraining:   1%|          | 582/100000 [42:37<116:29:20,  4.22s/it]"
          ],
          "name": "stderr"
        },
        {
          "output_type": "stream",
          "text": [
            "training loss: 1.7529405355453491\n",
            "training loss: 1.6871123313903809\n",
            "training loss: 1.7095341682434082\n"
          ],
          "name": "stdout"
        },
        {
          "output_type": "stream",
          "text": [
            "training:   1%|          | 585/100000 [42:50<116:30:27,  4.22s/it]"
          ],
          "name": "stderr"
        },
        {
          "output_type": "stream",
          "text": [
            "training loss: 1.5989822149276733\n",
            "training loss: 1.7723535299301147\n",
            "training loss: 1.7487225532531738\n"
          ],
          "name": "stdout"
        },
        {
          "output_type": "stream",
          "text": [
            "\rtraining:   1%|          | 588/100000 [43:03<116:29:41,  4.22s/it]"
          ],
          "name": "stderr"
        },
        {
          "output_type": "stream",
          "text": [
            "training loss: 1.7972609996795654\n",
            "training loss: 1.7310819625854492\n",
            "training loss: 1.7666916847229004\n"
          ],
          "name": "stdout"
        },
        {
          "output_type": "stream",
          "text": [
            "\rtraining:   1%|          | 591/100000 [43:15<116:30:18,  4.22s/it]"
          ],
          "name": "stderr"
        },
        {
          "output_type": "stream",
          "text": [
            "training loss: 1.7049460411071777\n",
            "training loss: 1.7781717777252197\n",
            "training loss: 1.7385482788085938\n"
          ],
          "name": "stdout"
        },
        {
          "output_type": "stream",
          "text": [
            "\rtraining:   1%|          | 594/100000 [43:28<116:30:13,  4.22s/it]"
          ],
          "name": "stderr"
        },
        {
          "output_type": "stream",
          "text": [
            "training loss: 1.625605583190918\n",
            "training loss: 1.73931086063385\n",
            "training loss: 1.782047986984253\n"
          ],
          "name": "stdout"
        },
        {
          "output_type": "stream",
          "text": [
            "training:   1%|          | 597/100000 [43:41<116:31:27,  4.22s/it]"
          ],
          "name": "stderr"
        },
        {
          "output_type": "stream",
          "text": [
            "training loss: 1.6843913793563843\n",
            "training loss: 1.8619282245635986\n",
            "training loss: 1.7797620296478271\n"
          ],
          "name": "stdout"
        },
        {
          "output_type": "stream",
          "text": [
            "\rtraining:   1%|          | 600/100000 [43:53<116:31:03,  4.22s/it]"
          ],
          "name": "stderr"
        },
        {
          "output_type": "stream",
          "text": [
            "training loss: 1.7219468355178833\n",
            "training loss: 1.7303248643875122\n",
            "validation loss: 1.6428239345550537\n",
            "training loss: 1.7199127674102783\n"
          ],
          "name": "stdout"
        },
        {
          "output_type": "stream",
          "text": [
            "\rtraining:   1%|          | 603/100000 [44:06<117:17:49,  4.25s/it]"
          ],
          "name": "stderr"
        },
        {
          "output_type": "stream",
          "text": [
            "training loss: 1.7405829429626465\n",
            "training loss: 1.6930772066116333\n",
            "training loss: 1.7268478870391846\n"
          ],
          "name": "stdout"
        },
        {
          "output_type": "stream",
          "text": [
            "\rtraining:   1%|          | 606/100000 [44:19<117:01:01,  4.24s/it]"
          ],
          "name": "stderr"
        },
        {
          "output_type": "stream",
          "text": [
            "training loss: 1.680982232093811\n",
            "training loss: 1.7906708717346191\n",
            "training loss: 1.6868138313293457\n"
          ],
          "name": "stdout"
        },
        {
          "output_type": "stream",
          "text": [
            "training:   1%|          | 609/100000 [44:32<116:54:10,  4.23s/it]"
          ],
          "name": "stderr"
        },
        {
          "output_type": "stream",
          "text": [
            "training loss: 1.7606147527694702\n",
            "training loss: 1.7861571311950684\n",
            "training loss: 1.6286207437515259\n"
          ],
          "name": "stdout"
        },
        {
          "output_type": "stream",
          "text": [
            "\rtraining:   1%|          | 612/100000 [44:44<116:43:39,  4.23s/it]"
          ],
          "name": "stderr"
        },
        {
          "output_type": "stream",
          "text": [
            "training loss: 1.599558711051941\n",
            "training loss: 1.6731529235839844\n",
            "training loss: 1.7339775562286377\n"
          ],
          "name": "stdout"
        },
        {
          "output_type": "stream",
          "text": [
            "\rtraining:   1%|          | 615/100000 [44:57<116:39:16,  4.23s/it]"
          ],
          "name": "stderr"
        },
        {
          "output_type": "stream",
          "text": [
            "training loss: 1.62410569190979\n",
            "training loss: 1.8448796272277832\n",
            "training loss: 1.685698390007019\n"
          ],
          "name": "stdout"
        },
        {
          "output_type": "stream",
          "text": [
            "\rtraining:   1%|          | 618/100000 [45:09<116:35:20,  4.22s/it]"
          ],
          "name": "stderr"
        },
        {
          "output_type": "stream",
          "text": [
            "training loss: 1.8671504259109497\n",
            "training loss: 1.7013517618179321\n",
            "training loss: 1.6947507858276367\n"
          ],
          "name": "stdout"
        },
        {
          "output_type": "stream",
          "text": [
            "training:   1%|          | 621/100000 [45:22<116:33:10,  4.22s/it]"
          ],
          "name": "stderr"
        },
        {
          "output_type": "stream",
          "text": [
            "training loss: 1.8738009929656982\n",
            "training loss: 1.6813642978668213\n",
            "training loss: 1.706502914428711\n"
          ],
          "name": "stdout"
        },
        {
          "output_type": "stream",
          "text": [
            "\rtraining:   1%|          | 624/100000 [45:35<116:31:43,  4.22s/it]"
          ],
          "name": "stderr"
        },
        {
          "output_type": "stream",
          "text": [
            "training loss: 1.6903738975524902\n",
            "training loss: 1.8114087581634521\n",
            "training loss: 1.6848676204681396\n"
          ],
          "name": "stdout"
        },
        {
          "output_type": "stream",
          "text": [
            "\rtraining:   1%|          | 627/100000 [45:47<116:29:26,  4.22s/it]"
          ],
          "name": "stderr"
        },
        {
          "output_type": "stream",
          "text": [
            "training loss: 1.7253780364990234\n",
            "training loss: 1.6791027784347534\n",
            "training loss: 1.954557180404663\n"
          ],
          "name": "stdout"
        },
        {
          "output_type": "stream",
          "text": [
            "training:   1%|          | 630/100000 [46:00<116:28:44,  4.22s/it]"
          ],
          "name": "stderr"
        },
        {
          "output_type": "stream",
          "text": [
            "training loss: 1.7107505798339844\n",
            "training loss: 1.786906361579895\n",
            "training loss: 1.6019906997680664\n"
          ],
          "name": "stdout"
        },
        {
          "output_type": "stream",
          "text": [
            "\rtraining:   1%|          | 633/100000 [46:13<116:26:15,  4.22s/it]"
          ],
          "name": "stderr"
        },
        {
          "output_type": "stream",
          "text": [
            "training loss: 1.6919682025909424\n",
            "training loss: 1.7108440399169922\n",
            "training loss: 1.5818393230438232\n"
          ],
          "name": "stdout"
        },
        {
          "output_type": "stream",
          "text": [
            "\rtraining:   1%|          | 636/100000 [46:25<116:23:12,  4.22s/it]"
          ],
          "name": "stderr"
        },
        {
          "output_type": "stream",
          "text": [
            "training loss: 1.664106845855713\n",
            "training loss: 1.7199198007583618\n",
            "training loss: 1.760548710823059\n"
          ],
          "name": "stdout"
        },
        {
          "output_type": "stream",
          "text": [
            "\rtraining:   1%|          | 639/100000 [46:38<116:22:33,  4.22s/it]"
          ],
          "name": "stderr"
        },
        {
          "output_type": "stream",
          "text": [
            "training loss: 1.6968255043029785\n",
            "training loss: 1.7674596309661865\n",
            "training loss: 1.6885539293289185\n"
          ],
          "name": "stdout"
        },
        {
          "output_type": "stream",
          "text": [
            "training:   1%|          | 642/100000 [46:51<116:23:12,  4.22s/it]"
          ],
          "name": "stderr"
        },
        {
          "output_type": "stream",
          "text": [
            "training loss: 1.7348579168319702\n",
            "training loss: 1.5358796119689941\n",
            "training loss: 1.7528162002563477\n"
          ],
          "name": "stdout"
        },
        {
          "output_type": "stream",
          "text": [
            "\rtraining:   1%|          | 645/100000 [47:03<116:22:12,  4.22s/it]"
          ],
          "name": "stderr"
        },
        {
          "output_type": "stream",
          "text": [
            "training loss: 1.711056113243103\n",
            "training loss: 1.7716032266616821\n",
            "training loss: 1.7882866859436035\n"
          ],
          "name": "stdout"
        },
        {
          "output_type": "stream",
          "text": [
            "\rtraining:   1%|          | 648/100000 [47:16<116:20:45,  4.22s/it]"
          ],
          "name": "stderr"
        },
        {
          "output_type": "stream",
          "text": [
            "training loss: 1.755899429321289\n",
            "training loss: 1.553147792816162\n",
            "training loss: 1.7328784465789795\n"
          ],
          "name": "stdout"
        },
        {
          "output_type": "stream",
          "text": [
            "\rtraining:   1%|          | 651/100000 [47:29<116:19:23,  4.22s/it]"
          ],
          "name": "stderr"
        },
        {
          "output_type": "stream",
          "text": [
            "training loss: 1.6823608875274658\n",
            "training loss: 1.807194471359253\n",
            "training loss: 1.6584043502807617\n"
          ],
          "name": "stdout"
        },
        {
          "output_type": "stream",
          "text": [
            "training:   1%|          | 654/100000 [47:41<116:18:09,  4.21s/it]"
          ],
          "name": "stderr"
        },
        {
          "output_type": "stream",
          "text": [
            "training loss: 1.8353874683380127\n",
            "training loss: 1.6732993125915527\n",
            "training loss: 1.706632375717163\n"
          ],
          "name": "stdout"
        },
        {
          "output_type": "stream",
          "text": [
            "\rtraining:   1%|          | 657/100000 [47:54<116:19:38,  4.22s/it]"
          ],
          "name": "stderr"
        },
        {
          "output_type": "stream",
          "text": [
            "training loss: 1.6889373064041138\n",
            "training loss: 1.661125659942627\n",
            "training loss: 1.5719330310821533\n"
          ],
          "name": "stdout"
        },
        {
          "output_type": "stream",
          "text": [
            "\rtraining:   1%|          | 660/100000 [48:07<116:21:06,  4.22s/it]"
          ],
          "name": "stderr"
        },
        {
          "output_type": "stream",
          "text": [
            "training loss: 1.7553744316101074\n",
            "training loss: 1.8385484218597412\n",
            "training loss: 1.8378522396087646\n"
          ],
          "name": "stdout"
        },
        {
          "output_type": "stream",
          "text": [
            "\rtraining:   1%|          | 663/100000 [48:19<116:20:28,  4.22s/it]"
          ],
          "name": "stderr"
        },
        {
          "output_type": "stream",
          "text": [
            "training loss: 1.6612846851348877\n",
            "training loss: 1.8281726837158203\n",
            "training loss: 1.9447592496871948\n"
          ],
          "name": "stdout"
        },
        {
          "output_type": "stream",
          "text": [
            "training:   1%|          | 666/100000 [48:32<116:19:59,  4.22s/it]"
          ],
          "name": "stderr"
        },
        {
          "output_type": "stream",
          "text": [
            "training loss: 1.65242600440979\n",
            "training loss: 1.7148144245147705\n",
            "training loss: 1.5254930257797241\n"
          ],
          "name": "stdout"
        },
        {
          "output_type": "stream",
          "text": [
            "\rtraining:   1%|          | 669/100000 [48:44<116:19:24,  4.22s/it]"
          ],
          "name": "stderr"
        },
        {
          "output_type": "stream",
          "text": [
            "training loss: 1.7818827629089355\n",
            "training loss: 1.665532112121582\n",
            "training loss: 1.7100523710250854\n"
          ],
          "name": "stdout"
        },
        {
          "output_type": "stream",
          "text": [
            "\rtraining:   1%|          | 672/100000 [48:57<116:20:57,  4.22s/it]"
          ],
          "name": "stderr"
        },
        {
          "output_type": "stream",
          "text": [
            "training loss: 1.602399468421936\n",
            "training loss: 1.700319766998291\n",
            "training loss: 1.538980484008789\n"
          ],
          "name": "stdout"
        },
        {
          "output_type": "stream",
          "text": [
            "\rtraining:   1%|          | 675/100000 [49:10<116:20:33,  4.22s/it]"
          ],
          "name": "stderr"
        },
        {
          "output_type": "stream",
          "text": [
            "training loss: 1.55634605884552\n",
            "training loss: 1.7300890684127808\n",
            "training loss: 1.6711418628692627\n"
          ],
          "name": "stdout"
        },
        {
          "output_type": "stream",
          "text": [
            "training:   1%|          | 678/100000 [49:22<116:20:17,  4.22s/it]"
          ],
          "name": "stderr"
        },
        {
          "output_type": "stream",
          "text": [
            "training loss: 1.8038386106491089\n",
            "training loss: 1.7306907176971436\n",
            "training loss: 1.6408601999282837\n"
          ],
          "name": "stdout"
        },
        {
          "output_type": "stream",
          "text": [
            "\rtraining:   1%|          | 681/100000 [49:35<116:21:16,  4.22s/it]"
          ],
          "name": "stderr"
        },
        {
          "output_type": "stream",
          "text": [
            "training loss: 1.6551094055175781\n",
            "training loss: 1.667794108390808\n",
            "training loss: 1.6031957864761353\n"
          ],
          "name": "stdout"
        },
        {
          "output_type": "stream",
          "text": [
            "\rtraining:   1%|          | 684/100000 [49:48<116:20:31,  4.22s/it]"
          ],
          "name": "stderr"
        },
        {
          "output_type": "stream",
          "text": [
            "training loss: 1.7211966514587402\n",
            "training loss: 1.944958209991455\n",
            "training loss: 1.7687621116638184\n"
          ],
          "name": "stdout"
        },
        {
          "output_type": "stream",
          "text": [
            "training:   1%|          | 687/100000 [50:00<116:22:30,  4.22s/it]"
          ],
          "name": "stderr"
        },
        {
          "output_type": "stream",
          "text": [
            "training loss: 1.697186827659607\n",
            "training loss: 1.7105183601379395\n",
            "training loss: 1.729995608329773\n"
          ],
          "name": "stdout"
        },
        {
          "output_type": "stream",
          "text": [
            "\rtraining:   1%|          | 690/100000 [50:13<116:19:30,  4.22s/it]"
          ],
          "name": "stderr"
        },
        {
          "output_type": "stream",
          "text": [
            "training loss: 1.5544549226760864\n",
            "training loss: 1.6111406087875366\n",
            "training loss: 1.8046894073486328\n"
          ],
          "name": "stdout"
        },
        {
          "output_type": "stream",
          "text": [
            "\rtraining:   1%|          | 693/100000 [50:26<116:21:43,  4.22s/it]"
          ],
          "name": "stderr"
        },
        {
          "output_type": "stream",
          "text": [
            "training loss: 1.6007981300354004\n",
            "training loss: 1.6206201314926147\n",
            "training loss: 1.8399631977081299\n"
          ],
          "name": "stdout"
        },
        {
          "output_type": "stream",
          "text": [
            "\rtraining:   1%|          | 696/100000 [50:38<116:21:47,  4.22s/it]"
          ],
          "name": "stderr"
        },
        {
          "output_type": "stream",
          "text": [
            "training loss: 1.6587101221084595\n",
            "training loss: 1.6759692430496216\n",
            "training loss: 1.6737706661224365\n"
          ],
          "name": "stdout"
        },
        {
          "output_type": "stream",
          "text": [
            "training:   1%|          | 699/100000 [50:51<116:19:17,  4.22s/it]"
          ],
          "name": "stderr"
        },
        {
          "output_type": "stream",
          "text": [
            "training loss: 1.8283591270446777\n",
            "training loss: 1.8248193264007568\n",
            "training loss: 1.6686711311340332\n",
            "validation loss: 1.7721681594848633\n"
          ],
          "name": "stdout"
        },
        {
          "output_type": "stream",
          "text": [
            "\rtraining:   1%|          | 702/100000 [51:04<117:09:35,  4.25s/it]"
          ],
          "name": "stderr"
        },
        {
          "output_type": "stream",
          "text": [
            "training loss: 1.7024672031402588\n",
            "training loss: 1.407247543334961\n",
            "training loss: 1.7590693235397339\n"
          ],
          "name": "stdout"
        },
        {
          "output_type": "stream",
          "text": [
            "\rtraining:   1%|          | 705/100000 [51:17<116:54:24,  4.24s/it]"
          ],
          "name": "stderr"
        },
        {
          "output_type": "stream",
          "text": [
            "training loss: 1.578831434249878\n",
            "training loss: 1.7676020860671997\n",
            "training loss: 1.7107195854187012\n"
          ],
          "name": "stdout"
        },
        {
          "output_type": "stream",
          "text": [
            "\rtraining:   1%|          | 708/100000 [51:29<116:43:22,  4.23s/it]"
          ],
          "name": "stderr"
        },
        {
          "output_type": "stream",
          "text": [
            "training loss: 1.7394990921020508\n",
            "training loss: 1.7302591800689697\n",
            "training loss: 1.5407683849334717\n"
          ],
          "name": "stdout"
        },
        {
          "output_type": "stream",
          "text": [
            "training:   1%|          | 711/100000 [51:42<116:36:13,  4.23s/it]"
          ],
          "name": "stderr"
        },
        {
          "output_type": "stream",
          "text": [
            "training loss: 1.6537950038909912\n",
            "training loss: 1.8122973442077637\n",
            "training loss: 1.6595938205718994\n"
          ],
          "name": "stdout"
        },
        {
          "output_type": "stream",
          "text": [
            "\rtraining:   1%|          | 714/100000 [51:55<116:32:33,  4.23s/it]"
          ],
          "name": "stderr"
        },
        {
          "output_type": "stream",
          "text": [
            "training loss: 1.700005292892456\n",
            "training loss: 1.7131123542785645\n",
            "training loss: 1.6117901802062988\n"
          ],
          "name": "stdout"
        },
        {
          "output_type": "stream",
          "text": [
            "\rtraining:   1%|          | 717/100000 [52:07<116:30:32,  4.22s/it]"
          ],
          "name": "stderr"
        },
        {
          "output_type": "stream",
          "text": [
            "training loss: 1.6931015253067017\n",
            "training loss: 1.516634464263916\n",
            "training loss: 1.7518230676651\n"
          ],
          "name": "stdout"
        },
        {
          "output_type": "stream",
          "text": [
            "training:   1%|          | 720/100000 [52:20<116:28:56,  4.22s/it]"
          ],
          "name": "stderr"
        },
        {
          "output_type": "stream",
          "text": [
            "training loss: 1.6934921741485596\n",
            "training loss: 1.6388764381408691\n",
            "training loss: 1.571229100227356\n"
          ],
          "name": "stdout"
        },
        {
          "output_type": "stream",
          "text": [
            "\rtraining:   1%|          | 723/100000 [52:33<116:27:00,  4.22s/it]"
          ],
          "name": "stderr"
        },
        {
          "output_type": "stream",
          "text": [
            "training loss: 1.7244858741760254\n",
            "training loss: 1.654322624206543\n",
            "training loss: 1.5854109525680542\n"
          ],
          "name": "stdout"
        },
        {
          "output_type": "stream",
          "text": [
            "\rtraining:   1%|          | 726/100000 [52:45<116:22:58,  4.22s/it]"
          ],
          "name": "stderr"
        },
        {
          "output_type": "stream",
          "text": [
            "training loss: 1.8410258293151855\n",
            "training loss: 1.5845965147018433\n",
            "training loss: 1.6418825387954712\n"
          ],
          "name": "stdout"
        },
        {
          "output_type": "stream",
          "text": [
            "\rtraining:   1%|          | 729/100000 [52:58<116:21:09,  4.22s/it]"
          ],
          "name": "stderr"
        },
        {
          "output_type": "stream",
          "text": [
            "training loss: 1.5682964324951172\n",
            "training loss: 1.7355666160583496\n",
            "training loss: 1.6528277397155762\n"
          ],
          "name": "stdout"
        },
        {
          "output_type": "stream",
          "text": [
            "training:   1%|          | 732/100000 [53:11<116:20:41,  4.22s/it]"
          ],
          "name": "stderr"
        },
        {
          "output_type": "stream",
          "text": [
            "training loss: 1.6573739051818848\n",
            "training loss: 1.5452489852905273\n",
            "training loss: 1.633782148361206\n"
          ],
          "name": "stdout"
        },
        {
          "output_type": "stream",
          "text": [
            "\rtraining:   1%|          | 735/100000 [53:23<116:20:57,  4.22s/it]"
          ],
          "name": "stderr"
        },
        {
          "output_type": "stream",
          "text": [
            "training loss: 1.7455787658691406\n",
            "training loss: 1.7214542627334595\n",
            "training loss: 1.7079532146453857\n"
          ],
          "name": "stdout"
        },
        {
          "output_type": "stream",
          "text": [
            "\rtraining:   1%|          | 738/100000 [53:36<116:19:06,  4.22s/it]"
          ],
          "name": "stderr"
        },
        {
          "output_type": "stream",
          "text": [
            "training loss: 1.5893937349319458\n",
            "training loss: 1.6424458026885986\n",
            "training loss: 1.800336241722107\n"
          ],
          "name": "stdout"
        },
        {
          "output_type": "stream",
          "text": [
            "\rtraining:   1%|          | 741/100000 [53:49<116:18:04,  4.22s/it]"
          ],
          "name": "stderr"
        },
        {
          "output_type": "stream",
          "text": [
            "training loss: 1.9033229351043701\n",
            "training loss: 1.720632791519165\n",
            "training loss: 1.7072027921676636\n"
          ],
          "name": "stdout"
        },
        {
          "output_type": "stream",
          "text": [
            "training:   1%|          | 744/100000 [54:01<116:16:39,  4.22s/it]"
          ],
          "name": "stderr"
        },
        {
          "output_type": "stream",
          "text": [
            "training loss: 1.688889980316162\n",
            "training loss: 1.6787506341934204\n",
            "training loss: 1.727766513824463\n"
          ],
          "name": "stdout"
        },
        {
          "output_type": "stream",
          "text": [
            "\rtraining:   1%|          | 747/100000 [54:14<116:16:19,  4.22s/it]"
          ],
          "name": "stderr"
        },
        {
          "output_type": "stream",
          "text": [
            "training loss: 1.4227290153503418\n",
            "training loss: 1.6315760612487793\n",
            "training loss: 1.6069190502166748\n"
          ],
          "name": "stdout"
        },
        {
          "output_type": "stream",
          "text": [
            "\rtraining:   1%|          | 750/100000 [54:26<116:14:55,  4.22s/it]"
          ],
          "name": "stderr"
        },
        {
          "output_type": "stream",
          "text": [
            "training loss: 1.6800795793533325\n",
            "training loss: 1.700840950012207\n",
            "training loss: 1.854873776435852\n"
          ],
          "name": "stdout"
        },
        {
          "output_type": "stream",
          "text": [
            "\rtraining:   1%|          | 753/100000 [54:39<116:14:05,  4.22s/it]"
          ],
          "name": "stderr"
        },
        {
          "output_type": "stream",
          "text": [
            "training loss: 1.7633888721466064\n",
            "training loss: 1.5735421180725098\n",
            "training loss: 1.6582683324813843\n"
          ],
          "name": "stdout"
        },
        {
          "output_type": "stream",
          "text": [
            "training:   1%|          | 756/100000 [54:52<116:18:22,  4.22s/it]"
          ],
          "name": "stderr"
        },
        {
          "output_type": "stream",
          "text": [
            "training loss: 1.6348583698272705\n",
            "training loss: 1.6996372938156128\n",
            "training loss: 1.6407215595245361\n"
          ],
          "name": "stdout"
        },
        {
          "output_type": "stream",
          "text": [
            "\rtraining:   1%|          | 759/100000 [55:04<116:17:24,  4.22s/it]"
          ],
          "name": "stderr"
        },
        {
          "output_type": "stream",
          "text": [
            "training loss: 1.6224936246871948\n",
            "training loss: 1.7360737323760986\n",
            "training loss: 1.6300910711288452\n"
          ],
          "name": "stdout"
        },
        {
          "output_type": "stream",
          "text": [
            "\rtraining:   1%|          | 762/100000 [55:17<116:15:52,  4.22s/it]"
          ],
          "name": "stderr"
        },
        {
          "output_type": "stream",
          "text": [
            "training loss: 1.6410038471221924\n",
            "training loss: 1.657172441482544\n",
            "training loss: 1.634617805480957\n"
          ],
          "name": "stdout"
        },
        {
          "output_type": "stream",
          "text": [
            "\rtraining:   1%|          | 765/100000 [55:30<116:16:26,  4.22s/it]"
          ],
          "name": "stderr"
        },
        {
          "output_type": "stream",
          "text": [
            "training loss: 1.7430604696273804\n",
            "training loss: 1.6268446445465088\n",
            "training loss: 1.6100389957427979\n"
          ],
          "name": "stdout"
        },
        {
          "output_type": "stream",
          "text": [
            "training:   1%|          | 768/100000 [55:42<116:18:41,  4.22s/it]"
          ],
          "name": "stderr"
        },
        {
          "output_type": "stream",
          "text": [
            "training loss: 1.6266599893569946\n",
            "training loss: 1.71409273147583\n",
            "training loss: 1.6580703258514404\n"
          ],
          "name": "stdout"
        },
        {
          "output_type": "stream",
          "text": [
            "\rtraining:   1%|          | 771/100000 [55:55<116:19:28,  4.22s/it]"
          ],
          "name": "stderr"
        },
        {
          "output_type": "stream",
          "text": [
            "training loss: 1.6068220138549805\n",
            "training loss: 1.5947157144546509\n",
            "training loss: 1.6202752590179443\n"
          ],
          "name": "stdout"
        },
        {
          "output_type": "stream",
          "text": [
            "\rtraining:   1%|          | 774/100000 [56:08<116:16:16,  4.22s/it]"
          ],
          "name": "stderr"
        },
        {
          "output_type": "stream",
          "text": [
            "training loss: 1.6448109149932861\n",
            "training loss: 1.665549874305725\n",
            "training loss: 1.6267974376678467\n"
          ],
          "name": "stdout"
        },
        {
          "output_type": "stream",
          "text": [
            "training:   1%|          | 777/100000 [56:20<116:16:01,  4.22s/it]"
          ],
          "name": "stderr"
        },
        {
          "output_type": "stream",
          "text": [
            "training loss: 1.6134107112884521\n",
            "training loss: 1.7025173902511597\n",
            "training loss: 1.7299609184265137\n"
          ],
          "name": "stdout"
        },
        {
          "output_type": "stream",
          "text": [
            "\rtraining:   1%|          | 780/100000 [56:33<116:16:28,  4.22s/it]"
          ],
          "name": "stderr"
        },
        {
          "output_type": "stream",
          "text": [
            "training loss: 1.7124260663986206\n",
            "training loss: 1.7533721923828125\n",
            "training loss: 1.5485384464263916\n"
          ],
          "name": "stdout"
        },
        {
          "output_type": "stream",
          "text": [
            "\rtraining:   1%|          | 783/100000 [56:46<116:14:53,  4.22s/it]"
          ],
          "name": "stderr"
        },
        {
          "output_type": "stream",
          "text": [
            "training loss: 1.6883814334869385\n",
            "training loss: 1.6645419597625732\n",
            "training loss: 1.727598786354065\n"
          ],
          "name": "stdout"
        },
        {
          "output_type": "stream",
          "text": [
            "\rtraining:   1%|          | 786/100000 [56:58<116:16:10,  4.22s/it]"
          ],
          "name": "stderr"
        },
        {
          "output_type": "stream",
          "text": [
            "training loss: 1.8164926767349243\n",
            "training loss: 1.6457542181015015\n",
            "training loss: 1.7050371170043945\n"
          ],
          "name": "stdout"
        },
        {
          "output_type": "stream",
          "text": [
            "training:   1%|          | 789/100000 [57:11<116:17:33,  4.22s/it]"
          ],
          "name": "stderr"
        },
        {
          "output_type": "stream",
          "text": [
            "training loss: 1.595133900642395\n",
            "training loss: 1.6711790561676025\n",
            "training loss: 1.416236400604248\n"
          ],
          "name": "stdout"
        },
        {
          "output_type": "stream",
          "text": [
            "\rtraining:   1%|          | 792/100000 [57:24<116:15:46,  4.22s/it]"
          ],
          "name": "stderr"
        },
        {
          "output_type": "stream",
          "text": [
            "training loss: 1.755080223083496\n",
            "training loss: 1.6264078617095947\n",
            "training loss: 1.6335402727127075\n"
          ],
          "name": "stdout"
        },
        {
          "output_type": "stream",
          "text": [
            "\rtraining:   1%|          | 795/100000 [57:36<116:15:45,  4.22s/it]"
          ],
          "name": "stderr"
        },
        {
          "output_type": "stream",
          "text": [
            "training loss: 1.5310535430908203\n",
            "training loss: 1.5237665176391602\n",
            "training loss: 1.679207444190979\n"
          ],
          "name": "stdout"
        },
        {
          "output_type": "stream",
          "text": [
            "\rtraining:   1%|          | 798/100000 [57:49<116:13:18,  4.22s/it]"
          ],
          "name": "stderr"
        },
        {
          "output_type": "stream",
          "text": [
            "training loss: 1.537595272064209\n",
            "training loss: 1.6166480779647827\n",
            "training loss: 1.6863746643066406\n"
          ],
          "name": "stdout"
        },
        {
          "output_type": "stream",
          "text": [
            "\rtraining:   1%|          | 798/100000 [58:00<116:13:18,  4.22s/it]"
          ],
          "name": "stderr"
        },
        {
          "output_type": "stream",
          "text": [
            "training loss: 1.711135983467102\n"
          ],
          "name": "stdout"
        },
        {
          "output_type": "stream",
          "text": [
            "\rtraining:   1%|          | 801/100000 [58:02<117:04:00,  4.25s/it]"
          ],
          "name": "stderr"
        },
        {
          "output_type": "stream",
          "text": [
            "validation loss: 1.6455044746398926\n",
            "training loss: 1.5932422876358032\n",
            "training loss: 1.627360224723816\n"
          ],
          "name": "stdout"
        },
        {
          "output_type": "stream",
          "text": [
            "\rtraining:   1%|          | 804/100000 [58:15<116:47:35,  4.24s/it]"
          ],
          "name": "stderr"
        },
        {
          "output_type": "stream",
          "text": [
            "training loss: 1.6908621788024902\n",
            "training loss: 1.6438721418380737\n",
            "training loss: 1.6471458673477173\n"
          ],
          "name": "stdout"
        },
        {
          "output_type": "stream",
          "text": [
            "\rtraining:   1%|          | 807/100000 [58:27<116:36:40,  4.23s/it]"
          ],
          "name": "stderr"
        },
        {
          "output_type": "stream",
          "text": [
            "training loss: 1.6711490154266357\n",
            "training loss: 1.5968210697174072\n",
            "training loss: 1.7303359508514404\n"
          ],
          "name": "stdout"
        },
        {
          "output_type": "stream",
          "text": [
            "\rtraining:   1%|          | 810/100000 [58:40<116:28:07,  4.23s/it]"
          ],
          "name": "stderr"
        },
        {
          "output_type": "stream",
          "text": [
            "training loss: 1.7458925247192383\n",
            "training loss: 1.727616548538208\n",
            "training loss: 1.6372038125991821\n"
          ],
          "name": "stdout"
        },
        {
          "output_type": "stream",
          "text": [
            "training:   1%|          | 813/100000 [58:53<116:24:08,  4.22s/it]"
          ],
          "name": "stderr"
        },
        {
          "output_type": "stream",
          "text": [
            "training loss: 1.590710997581482\n",
            "training loss: 1.3288304805755615\n",
            "training loss: 1.6656641960144043\n"
          ],
          "name": "stdout"
        },
        {
          "output_type": "stream",
          "text": [
            "\rtraining:   1%|          | 816/100000 [59:05<116:18:10,  4.22s/it]"
          ],
          "name": "stderr"
        },
        {
          "output_type": "stream",
          "text": [
            "training loss: 1.6816171407699585\n",
            "training loss: 1.662190556526184\n",
            "training loss: 1.6304852962493896\n"
          ],
          "name": "stdout"
        },
        {
          "output_type": "stream",
          "text": [
            "\rtraining:   1%|          | 819/100000 [59:18<116:16:08,  4.22s/it]"
          ],
          "name": "stderr"
        },
        {
          "output_type": "stream",
          "text": [
            "training loss: 1.571918249130249\n",
            "training loss: 1.6315103769302368\n",
            "training loss: 1.6917037963867188\n"
          ],
          "name": "stdout"
        },
        {
          "output_type": "stream",
          "text": [
            "training:   1%|          | 822/100000 [59:30<116:13:43,  4.22s/it]"
          ],
          "name": "stderr"
        },
        {
          "output_type": "stream",
          "text": [
            "training loss: 1.5714154243469238\n",
            "training loss: 1.7632367610931396\n",
            "training loss: 1.7186930179595947\n"
          ],
          "name": "stdout"
        },
        {
          "output_type": "stream",
          "text": [
            "\rtraining:   1%|          | 825/100000 [59:43<116:11:52,  4.22s/it]"
          ],
          "name": "stderr"
        },
        {
          "output_type": "stream",
          "text": [
            "training loss: 1.7166252136230469\n",
            "training loss: 1.6035445928573608\n",
            "training loss: 1.5632662773132324\n"
          ],
          "name": "stdout"
        },
        {
          "output_type": "stream",
          "text": [
            "\rtraining:   1%|          | 828/100000 [59:56<116:09:45,  4.22s/it]"
          ],
          "name": "stderr"
        },
        {
          "output_type": "stream",
          "text": [
            "training loss: 1.5151771306991577\n",
            "training loss: 1.5602120161056519\n",
            "training loss: 1.6765741109848022\n"
          ],
          "name": "stdout"
        },
        {
          "output_type": "stream",
          "text": [
            "\rtraining:   1%|          | 831/100000 [1:00:08<116:11:02,  4.22s/it]"
          ],
          "name": "stderr"
        },
        {
          "output_type": "stream",
          "text": [
            "training loss: 1.6057733297348022\n",
            "training loss: 1.5529251098632812\n",
            "training loss: 1.4582397937774658\n"
          ],
          "name": "stdout"
        },
        {
          "output_type": "stream",
          "text": [
            "training:   1%|          | 834/100000 [1:00:21<116:10:48,  4.22s/it]"
          ],
          "name": "stderr"
        },
        {
          "output_type": "stream",
          "text": [
            "training loss: 1.6948298215866089\n",
            "training loss: 1.579967737197876\n",
            "training loss: 1.6405696868896484\n"
          ],
          "name": "stdout"
        },
        {
          "output_type": "stream",
          "text": [
            "\rtraining:   1%|          | 837/100000 [1:00:34<116:14:34,  4.22s/it]"
          ],
          "name": "stderr"
        },
        {
          "output_type": "stream",
          "text": [
            "training loss: 1.7029129266738892\n",
            "training loss: 2.0039892196655273\n",
            "training loss: 1.707772135734558\n"
          ],
          "name": "stdout"
        },
        {
          "output_type": "stream",
          "text": [
            "\rtraining:   1%|          | 840/100000 [1:00:46<116:14:35,  4.22s/it]"
          ],
          "name": "stderr"
        },
        {
          "output_type": "stream",
          "text": [
            "training loss: 1.5502747297286987\n",
            "training loss: 1.7001309394836426\n",
            "training loss: 1.566290020942688\n"
          ],
          "name": "stdout"
        },
        {
          "output_type": "stream",
          "text": [
            "\rtraining:   1%|          | 843/100000 [1:00:59<116:11:07,  4.22s/it]"
          ],
          "name": "stderr"
        },
        {
          "output_type": "stream",
          "text": [
            "training loss: 1.767885684967041\n",
            "training loss: 1.655569314956665\n",
            "training loss: 1.5661492347717285\n"
          ],
          "name": "stdout"
        },
        {
          "output_type": "stream",
          "text": [
            "training:   1%|          | 846/100000 [1:01:12<116:10:10,  4.22s/it]"
          ],
          "name": "stderr"
        },
        {
          "output_type": "stream",
          "text": [
            "training loss: 1.5312511920928955\n",
            "training loss: 1.632521390914917\n",
            "training loss: 1.4969342947006226\n"
          ],
          "name": "stdout"
        },
        {
          "output_type": "stream",
          "text": [
            "\rtraining:   1%|          | 849/100000 [1:01:24<116:08:31,  4.22s/it]"
          ],
          "name": "stderr"
        },
        {
          "output_type": "stream",
          "text": [
            "training loss: 1.6716625690460205\n",
            "training loss: 1.6055619716644287\n",
            "training loss: 1.8382971286773682\n"
          ],
          "name": "stdout"
        },
        {
          "output_type": "stream",
          "text": [
            "\rtraining:   1%|          | 852/100000 [1:01:37<116:07:28,  4.22s/it]"
          ],
          "name": "stderr"
        },
        {
          "output_type": "stream",
          "text": [
            "training loss: 1.7264087200164795\n",
            "training loss: 1.5363497734069824\n",
            "training loss: 1.5872588157653809\n"
          ],
          "name": "stdout"
        },
        {
          "output_type": "stream",
          "text": [
            "\rtraining:   1%|          | 855/100000 [1:01:50<116:04:45,  4.21s/it]"
          ],
          "name": "stderr"
        },
        {
          "output_type": "stream",
          "text": [
            "training loss: 1.6518350839614868\n",
            "training loss: 1.5489256381988525\n",
            "training loss: 1.608321189880371\n"
          ],
          "name": "stdout"
        },
        {
          "output_type": "stream",
          "text": [
            "training:   1%|          | 858/100000 [1:02:02<116:08:06,  4.22s/it]"
          ],
          "name": "stderr"
        },
        {
          "output_type": "stream",
          "text": [
            "training loss: 1.6066192388534546\n",
            "training loss: 1.603980302810669\n",
            "training loss: 1.6797614097595215\n"
          ],
          "name": "stdout"
        },
        {
          "output_type": "stream",
          "text": [
            "\rtraining:   1%|          | 861/100000 [1:02:15<116:06:46,  4.22s/it]"
          ],
          "name": "stderr"
        },
        {
          "output_type": "stream",
          "text": [
            "training loss: 1.328397512435913\n",
            "training loss: 1.8584274053573608\n",
            "training loss: 1.6998709440231323\n"
          ],
          "name": "stdout"
        },
        {
          "output_type": "stream",
          "text": [
            "\rtraining:   1%|          | 864/100000 [1:02:28<116:06:06,  4.22s/it]"
          ],
          "name": "stderr"
        },
        {
          "output_type": "stream",
          "text": [
            "training loss: 1.6040854454040527\n",
            "training loss: 1.6718313694000244\n",
            "training loss: 1.6572792530059814\n"
          ],
          "name": "stdout"
        },
        {
          "output_type": "stream",
          "text": [
            "training:   1%|          | 867/100000 [1:02:40<116:05:15,  4.22s/it]"
          ],
          "name": "stderr"
        },
        {
          "output_type": "stream",
          "text": [
            "training loss: 1.6847777366638184\n",
            "training loss: 1.5884323120117188\n",
            "training loss: 1.6165286302566528\n"
          ],
          "name": "stdout"
        },
        {
          "output_type": "stream",
          "text": [
            "\rtraining:   1%|          | 870/100000 [1:02:53<116:07:03,  4.22s/it]"
          ],
          "name": "stderr"
        },
        {
          "output_type": "stream",
          "text": [
            "training loss: 1.633596420288086\n",
            "training loss: 1.5921019315719604\n",
            "training loss: 1.5177133083343506\n"
          ],
          "name": "stdout"
        },
        {
          "output_type": "stream",
          "text": [
            "\rtraining:   1%|          | 873/100000 [1:03:06<116:06:20,  4.22s/it]"
          ],
          "name": "stderr"
        },
        {
          "output_type": "stream",
          "text": [
            "training loss: 1.5887113809585571\n",
            "training loss: 1.6622884273529053\n",
            "training loss: 1.6278986930847168\n"
          ],
          "name": "stdout"
        },
        {
          "output_type": "stream",
          "text": [
            "\rtraining:   1%|          | 876/100000 [1:03:18<116:06:26,  4.22s/it]"
          ],
          "name": "stderr"
        },
        {
          "output_type": "stream",
          "text": [
            "training loss: 1.649941325187683\n",
            "training loss: 1.625827431678772\n",
            "training loss: 1.8023207187652588\n"
          ],
          "name": "stdout"
        },
        {
          "output_type": "stream",
          "text": [
            "training:   1%|          | 879/100000 [1:03:31<116:08:11,  4.22s/it]"
          ],
          "name": "stderr"
        },
        {
          "output_type": "stream",
          "text": [
            "training loss: 1.6817612648010254\n",
            "training loss: 1.5574450492858887\n",
            "training loss: 1.6355594396591187\n"
          ],
          "name": "stdout"
        },
        {
          "output_type": "stream",
          "text": [
            "\rtraining:   1%|          | 882/100000 [1:03:44<116:10:31,  4.22s/it]"
          ],
          "name": "stderr"
        },
        {
          "output_type": "stream",
          "text": [
            "training loss: 1.6173843145370483\n",
            "training loss: 1.6733485460281372\n",
            "training loss: 1.5064303874969482\n"
          ],
          "name": "stdout"
        },
        {
          "output_type": "stream",
          "text": [
            "\rtraining:   1%|          | 885/100000 [1:03:56<116:07:14,  4.22s/it]"
          ],
          "name": "stderr"
        },
        {
          "output_type": "stream",
          "text": [
            "training loss: 1.7127526998519897\n",
            "training loss: 1.703128695487976\n",
            "training loss: 1.578416109085083\n"
          ],
          "name": "stdout"
        },
        {
          "output_type": "stream",
          "text": [
            "\rtraining:   1%|          | 888/100000 [1:04:09<116:06:00,  4.22s/it]"
          ],
          "name": "stderr"
        },
        {
          "output_type": "stream",
          "text": [
            "training loss: 1.5510094165802002\n",
            "training loss: 1.44740629196167\n",
            "training loss: 1.5687575340270996\n"
          ],
          "name": "stdout"
        },
        {
          "output_type": "stream",
          "text": [
            "training:   1%|          | 891/100000 [1:04:21<116:05:34,  4.22s/it]"
          ],
          "name": "stderr"
        },
        {
          "output_type": "stream",
          "text": [
            "training loss: 1.6564197540283203\n",
            "training loss: 1.574093222618103\n",
            "training loss: 1.581987738609314\n"
          ],
          "name": "stdout"
        },
        {
          "output_type": "stream",
          "text": [
            "\rtraining:   1%|          | 894/100000 [1:04:34<116:06:26,  4.22s/it]"
          ],
          "name": "stderr"
        },
        {
          "output_type": "stream",
          "text": [
            "training loss: 1.5551731586456299\n",
            "training loss: 1.5214260816574097\n",
            "training loss: 1.5549989938735962\n"
          ],
          "name": "stdout"
        },
        {
          "output_type": "stream",
          "text": [
            "\rtraining:   1%|          | 897/100000 [1:04:47<116:05:19,  4.22s/it]"
          ],
          "name": "stderr"
        },
        {
          "output_type": "stream",
          "text": [
            "training loss: 1.728338360786438\n",
            "training loss: 1.7180103063583374\n",
            "training loss: 1.623154878616333\n"
          ],
          "name": "stdout"
        },
        {
          "output_type": "stream",
          "text": [
            "\rtraining:   1%|          | 900/100000 [1:04:59<116:02:25,  4.22s/it]"
          ],
          "name": "stderr"
        },
        {
          "output_type": "stream",
          "text": [
            "training loss: 1.5239691734313965\n",
            "training loss: 1.8234893083572388\n",
            "validation loss: 1.6275997161865234\n",
            "training loss: 1.7419209480285645\n"
          ],
          "name": "stdout"
        },
        {
          "output_type": "stream",
          "text": [
            "training:   1%|          | 903/100000 [1:05:12<116:52:12,  4.25s/it]"
          ],
          "name": "stderr"
        },
        {
          "output_type": "stream",
          "text": [
            "training loss: 1.6281242370605469\n",
            "training loss: 1.6213324069976807\n",
            "training loss: 1.585005521774292\n"
          ],
          "name": "stdout"
        },
        {
          "output_type": "stream",
          "text": [
            "\rtraining:   1%|          | 906/100000 [1:05:25<116:36:26,  4.24s/it]"
          ],
          "name": "stderr"
        },
        {
          "output_type": "stream",
          "text": [
            "training loss: 1.5902423858642578\n",
            "training loss: 1.9101506471633911\n",
            "training loss: 1.7276417016983032\n"
          ],
          "name": "stdout"
        },
        {
          "output_type": "stream",
          "text": [
            "\rtraining:   1%|          | 909/100000 [1:05:38<116:26:21,  4.23s/it]"
          ],
          "name": "stderr"
        },
        {
          "output_type": "stream",
          "text": [
            "training loss: 1.4582926034927368\n",
            "training loss: 1.7244465351104736\n",
            "training loss: 1.565114974975586\n"
          ],
          "name": "stdout"
        },
        {
          "output_type": "stream",
          "text": [
            "training:   1%|          | 912/100000 [1:05:50<116:18:57,  4.23s/it]"
          ],
          "name": "stderr"
        },
        {
          "output_type": "stream",
          "text": [
            "training loss: 1.5878499746322632\n",
            "training loss: 1.5033692121505737\n",
            "training loss: 1.5084928274154663\n"
          ],
          "name": "stdout"
        },
        {
          "output_type": "stream",
          "text": [
            "\rtraining:   1%|          | 915/100000 [1:06:03<116:15:47,  4.22s/it]"
          ],
          "name": "stderr"
        },
        {
          "output_type": "stream",
          "text": [
            "training loss: 1.722210168838501\n",
            "training loss: 1.6908260583877563\n",
            "training loss: 1.5148640871047974\n"
          ],
          "name": "stdout"
        },
        {
          "output_type": "stream",
          "text": [
            "\rtraining:   1%|          | 918/100000 [1:06:16<116:11:42,  4.22s/it]"
          ],
          "name": "stderr"
        },
        {
          "output_type": "stream",
          "text": [
            "training loss: 1.482598066329956\n",
            "training loss: 1.6622495651245117\n",
            "training loss: 1.5353704690933228\n"
          ],
          "name": "stdout"
        },
        {
          "output_type": "stream",
          "text": [
            "\rtraining:   1%|          | 921/100000 [1:06:28<116:07:52,  4.22s/it]"
          ],
          "name": "stderr"
        },
        {
          "output_type": "stream",
          "text": [
            "training loss: 1.8108564615249634\n",
            "training loss: 1.4991285800933838\n",
            "training loss: 1.6342644691467285\n"
          ],
          "name": "stdout"
        },
        {
          "output_type": "stream",
          "text": [
            "training:   1%|          | 924/100000 [1:06:41<116:05:16,  4.22s/it]"
          ],
          "name": "stderr"
        },
        {
          "output_type": "stream",
          "text": [
            "training loss: 1.5529162883758545\n",
            "training loss: 1.665740728378296\n",
            "training loss: 1.5964875221252441\n"
          ],
          "name": "stdout"
        },
        {
          "output_type": "stream",
          "text": [
            "\rtraining:   1%|          | 927/100000 [1:06:54<116:05:42,  4.22s/it]"
          ],
          "name": "stderr"
        },
        {
          "output_type": "stream",
          "text": [
            "training loss: 1.5381485223770142\n",
            "training loss: 1.6316322088241577\n",
            "training loss: 1.6513900756835938\n"
          ],
          "name": "stdout"
        },
        {
          "output_type": "stream",
          "text": [
            "\rtraining:   1%|          | 930/100000 [1:07:06<116:04:28,  4.22s/it]"
          ],
          "name": "stderr"
        },
        {
          "output_type": "stream",
          "text": [
            "training loss: 1.4910856485366821\n",
            "training loss: 1.5831536054611206\n",
            "training loss: 1.5411317348480225\n"
          ],
          "name": "stdout"
        },
        {
          "output_type": "stream",
          "text": [
            "\rtraining:   1%|          | 933/100000 [1:07:19<116:03:37,  4.22s/it]"
          ],
          "name": "stderr"
        },
        {
          "output_type": "stream",
          "text": [
            "training loss: 1.5709590911865234\n",
            "training loss: 1.5689631700515747\n",
            "training loss: 1.5272960662841797\n"
          ],
          "name": "stdout"
        },
        {
          "output_type": "stream",
          "text": [
            "training:   1%|          | 936/100000 [1:07:31<116:04:07,  4.22s/it]"
          ],
          "name": "stderr"
        },
        {
          "output_type": "stream",
          "text": [
            "training loss: 1.56820547580719\n",
            "training loss: 1.5269665718078613\n",
            "training loss: 1.6731587648391724\n"
          ],
          "name": "stdout"
        },
        {
          "output_type": "stream",
          "text": [
            "\rtraining:   1%|          | 939/100000 [1:07:44<116:03:55,  4.22s/it]"
          ],
          "name": "stderr"
        },
        {
          "output_type": "stream",
          "text": [
            "training loss: 1.5632426738739014\n",
            "training loss: 1.6299831867218018\n",
            "training loss: 1.6888716220855713\n"
          ],
          "name": "stdout"
        },
        {
          "output_type": "stream",
          "text": [
            "\rtraining:   1%|          | 942/100000 [1:07:57<116:02:16,  4.22s/it]"
          ],
          "name": "stderr"
        },
        {
          "output_type": "stream",
          "text": [
            "training loss: 1.6268097162246704\n",
            "training loss: 1.6241083145141602\n",
            "training loss: 1.6454215049743652\n"
          ],
          "name": "stdout"
        },
        {
          "output_type": "stream",
          "text": [
            "\rtraining:   1%|          | 945/100000 [1:08:09<116:00:47,  4.22s/it]"
          ],
          "name": "stderr"
        },
        {
          "output_type": "stream",
          "text": [
            "training loss: 1.6179903745651245\n",
            "training loss: 1.5312703847885132\n",
            "training loss: 1.6927330493927002\n"
          ],
          "name": "stdout"
        },
        {
          "output_type": "stream",
          "text": [
            "training:   1%|          | 948/100000 [1:08:22<116:00:17,  4.22s/it]"
          ],
          "name": "stderr"
        },
        {
          "output_type": "stream",
          "text": [
            "training loss: 1.5990999937057495\n",
            "training loss: 1.5901124477386475\n",
            "training loss: 1.626512885093689\n"
          ],
          "name": "stdout"
        },
        {
          "output_type": "stream",
          "text": [
            "\rtraining:   1%|          | 951/100000 [1:08:35<115:59:58,  4.22s/it]"
          ],
          "name": "stderr"
        },
        {
          "output_type": "stream",
          "text": [
            "training loss: 1.648356318473816\n",
            "training loss: 1.8424015045166016\n",
            "training loss: 1.5284597873687744\n"
          ],
          "name": "stdout"
        },
        {
          "output_type": "stream",
          "text": [
            "\rtraining:   1%|          | 954/100000 [1:08:47<115:59:59,  4.22s/it]"
          ],
          "name": "stderr"
        },
        {
          "output_type": "stream",
          "text": [
            "training loss: 1.7054914236068726\n",
            "training loss: 1.5325385332107544\n",
            "training loss: 1.606323003768921\n"
          ],
          "name": "stdout"
        },
        {
          "output_type": "stream",
          "text": [
            "\rtraining:   1%|          | 957/100000 [1:09:00<116:00:53,  4.22s/it]"
          ],
          "name": "stderr"
        },
        {
          "output_type": "stream",
          "text": [
            "training loss: 1.5462348461151123\n",
            "training loss: 1.630247712135315\n",
            "training loss: 1.4526349306106567\n"
          ],
          "name": "stdout"
        },
        {
          "output_type": "stream",
          "text": [
            "training:   1%|          | 960/100000 [1:09:13<116:00:51,  4.22s/it]"
          ],
          "name": "stderr"
        },
        {
          "output_type": "stream",
          "text": [
            "training loss: 1.5219415426254272\n",
            "training loss: 1.710060477256775\n",
            "training loss: 1.6189050674438477\n"
          ],
          "name": "stdout"
        },
        {
          "output_type": "stream",
          "text": [
            "\rtraining:   1%|          | 963/100000 [1:09:25<116:00:17,  4.22s/it]"
          ],
          "name": "stderr"
        },
        {
          "output_type": "stream",
          "text": [
            "training loss: 1.6128445863723755\n",
            "training loss: 1.6364102363586426\n",
            "training loss: 1.6505335569381714\n"
          ],
          "name": "stdout"
        },
        {
          "output_type": "stream",
          "text": [
            "\rtraining:   1%|          | 966/100000 [1:09:38<116:03:17,  4.22s/it]"
          ],
          "name": "stderr"
        },
        {
          "output_type": "stream",
          "text": [
            "training loss: 1.7012004852294922\n",
            "training loss: 1.562923789024353\n",
            "training loss: 1.4796500205993652\n"
          ],
          "name": "stdout"
        },
        {
          "output_type": "stream",
          "text": [
            "training:   1%|          | 969/100000 [1:09:51<116:04:23,  4.22s/it]"
          ],
          "name": "stderr"
        },
        {
          "output_type": "stream",
          "text": [
            "training loss: 1.5072264671325684\n",
            "training loss: 1.621458888053894\n",
            "training loss: 1.501184105873108\n"
          ],
          "name": "stdout"
        },
        {
          "output_type": "stream",
          "text": [
            "\rtraining:   1%|          | 972/100000 [1:10:03<116:02:48,  4.22s/it]"
          ],
          "name": "stderr"
        },
        {
          "output_type": "stream",
          "text": [
            "training loss: 1.5498924255371094\n",
            "training loss: 1.6100428104400635\n",
            "training loss: 1.5653115510940552\n"
          ],
          "name": "stdout"
        },
        {
          "output_type": "stream",
          "text": [
            "\rtraining:   1%|          | 975/100000 [1:10:16<115:59:14,  4.22s/it]"
          ],
          "name": "stderr"
        },
        {
          "output_type": "stream",
          "text": [
            "training loss: 1.5005627870559692\n",
            "training loss: 1.4461278915405273\n",
            "training loss: 1.6069953441619873\n"
          ],
          "name": "stdout"
        },
        {
          "output_type": "stream",
          "text": [
            "\rtraining:   1%|          | 978/100000 [1:10:29<115:57:54,  4.22s/it]"
          ],
          "name": "stderr"
        },
        {
          "output_type": "stream",
          "text": [
            "training loss: 1.4669482707977295\n",
            "training loss: 1.6248555183410645\n",
            "training loss: 1.5274518728256226\n"
          ],
          "name": "stdout"
        },
        {
          "output_type": "stream",
          "text": [
            "training:   1%|          | 981/100000 [1:10:41<115:59:08,  4.22s/it]"
          ],
          "name": "stderr"
        },
        {
          "output_type": "stream",
          "text": [
            "training loss: 1.6423227787017822\n",
            "training loss: 1.6181000471115112\n",
            "training loss: 1.6301614046096802\n"
          ],
          "name": "stdout"
        },
        {
          "output_type": "stream",
          "text": [
            "\rtraining:   1%|          | 984/100000 [1:10:54<115:57:50,  4.22s/it]"
          ],
          "name": "stderr"
        },
        {
          "output_type": "stream",
          "text": [
            "training loss: 1.6695002317428589\n",
            "training loss: 1.615743637084961\n",
            "training loss: 1.6799391508102417\n"
          ],
          "name": "stdout"
        },
        {
          "output_type": "stream",
          "text": [
            "\rtraining:   1%|          | 987/100000 [1:11:07<115:56:33,  4.22s/it]"
          ],
          "name": "stderr"
        },
        {
          "output_type": "stream",
          "text": [
            "training loss: 1.5724000930786133\n",
            "training loss: 1.5252504348754883\n",
            "training loss: 1.6859461069107056\n"
          ],
          "name": "stdout"
        },
        {
          "output_type": "stream",
          "text": [
            "\rtraining:   1%|          | 990/100000 [1:11:19<115:56:57,  4.22s/it]"
          ],
          "name": "stderr"
        },
        {
          "output_type": "stream",
          "text": [
            "training loss: 1.648355484008789\n",
            "training loss: 1.6380935907363892\n",
            "training loss: 1.5465325117111206\n"
          ],
          "name": "stdout"
        },
        {
          "output_type": "stream",
          "text": [
            "training:   1%|          | 993/100000 [1:11:32<115:56:50,  4.22s/it]"
          ],
          "name": "stderr"
        },
        {
          "output_type": "stream",
          "text": [
            "training loss: 1.4076396226882935\n",
            "training loss: 1.602697491645813\n",
            "training loss: 1.577939748764038\n"
          ],
          "name": "stdout"
        },
        {
          "output_type": "stream",
          "text": [
            "\rtraining:   1%|          | 996/100000 [1:11:44<115:58:04,  4.22s/it]"
          ],
          "name": "stderr"
        },
        {
          "output_type": "stream",
          "text": [
            "training loss: 1.5865015983581543\n",
            "training loss: 1.552992343902588\n",
            "training loss: 1.5199099779129028\n"
          ],
          "name": "stdout"
        },
        {
          "output_type": "stream",
          "text": [
            "\rtraining:   1%|          | 999/100000 [1:11:57<115:59:17,  4.22s/it]"
          ],
          "name": "stderr"
        },
        {
          "output_type": "stream",
          "text": [
            "training loss: 1.573541283607483\n",
            "training loss: 1.531973123550415\n",
            "training loss: 1.5633611679077148\n",
            "validation loss: 1.5750008821487427\n",
            "%s \n",
            "\n",
            " %s ('re [[century|centuries]] old. In addition to providing for the needs of travellers, inns traditionally acted as [[community]] gathering places.  In today\\'s [[automobile]]-ridden [[world]], real inns are fast dying out.  The few that are left function primarily as [[pub]]s. In [[North America]], inns are usually [[alcoholic beverage|alcohol]]-serving [[restaurant]]s that have never provided lodging or serviced the needs of travellers.  In Europe, it is the provision of accommodation, if anything, that now differentiates inns from [[tavern]]s, [[alehouse]]s and [[pubs]].  These later tended only to supply alcohol (although in the [[United Kingdom|UK]] the conditions of their licence sometimes required them to have a nominal supply of food and soft drinks).  Inns tend to be grander and more long-lived establishments.  Famous London examples include [[the George]] and [[the Tabard]].  There is however no formal distinction between an inn and other kinds of establishment, and many pubs will use the name &quot;inn&quot;, either simply because they are long established, or to summon up a particular kind of image.  The original functions of an inn are now usually split among separate establishments, such as [[hotel]]s, [[lodge]]s, [[motel]]s, [[pub]]s, [[restaurant]]s, and [[tavern]]s.  In North America, the lodging aspect of the word &quot;inn&quot; lives on in hotel [[brand]] names like [[Holiday Inn]], and in some state laws that refer to lodging operators as innkeepers.  The German words for &quot;inn&quot;, &quot;innkeeper&quot;, and &quot;inkeeping&quot; illustrate the historical importance of inns.  An innkeeper is \\'\\'\\'Wirt\\'\\'\\' (a [[host]]), the inn itself is a \\'\\'\\'Wirtshaus\\'\\'\\' (a host\\'s house), and innkeeping is \\'\\'\\'Wirtschaft\\'\\'\\'.  The last word literally means hosting or [[hospitality]], but is also used to mean [[economics|economy]] and [[business]] in general.  In the [[Greek language]], the word for economy (\\'\\'oikos\\'\\' &quot;house&quot; + \\'\\'nomos\\'\\' &quot;law&quot;) is actually identical to [[housekeeping]].  The [[Inns of Court]] were originally ordinary inns where [[lawyer]]s met to do business, but have become institutions of the legal profession in [[London]].  ==See also==  *[[Public house]] *[[Coaching inn]] *[[Caravanserai]] *[[List of lodging types]] *\\'\\'[[The White Horse Inn]]\\'\\'  ==External links== *[http://www.ratebeer.com/Beer-News/Article-312.htm A Brief History of the British Pub]  [[Category:Drinking establishments]] [[Category:Hotel types]]  [[de:GaststÃ¤tte]] [[es:Posada]] [[ja:&amp;#23487;&amp;#27850;&amp;#26045;&amp;#35373;]] [[nl:herberg]]</text>     </revision>   </page>   <page>     <title>International Olympiad in Informatics</title>     <id>14777</id>     <revision>       <id>37262344</id>       <timestamp>2006-01-29T21:41:03Z</timestamp>       <contributor>         <username>Algorithmus ua</username>         <id>855449</id>       </contributor>       <text xml:space=\"preserve\">The \\'\\'\\'International Olympiad in Informatics (IOI)\\'\\'\\' is an annual [[Computer science|informatics]] [[international science olympiad|competition]] for secondary school students. The first IOI was held in [[1989]].  The contest consists of two days computer programming, solving problems of an [[algorithm|algorithmic]] nature.  Students compete on an individual basis, with up to four students competing from each participating country (with around 81 countries in 2004).  Students are selected through national computing contests. For example, in Britain, students compete in the [[British Informatics Olympiad|BIO]] for a place in the national team.  == Structure of the competition == On each of the two competition days, the students are typically given three problems which they have to solve in five hours. Each student works on his/her own, with only a computer and no other help allowed, specifically no communication with other contestants, books etc. Usually to solve a task the contestant has to write a computer program (in [[C programming language|C]], [[C++]] or [[Pascal programming language|Pascal]]) and submit it before the fiv', '****************************************************************************************************')\n"
          ],
          "name": "stdout"
        },
        {
          "output_type": "stream",
          "text": [
            "training:   1%|          | 1001/100000 [1:12:56<269:50:51,  9.81s/it]"
          ],
          "name": "stderr"
        },
        {
          "output_type": "stream",
          "text": [
            "onerned for singly bulue/carroas as beleck believed. By the [[Glard Papbechisen as Bernets]]   :[[hindo healian gald biaters|ple (sares (whive forth (by also cous bas vendre of the ceurse is oftion readded the fictive in songer glack to his sofine. Whence by Afordering five sefsplised at welletwill-enorch lomogratimaterized operocist. Thes endenth chearch spissed explie plornvi bethow of hold con lancientination of dress, destheeliesly movienting with the wine spased the reas of ghe nation on as allowed sco\n",
            "training loss: 1.60386323928833\n",
            "training loss: 1.582956075668335\n"
          ],
          "name": "stdout"
        },
        {
          "output_type": "stream",
          "text": [
            "\rtraining:   1%|          | 1004/100000 [1:13:09<220:11:14,  8.01s/it]"
          ],
          "name": "stderr"
        },
        {
          "output_type": "stream",
          "text": [
            "training loss: 1.54746413230896\n",
            "training loss: 1.568924903869629\n",
            "training loss: 1.6787753105163574\n"
          ],
          "name": "stdout"
        },
        {
          "output_type": "stream",
          "text": [
            "training:   1%|          | 1007/100000 [1:13:21<187:18:18,  6.81s/it]"
          ],
          "name": "stderr"
        },
        {
          "output_type": "stream",
          "text": [
            "training loss: 1.5875319242477417\n",
            "training loss: 1.4275074005126953\n",
            "training loss: 1.7421870231628418\n"
          ],
          "name": "stdout"
        },
        {
          "output_type": "stream",
          "text": [
            "\rtraining:   1%|          | 1010/100000 [1:13:34<165:10:03,  6.01s/it]"
          ],
          "name": "stderr"
        },
        {
          "output_type": "stream",
          "text": [
            "training loss: 1.5504708290100098\n",
            "training loss: 1.6314892768859863\n",
            "training loss: 1.6568642854690552\n"
          ],
          "name": "stdout"
        },
        {
          "output_type": "stream",
          "text": [
            "\rtraining:   1%|          | 1013/100000 [1:13:47<150:00:18,  5.46s/it]"
          ],
          "name": "stderr"
        },
        {
          "output_type": "stream",
          "text": [
            "training loss: 1.581615686416626\n",
            "training loss: 1.536429524421692\n",
            "training loss: 1.5554697513580322\n"
          ],
          "name": "stdout"
        },
        {
          "output_type": "stream",
          "text": [
            "\rtraining:   1%|          | 1016/100000 [1:13:59<139:36:59,  5.08s/it]"
          ],
          "name": "stderr"
        },
        {
          "output_type": "stream",
          "text": [
            "training loss: 1.7769163846969604\n",
            "training loss: 1.6530745029449463\n",
            "training loss: 1.619425892829895\n"
          ],
          "name": "stdout"
        },
        {
          "output_type": "stream",
          "text": [
            "training:   1%|          | 1019/100000 [1:14:12<132:25:58,  4.82s/it]"
          ],
          "name": "stderr"
        },
        {
          "output_type": "stream",
          "text": [
            "training loss: 1.5026525259017944\n",
            "training loss: 1.6242014169692993\n",
            "training loss: 1.6411455869674683\n"
          ],
          "name": "stdout"
        },
        {
          "output_type": "stream",
          "text": [
            "\rtraining:   1%|          | 1022/100000 [1:14:24<127:25:35,  4.63s/it]"
          ],
          "name": "stderr"
        },
        {
          "output_type": "stream",
          "text": [
            "training loss: 1.5187654495239258\n",
            "training loss: 1.6962798833847046\n",
            "training loss: 1.489298701286316\n"
          ],
          "name": "stdout"
        },
        {
          "output_type": "stream",
          "text": [
            "\rtraining:   1%|          | 1025/100000 [1:14:37<124:00:58,  4.51s/it]"
          ],
          "name": "stderr"
        },
        {
          "output_type": "stream",
          "text": [
            "training loss: 1.629148244857788\n",
            "training loss: 1.4765334129333496\n",
            "training loss: 1.5282095670700073\n"
          ],
          "name": "stdout"
        },
        {
          "output_type": "stream",
          "text": [
            "\rtraining:   1%|          | 1028/100000 [1:14:50<121:36:46,  4.42s/it]"
          ],
          "name": "stderr"
        },
        {
          "output_type": "stream",
          "text": [
            "training loss: 1.3822813034057617\n",
            "training loss: 1.4750138521194458\n",
            "training loss: 1.636483907699585\n"
          ],
          "name": "stdout"
        },
        {
          "output_type": "stream",
          "text": [
            "training:   1%|          | 1031/100000 [1:15:02<119:55:55,  4.36s/it]"
          ],
          "name": "stderr"
        },
        {
          "output_type": "stream",
          "text": [
            "training loss: 1.6534204483032227\n",
            "training loss: 1.5778919458389282\n",
            "training loss: 1.5560367107391357\n"
          ],
          "name": "stdout"
        },
        {
          "output_type": "stream",
          "text": [
            "\rtraining:   1%|          | 1034/100000 [1:15:15<118:43:06,  4.32s/it]"
          ],
          "name": "stderr"
        },
        {
          "output_type": "stream",
          "text": [
            "training loss: 1.5702903270721436\n",
            "training loss: 1.6075059175491333\n",
            "training loss: 1.5746963024139404\n"
          ],
          "name": "stdout"
        },
        {
          "output_type": "stream",
          "text": [
            "\rtraining:   1%|          | 1037/100000 [1:15:28<117:51:15,  4.29s/it]"
          ],
          "name": "stderr"
        },
        {
          "output_type": "stream",
          "text": [
            "training loss: 1.4792540073394775\n",
            "training loss: 1.4625444412231445\n",
            "training loss: 1.5191599130630493\n"
          ],
          "name": "stdout"
        },
        {
          "output_type": "stream",
          "text": [
            "training:   1%|          | 1040/100000 [1:15:40<117:17:09,  4.27s/it]"
          ],
          "name": "stderr"
        },
        {
          "output_type": "stream",
          "text": [
            "training loss: 1.4593993425369263\n",
            "training loss: 1.5995283126831055\n",
            "training loss: 1.4274487495422363\n"
          ],
          "name": "stdout"
        },
        {
          "output_type": "stream",
          "text": [
            "\rtraining:   1%|          | 1043/100000 [1:15:53<116:51:20,  4.25s/it]"
          ],
          "name": "stderr"
        },
        {
          "output_type": "stream",
          "text": [
            "training loss: 1.5667771100997925\n",
            "training loss: 1.5542775392532349\n",
            "training loss: 1.5884499549865723\n"
          ],
          "name": "stdout"
        },
        {
          "output_type": "stream",
          "text": [
            "\rtraining:   1%|          | 1046/100000 [1:16:06<116:38:29,  4.24s/it]"
          ],
          "name": "stderr"
        },
        {
          "output_type": "stream",
          "text": [
            "training loss: 1.554107666015625\n",
            "training loss: 1.6054134368896484\n",
            "training loss: 1.6477937698364258\n"
          ],
          "name": "stdout"
        },
        {
          "output_type": "stream",
          "text": [
            "\rtraining:   1%|          | 1049/100000 [1:16:18<116:25:17,  4.24s/it]"
          ],
          "name": "stderr"
        },
        {
          "output_type": "stream",
          "text": [
            "training loss: 1.5843908786773682\n",
            "training loss: 1.5945098400115967\n",
            "training loss: 1.38373863697052\n"
          ],
          "name": "stdout"
        },
        {
          "output_type": "stream",
          "text": [
            "training:   1%|          | 1052/100000 [1:16:31<116:17:13,  4.23s/it]"
          ],
          "name": "stderr"
        },
        {
          "output_type": "stream",
          "text": [
            "training loss: 1.669096827507019\n",
            "training loss: 1.6004431247711182\n",
            "training loss: 1.5511186122894287\n"
          ],
          "name": "stdout"
        },
        {
          "output_type": "stream",
          "text": [
            "\rtraining:   1%|          | 1055/100000 [1:16:44<116:12:26,  4.23s/it]"
          ],
          "name": "stderr"
        },
        {
          "output_type": "stream",
          "text": [
            "training loss: 1.6052907705307007\n",
            "training loss: 1.4795023202896118\n",
            "training loss: 1.622703194618225\n"
          ],
          "name": "stdout"
        },
        {
          "output_type": "stream",
          "text": [
            "\rtraining:   1%|          | 1058/100000 [1:16:56<116:08:42,  4.23s/it]"
          ],
          "name": "stderr"
        },
        {
          "output_type": "stream",
          "text": [
            "training loss: 1.609445333480835\n",
            "training loss: 1.6029943227767944\n",
            "training loss: 1.5299824476242065\n"
          ],
          "name": "stdout"
        },
        {
          "output_type": "stream",
          "text": [
            "\rtraining:   1%|          | 1061/100000 [1:17:09<116:05:48,  4.22s/it]"
          ],
          "name": "stderr"
        },
        {
          "output_type": "stream",
          "text": [
            "training loss: 1.4046050310134888\n",
            "training loss: 1.6139793395996094\n",
            "training loss: 1.64039146900177\n"
          ],
          "name": "stdout"
        },
        {
          "output_type": "stream",
          "text": [
            "training:   1%|          | 1064/100000 [1:17:22<116:05:34,  4.22s/it]"
          ],
          "name": "stderr"
        },
        {
          "output_type": "stream",
          "text": [
            "training loss: 1.475826382637024\n",
            "training loss: 1.521338701248169\n",
            "training loss: 1.4104763269424438\n"
          ],
          "name": "stdout"
        },
        {
          "output_type": "stream",
          "text": [
            "\rtraining:   1%|          | 1067/100000 [1:17:34<116:03:24,  4.22s/it]"
          ],
          "name": "stderr"
        },
        {
          "output_type": "stream",
          "text": [
            "training loss: 1.4946768283843994\n",
            "training loss: 1.575417399406433\n",
            "training loss: 1.6153368949890137\n"
          ],
          "name": "stdout"
        },
        {
          "output_type": "stream",
          "text": [
            "\rtraining:   1%|          | 1070/100000 [1:17:47<115:58:19,  4.22s/it]"
          ],
          "name": "stderr"
        },
        {
          "output_type": "stream",
          "text": [
            "training loss: 1.6613885164260864\n",
            "training loss: 1.6435737609863281\n",
            "training loss: 1.5643898248672485\n"
          ],
          "name": "stdout"
        },
        {
          "output_type": "stream",
          "text": [
            "\rtraining:   1%|          | 1073/100000 [1:18:00<115:58:53,  4.22s/it]"
          ],
          "name": "stderr"
        },
        {
          "output_type": "stream",
          "text": [
            "training loss: 1.5231757164001465\n",
            "training loss: 1.5781233310699463\n",
            "training loss: 1.6497802734375\n"
          ],
          "name": "stdout"
        },
        {
          "output_type": "stream",
          "text": [
            "training:   1%|          | 1076/100000 [1:18:12<115:58:07,  4.22s/it]"
          ],
          "name": "stderr"
        },
        {
          "output_type": "stream",
          "text": [
            "training loss: 1.6020214557647705\n",
            "training loss: 1.3992643356323242\n",
            "training loss: 1.6640509366989136\n"
          ],
          "name": "stdout"
        },
        {
          "output_type": "stream",
          "text": [
            "\rtraining:   1%|          | 1079/100000 [1:18:25<115:56:34,  4.22s/it]"
          ],
          "name": "stderr"
        },
        {
          "output_type": "stream",
          "text": [
            "training loss: 1.6546308994293213\n",
            "training loss: 1.4348894357681274\n",
            "training loss: 1.5888826847076416\n"
          ],
          "name": "stdout"
        },
        {
          "output_type": "stream",
          "text": [
            "\rtraining:   1%|          | 1082/100000 [1:18:38<115:55:30,  4.22s/it]"
          ],
          "name": "stderr"
        },
        {
          "output_type": "stream",
          "text": [
            "training loss: 1.5267642736434937\n",
            "training loss: 1.5933510065078735\n",
            "training loss: 1.6459872722625732\n"
          ],
          "name": "stdout"
        },
        {
          "output_type": "stream",
          "text": [
            "training:   1%|          | 1085/100000 [1:18:50<115:55:25,  4.22s/it]"
          ],
          "name": "stderr"
        },
        {
          "output_type": "stream",
          "text": [
            "training loss: 1.5647943019866943\n",
            "training loss: 1.5822365283966064\n",
            "training loss: 1.8522953987121582\n"
          ],
          "name": "stdout"
        },
        {
          "output_type": "stream",
          "text": [
            "\rtraining:   1%|          | 1088/100000 [1:19:03<115:55:18,  4.22s/it]"
          ],
          "name": "stderr"
        },
        {
          "output_type": "stream",
          "text": [
            "training loss: 1.5097806453704834\n",
            "training loss: 1.4832308292388916\n",
            "training loss: 1.4339146614074707\n"
          ],
          "name": "stdout"
        },
        {
          "output_type": "stream",
          "text": [
            "\rtraining:   1%|          | 1091/100000 [1:19:16<115:53:29,  4.22s/it]"
          ],
          "name": "stderr"
        },
        {
          "output_type": "stream",
          "text": [
            "training loss: 1.3635280132293701\n",
            "training loss: 1.5268490314483643\n",
            "training loss: 1.5417097806930542\n"
          ],
          "name": "stdout"
        },
        {
          "output_type": "stream",
          "text": [
            "\rtraining:   1%|          | 1094/100000 [1:19:28<115:51:58,  4.22s/it]"
          ],
          "name": "stderr"
        },
        {
          "output_type": "stream",
          "text": [
            "training loss: 1.5480327606201172\n",
            "training loss: 1.518355369567871\n",
            "training loss: 1.499764084815979\n"
          ],
          "name": "stdout"
        },
        {
          "output_type": "stream",
          "text": [
            "training:   1%|          | 1097/100000 [1:19:41<115:54:37,  4.22s/it]"
          ],
          "name": "stderr"
        },
        {
          "output_type": "stream",
          "text": [
            "training loss: 1.5506243705749512\n",
            "training loss: 1.5955768823623657\n",
            "training loss: 1.470933198928833\n"
          ],
          "name": "stdout"
        },
        {
          "output_type": "stream",
          "text": [
            "\rtraining:   1%|          | 1100/100000 [1:19:54<115:53:58,  4.22s/it]"
          ],
          "name": "stderr"
        },
        {
          "output_type": "stream",
          "text": [
            "training loss: 1.5523598194122314\n",
            "training loss: 1.5500938892364502\n",
            "validation loss: 1.5923799276351929\n",
            "training loss: 1.614314317703247\n"
          ],
          "name": "stdout"
        },
        {
          "output_type": "stream",
          "text": [
            "\rtraining:   1%|          | 1103/100000 [1:20:07<116:43:14,  4.25s/it]"
          ],
          "name": "stderr"
        },
        {
          "output_type": "stream",
          "text": [
            "training loss: 1.5036797523498535\n",
            "training loss: 1.7545870542526245\n",
            "training loss: 1.6452189683914185\n"
          ],
          "name": "stdout"
        },
        {
          "output_type": "stream",
          "text": [
            "\rtraining:   1%|          | 1106/100000 [1:20:19<116:27:27,  4.24s/it]"
          ],
          "name": "stderr"
        },
        {
          "output_type": "stream",
          "text": [
            "training loss: 1.486257791519165\n",
            "training loss: 1.5977139472961426\n",
            "training loss: 1.6373395919799805\n"
          ],
          "name": "stdout"
        },
        {
          "output_type": "stream",
          "text": [
            "training:   1%|          | 1109/100000 [1:20:32<116:14:58,  4.23s/it]"
          ],
          "name": "stderr"
        },
        {
          "output_type": "stream",
          "text": [
            "training loss: 1.541871190071106\n",
            "training loss: 1.6618605852127075\n",
            "training loss: 1.74825119972229\n"
          ],
          "name": "stdout"
        },
        {
          "output_type": "stream",
          "text": [
            "\rtraining:   1%|          | 1112/100000 [1:20:45<116:09:39,  4.23s/it]"
          ],
          "name": "stderr"
        },
        {
          "output_type": "stream",
          "text": [
            "training loss: 1.585984706878662\n",
            "training loss: 1.4900813102722168\n",
            "training loss: 1.5887916088104248\n"
          ],
          "name": "stdout"
        },
        {
          "output_type": "stream",
          "text": [
            "\rtraining:   1%|          | 1115/100000 [1:20:57<116:01:51,  4.22s/it]"
          ],
          "name": "stderr"
        },
        {
          "output_type": "stream",
          "text": [
            "training loss: 1.7499635219573975\n",
            "training loss: 1.542046308517456\n",
            "training loss: 1.5378501415252686\n"
          ],
          "name": "stdout"
        },
        {
          "output_type": "stream",
          "text": [
            "\rtraining:   1%|          | 1118/100000 [1:21:10<115:56:22,  4.22s/it]"
          ],
          "name": "stderr"
        },
        {
          "output_type": "stream",
          "text": [
            "training loss: 1.5548739433288574\n",
            "training loss: 1.7013013362884521\n",
            "training loss: 1.4704341888427734\n"
          ],
          "name": "stdout"
        },
        {
          "output_type": "stream",
          "text": [
            "training:   1%|          | 1121/100000 [1:21:22<115:54:24,  4.22s/it]"
          ],
          "name": "stderr"
        },
        {
          "output_type": "stream",
          "text": [
            "training loss: 1.2951728105545044\n",
            "training loss: 1.6043602228164673\n",
            "training loss: 1.468308925628662\n"
          ],
          "name": "stdout"
        },
        {
          "output_type": "stream",
          "text": [
            "\rtraining:   1%|          | 1124/100000 [1:21:35<115:52:35,  4.22s/it]"
          ],
          "name": "stderr"
        },
        {
          "output_type": "stream",
          "text": [
            "training loss: 1.5127570629119873\n",
            "training loss: 1.3826513290405273\n",
            "training loss: 1.6084610223770142\n"
          ],
          "name": "stdout"
        },
        {
          "output_type": "stream",
          "text": [
            "\rtraining:   1%|          | 1127/100000 [1:21:48<115:52:15,  4.22s/it]"
          ],
          "name": "stderr"
        },
        {
          "output_type": "stream",
          "text": [
            "training loss: 1.5508846044540405\n",
            "training loss: 1.4243937730789185\n",
            "training loss: 1.5737192630767822\n"
          ],
          "name": "stdout"
        },
        {
          "output_type": "stream",
          "text": [
            "training:   1%|          | 1130/100000 [1:22:00<115:51:12,  4.22s/it]"
          ],
          "name": "stderr"
        },
        {
          "output_type": "stream",
          "text": [
            "training loss: 1.4949424266815186\n",
            "training loss: 1.5336790084838867\n",
            "training loss: 1.488844394683838\n"
          ],
          "name": "stdout"
        },
        {
          "output_type": "stream",
          "text": [
            "\rtraining:   1%|          | 1133/100000 [1:22:13<115:52:12,  4.22s/it]"
          ],
          "name": "stderr"
        },
        {
          "output_type": "stream",
          "text": [
            "training loss: 1.5260006189346313\n",
            "training loss: 1.5577653646469116\n",
            "training loss: 1.3675415515899658\n"
          ],
          "name": "stdout"
        },
        {
          "output_type": "stream",
          "text": [
            "\rtraining:   1%|          | 1136/100000 [1:22:26<115:50:09,  4.22s/it]"
          ],
          "name": "stderr"
        },
        {
          "output_type": "stream",
          "text": [
            "training loss: 1.632477879524231\n",
            "training loss: 1.7608016729354858\n",
            "training loss: 1.6175845861434937\n"
          ],
          "name": "stdout"
        },
        {
          "output_type": "stream",
          "text": [
            "\rtraining:   1%|          | 1139/100000 [1:22:38<115:50:46,  4.22s/it]"
          ],
          "name": "stderr"
        },
        {
          "output_type": "stream",
          "text": [
            "training loss: 1.4830772876739502\n",
            "training loss: 1.6061193943023682\n",
            "training loss: 1.444553256034851\n"
          ],
          "name": "stdout"
        },
        {
          "output_type": "stream",
          "text": [
            "training:   1%|          | 1142/100000 [1:22:51<115:49:14,  4.22s/it]"
          ],
          "name": "stderr"
        },
        {
          "output_type": "stream",
          "text": [
            "training loss: 1.5609397888183594\n",
            "training loss: 1.6938931941986084\n",
            "training loss: 1.692129373550415\n"
          ],
          "name": "stdout"
        },
        {
          "output_type": "stream",
          "text": [
            "\rtraining:   1%|          | 1145/100000 [1:23:04<115:49:11,  4.22s/it]"
          ],
          "name": "stderr"
        },
        {
          "output_type": "stream",
          "text": [
            "training loss: 1.448071837425232\n",
            "training loss: 1.485902190208435\n",
            "training loss: 1.629858374595642\n"
          ],
          "name": "stdout"
        },
        {
          "output_type": "stream",
          "text": [
            "\rtraining:   1%|          | 1148/100000 [1:23:16<115:50:00,  4.22s/it]"
          ],
          "name": "stderr"
        },
        {
          "output_type": "stream",
          "text": [
            "training loss: 1.5775842666625977\n",
            "training loss: 1.5878725051879883\n",
            "training loss: 1.4554760456085205\n"
          ],
          "name": "stdout"
        },
        {
          "output_type": "stream",
          "text": [
            "\rtraining:   1%|          | 1151/100000 [1:23:29<115:49:44,  4.22s/it]"
          ],
          "name": "stderr"
        },
        {
          "output_type": "stream",
          "text": [
            "training loss: 1.6185877323150635\n",
            "training loss: 1.547331690788269\n",
            "training loss: 1.7156625986099243\n"
          ],
          "name": "stdout"
        },
        {
          "output_type": "stream",
          "text": [
            "training:   1%|          | 1154/100000 [1:23:42<115:48:56,  4.22s/it]"
          ],
          "name": "stderr"
        },
        {
          "output_type": "stream",
          "text": [
            "training loss: 1.6537013053894043\n",
            "training loss: 1.4449410438537598\n",
            "training loss: 1.5613912343978882\n"
          ],
          "name": "stdout"
        },
        {
          "output_type": "stream",
          "text": [
            "\rtraining:   1%|          | 1157/100000 [1:23:54<115:49:22,  4.22s/it]"
          ],
          "name": "stderr"
        },
        {
          "output_type": "stream",
          "text": [
            "training loss: 1.60451078414917\n",
            "training loss: 1.5687025785446167\n",
            "training loss: 1.6180856227874756\n"
          ],
          "name": "stdout"
        },
        {
          "output_type": "stream",
          "text": [
            "\rtraining:   1%|          | 1160/100000 [1:24:07<115:49:18,  4.22s/it]"
          ],
          "name": "stderr"
        },
        {
          "output_type": "stream",
          "text": [
            "training loss: 1.6550559997558594\n",
            "training loss: 1.6113759279251099\n",
            "training loss: 1.5948216915130615\n"
          ],
          "name": "stdout"
        },
        {
          "output_type": "stream",
          "text": [
            "\rtraining:   1%|          | 1163/100000 [1:24:20<115:49:31,  4.22s/it]"
          ],
          "name": "stderr"
        },
        {
          "output_type": "stream",
          "text": [
            "training loss: 1.5047637224197388\n",
            "training loss: 1.562941551208496\n",
            "training loss: 1.6287610530853271\n"
          ],
          "name": "stdout"
        },
        {
          "output_type": "stream",
          "text": [
            "training:   1%|          | 1166/100000 [1:24:32<115:48:47,  4.22s/it]"
          ],
          "name": "stderr"
        },
        {
          "output_type": "stream",
          "text": [
            "training loss: 1.5151238441467285\n",
            "training loss: 1.5661300420761108\n",
            "training loss: 1.5228105783462524\n"
          ],
          "name": "stdout"
        },
        {
          "output_type": "stream",
          "text": [
            "\rtraining:   1%|          | 1169/100000 [1:24:45<115:51:01,  4.22s/it]"
          ],
          "name": "stderr"
        },
        {
          "output_type": "stream",
          "text": [
            "training loss: 1.5122466087341309\n",
            "training loss: 1.5524790287017822\n",
            "training loss: 1.7867995500564575\n"
          ],
          "name": "stdout"
        },
        {
          "output_type": "stream",
          "text": [
            "\rtraining:   1%|          | 1172/100000 [1:24:58<115:47:55,  4.22s/it]"
          ],
          "name": "stderr"
        },
        {
          "output_type": "stream",
          "text": [
            "training loss: 1.5533323287963867\n",
            "training loss: 1.4067003726959229\n",
            "training loss: 1.5015864372253418\n"
          ],
          "name": "stdout"
        },
        {
          "output_type": "stream",
          "text": [
            "training:   1%|          | 1175/100000 [1:25:10<115:47:39,  4.22s/it]"
          ],
          "name": "stderr"
        },
        {
          "output_type": "stream",
          "text": [
            "training loss: 1.4109811782836914\n",
            "training loss: 1.619457483291626\n",
            "training loss: 1.4733154773712158\n"
          ],
          "name": "stdout"
        },
        {
          "output_type": "stream",
          "text": [
            "\rtraining:   1%|          | 1178/100000 [1:25:23<115:47:24,  4.22s/it]"
          ],
          "name": "stderr"
        },
        {
          "output_type": "stream",
          "text": [
            "training loss: 1.5129661560058594\n",
            "training loss: 1.5453397035598755\n",
            "training loss: 1.4569050073623657\n"
          ],
          "name": "stdout"
        },
        {
          "output_type": "stream",
          "text": [
            "\rtraining:   1%|          | 1181/100000 [1:25:36<115:47:53,  4.22s/it]"
          ],
          "name": "stderr"
        },
        {
          "output_type": "stream",
          "text": [
            "training loss: 1.3413565158843994\n",
            "training loss: 1.561425805091858\n",
            "training loss: 1.4559944868087769\n"
          ],
          "name": "stdout"
        },
        {
          "output_type": "stream",
          "text": [
            "\rtraining:   1%|          | 1184/100000 [1:25:48<115:45:54,  4.22s/it]"
          ],
          "name": "stderr"
        },
        {
          "output_type": "stream",
          "text": [
            "training loss: 1.4945582151412964\n",
            "training loss: 1.4937095642089844\n",
            "training loss: 1.5208348035812378\n"
          ],
          "name": "stdout"
        },
        {
          "output_type": "stream",
          "text": [
            "training:   1%|          | 1187/100000 [1:26:01<115:47:50,  4.22s/it]"
          ],
          "name": "stderr"
        },
        {
          "output_type": "stream",
          "text": [
            "training loss: 1.4706872701644897\n",
            "training loss: 1.5747127532958984\n",
            "training loss: 1.5688235759735107\n"
          ],
          "name": "stdout"
        },
        {
          "output_type": "stream",
          "text": [
            "\rtraining:   1%|          | 1190/100000 [1:26:14<115:48:17,  4.22s/it]"
          ],
          "name": "stderr"
        },
        {
          "output_type": "stream",
          "text": [
            "training loss: 1.6023777723312378\n",
            "training loss: 1.6577023267745972\n",
            "training loss: 1.4736779928207397\n"
          ],
          "name": "stdout"
        },
        {
          "output_type": "stream",
          "text": [
            "\rtraining:   1%|          | 1193/100000 [1:26:26<115:47:27,  4.22s/it]"
          ],
          "name": "stderr"
        },
        {
          "output_type": "stream",
          "text": [
            "training loss: 1.5185470581054688\n",
            "training loss: 1.5173319578170776\n",
            "training loss: 1.5871388912200928\n"
          ],
          "name": "stdout"
        },
        {
          "output_type": "stream",
          "text": [
            "\rtraining:   1%|          | 1196/100000 [1:26:39<115:49:49,  4.22s/it]"
          ],
          "name": "stderr"
        },
        {
          "output_type": "stream",
          "text": [
            "training loss: 1.563650369644165\n",
            "training loss: 1.5745224952697754\n",
            "training loss: 1.7137855291366577\n"
          ],
          "name": "stdout"
        },
        {
          "output_type": "stream",
          "text": [
            "training:   1%|          | 1199/100000 [1:26:51<115:49:28,  4.22s/it]"
          ],
          "name": "stderr"
        },
        {
          "output_type": "stream",
          "text": [
            "training loss: 1.5805418491363525\n",
            "training loss: 1.4814003705978394\n",
            "training loss: 1.5507709980010986\n",
            "validation loss: 1.483513593673706\n"
          ],
          "name": "stdout"
        },
        {
          "output_type": "stream",
          "text": [
            "\rtraining:   1%|          | 1202/100000 [1:27:04<116:38:15,  4.25s/it]"
          ],
          "name": "stderr"
        },
        {
          "output_type": "stream",
          "text": [
            "training loss: 1.5535598993301392\n",
            "training loss: 1.5367296934127808\n",
            "training loss: 1.4967972040176392\n"
          ],
          "name": "stdout"
        },
        {
          "output_type": "stream",
          "text": [
            "\rtraining:   1%|          | 1205/100000 [1:27:17<116:23:20,  4.24s/it]"
          ],
          "name": "stderr"
        },
        {
          "output_type": "stream",
          "text": [
            "training loss: 1.6167888641357422\n",
            "training loss: 1.4429727792739868\n",
            "training loss: 1.510748267173767\n"
          ],
          "name": "stdout"
        },
        {
          "output_type": "stream",
          "text": [
            "\rtraining:   1%|          | 1208/100000 [1:27:30<116:11:24,  4.23s/it]"
          ],
          "name": "stderr"
        },
        {
          "output_type": "stream",
          "text": [
            "training loss: 1.5172088146209717\n",
            "training loss: 1.546664834022522\n",
            "training loss: 1.704380989074707\n"
          ],
          "name": "stdout"
        },
        {
          "output_type": "stream",
          "text": [
            "training:   1%|          | 1211/100000 [1:27:42<116:05:06,  4.23s/it]"
          ],
          "name": "stderr"
        },
        {
          "output_type": "stream",
          "text": [
            "training loss: 1.4926480054855347\n",
            "training loss: 1.4772305488586426\n",
            "training loss: 1.6252479553222656\n"
          ],
          "name": "stdout"
        },
        {
          "output_type": "stream",
          "text": [
            "\rtraining:   1%|          | 1214/100000 [1:27:55<115:58:12,  4.23s/it]"
          ],
          "name": "stderr"
        },
        {
          "output_type": "stream",
          "text": [
            "training loss: 1.479278802871704\n",
            "training loss: 1.593182921409607\n",
            "training loss: 1.6515552997589111\n"
          ],
          "name": "stdout"
        },
        {
          "output_type": "stream",
          "text": [
            "\rtraining:   1%|          | 1217/100000 [1:28:08<115:54:59,  4.22s/it]"
          ],
          "name": "stderr"
        },
        {
          "output_type": "stream",
          "text": [
            "training loss: 1.707751989364624\n",
            "training loss: 1.6054655313491821\n",
            "training loss: 1.5866377353668213\n"
          ],
          "name": "stdout"
        },
        {
          "output_type": "stream",
          "text": [
            "training:   1%|          | 1220/100000 [1:28:20<115:53:02,  4.22s/it]"
          ],
          "name": "stderr"
        },
        {
          "output_type": "stream",
          "text": [
            "training loss: 1.558516263961792\n",
            "training loss: 1.4364980459213257\n",
            "training loss: 1.543900489807129\n"
          ],
          "name": "stdout"
        },
        {
          "output_type": "stream",
          "text": [
            "\rtraining:   1%|          | 1223/100000 [1:28:33<115:50:48,  4.22s/it]"
          ],
          "name": "stderr"
        },
        {
          "output_type": "stream",
          "text": [
            "training loss: 1.5333678722381592\n",
            "training loss: 1.4742045402526855\n",
            "training loss: 1.493735671043396\n"
          ],
          "name": "stdout"
        },
        {
          "output_type": "stream",
          "text": [
            "\rtraining:   1%|          | 1226/100000 [1:28:46<115:49:15,  4.22s/it]"
          ],
          "name": "stderr"
        },
        {
          "output_type": "stream",
          "text": [
            "training loss: 1.5718945264816284\n",
            "training loss: 1.4904329776763916\n",
            "training loss: 1.578902006149292\n"
          ],
          "name": "stdout"
        },
        {
          "output_type": "stream",
          "text": [
            "\rtraining:   1%|          | 1229/100000 [1:28:58<115:47:24,  4.22s/it]"
          ],
          "name": "stderr"
        },
        {
          "output_type": "stream",
          "text": [
            "training loss: 1.4509357213974\n",
            "training loss: 1.4931144714355469\n",
            "training loss: 1.4850523471832275\n"
          ],
          "name": "stdout"
        },
        {
          "output_type": "stream",
          "text": [
            "training:   1%|          | 1232/100000 [1:29:11<115:46:33,  4.22s/it]"
          ],
          "name": "stderr"
        },
        {
          "output_type": "stream",
          "text": [
            "training loss: 1.5146867036819458\n",
            "training loss: 1.5065908432006836\n",
            "training loss: 1.4707849025726318\n"
          ],
          "name": "stdout"
        },
        {
          "output_type": "stream",
          "text": [
            "\rtraining:   1%|          | 1235/100000 [1:29:24<115:46:43,  4.22s/it]"
          ],
          "name": "stderr"
        },
        {
          "output_type": "stream",
          "text": [
            "training loss: 1.6231824159622192\n",
            "training loss: 1.6222561597824097\n",
            "training loss: 1.5449941158294678\n"
          ],
          "name": "stdout"
        },
        {
          "output_type": "stream",
          "text": [
            "\rtraining:   1%|          | 1238/100000 [1:29:36<115:44:59,  4.22s/it]"
          ],
          "name": "stderr"
        },
        {
          "output_type": "stream",
          "text": [
            "training loss: 1.5656158924102783\n",
            "training loss: 1.4513351917266846\n",
            "training loss: 1.4717463254928589\n"
          ],
          "name": "stdout"
        },
        {
          "output_type": "stream",
          "text": [
            "\rtraining:   1%|          | 1241/100000 [1:29:49<115:44:58,  4.22s/it]"
          ],
          "name": "stderr"
        },
        {
          "output_type": "stream",
          "text": [
            "training loss: 1.4309589862823486\n",
            "training loss: 1.5492594242095947\n",
            "training loss: 1.524515986442566\n"
          ],
          "name": "stdout"
        },
        {
          "output_type": "stream",
          "text": [
            "training:   1%|          | 1244/100000 [1:30:02<115:45:43,  4.22s/it]"
          ],
          "name": "stderr"
        },
        {
          "output_type": "stream",
          "text": [
            "training loss: 1.5301549434661865\n",
            "training loss: 1.4683817625045776\n",
            "training loss: 1.498230218887329\n"
          ],
          "name": "stdout"
        },
        {
          "output_type": "stream",
          "text": [
            "\rtraining:   1%|          | 1247/100000 [1:30:14<115:45:23,  4.22s/it]"
          ],
          "name": "stderr"
        },
        {
          "output_type": "stream",
          "text": [
            "training loss: 1.5232727527618408\n",
            "training loss: 1.469929814338684\n",
            "training loss: 1.593554139137268\n"
          ],
          "name": "stdout"
        },
        {
          "output_type": "stream",
          "text": [
            "\rtraining:   1%|▏         | 1250/100000 [1:30:27<115:45:36,  4.22s/it]"
          ],
          "name": "stderr"
        },
        {
          "output_type": "stream",
          "text": [
            "training loss: 1.5521152019500732\n",
            "training loss: 1.5170003175735474\n",
            "training loss: 1.5843011140823364\n"
          ],
          "name": "stdout"
        },
        {
          "output_type": "stream",
          "text": [
            "\rtraining:   1%|▏         | 1253/100000 [1:30:40<115:46:05,  4.22s/it]"
          ],
          "name": "stderr"
        },
        {
          "output_type": "stream",
          "text": [
            "training loss: 1.4958019256591797\n",
            "training loss: 1.5671075582504272\n",
            "training loss: 1.5234445333480835\n"
          ],
          "name": "stdout"
        },
        {
          "output_type": "stream",
          "text": [
            "training:   1%|▏         | 1256/100000 [1:30:52<115:46:27,  4.22s/it]"
          ],
          "name": "stderr"
        },
        {
          "output_type": "stream",
          "text": [
            "training loss: 1.5564243793487549\n",
            "training loss: 1.6378698348999023\n",
            "training loss: 1.181114673614502\n"
          ],
          "name": "stdout"
        },
        {
          "output_type": "stream",
          "text": [
            "\rtraining:   1%|▏         | 1259/100000 [1:31:05<115:45:39,  4.22s/it]"
          ],
          "name": "stderr"
        },
        {
          "output_type": "stream",
          "text": [
            "training loss: 1.5583915710449219\n",
            "training loss: 1.5659594535827637\n",
            "training loss: 1.5211915969848633\n"
          ],
          "name": "stdout"
        },
        {
          "output_type": "stream",
          "text": [
            "\rtraining:   1%|▏         | 1262/100000 [1:31:18<115:47:54,  4.22s/it]"
          ],
          "name": "stderr"
        },
        {
          "output_type": "stream",
          "text": [
            "training loss: 1.5339717864990234\n",
            "training loss: 1.51566481590271\n",
            "training loss: 1.3897089958190918\n"
          ],
          "name": "stdout"
        },
        {
          "output_type": "stream",
          "text": [
            "training:   1%|▏         | 1265/100000 [1:31:30<115:46:40,  4.22s/it]"
          ],
          "name": "stderr"
        },
        {
          "output_type": "stream",
          "text": [
            "training loss: 1.5719141960144043\n",
            "training loss: 1.5473148822784424\n",
            "training loss: 1.629685401916504\n"
          ],
          "name": "stdout"
        },
        {
          "output_type": "stream",
          "text": [
            "\rtraining:   1%|▏         | 1268/100000 [1:31:43<115:47:01,  4.22s/it]"
          ],
          "name": "stderr"
        },
        {
          "output_type": "stream",
          "text": [
            "training loss: 1.559334397315979\n",
            "training loss: 1.7804794311523438\n",
            "training loss: 1.5335230827331543\n"
          ],
          "name": "stdout"
        },
        {
          "output_type": "stream",
          "text": [
            "\rtraining:   1%|▏         | 1271/100000 [1:31:56<115:43:16,  4.22s/it]"
          ],
          "name": "stderr"
        },
        {
          "output_type": "stream",
          "text": [
            "training loss: 1.6933802366256714\n",
            "training loss: 1.6169073581695557\n",
            "training loss: 1.5637246370315552\n"
          ],
          "name": "stdout"
        },
        {
          "output_type": "stream",
          "text": [
            "\rtraining:   1%|▏         | 1274/100000 [1:32:08<115:45:38,  4.22s/it]"
          ],
          "name": "stderr"
        },
        {
          "output_type": "stream",
          "text": [
            "training loss: 1.488849401473999\n",
            "training loss: 1.6658787727355957\n",
            "training loss: 1.4538047313690186\n"
          ],
          "name": "stdout"
        },
        {
          "output_type": "stream",
          "text": [
            "training:   1%|▏         | 1277/100000 [1:32:21<115:44:18,  4.22s/it]"
          ],
          "name": "stderr"
        },
        {
          "output_type": "stream",
          "text": [
            "training loss: 1.7797315120697021\n",
            "training loss: 1.5061204433441162\n",
            "training loss: 1.4471107721328735\n"
          ],
          "name": "stdout"
        },
        {
          "output_type": "stream",
          "text": [
            "\rtraining:   1%|▏         | 1280/100000 [1:32:34<115:44:22,  4.22s/it]"
          ],
          "name": "stderr"
        },
        {
          "output_type": "stream",
          "text": [
            "training loss: 1.5535837411880493\n",
            "training loss: 1.4678776264190674\n",
            "training loss: 1.4732835292816162\n"
          ],
          "name": "stdout"
        },
        {
          "output_type": "stream",
          "text": [
            "\rtraining:   1%|▏         | 1283/100000 [1:32:46<115:43:04,  4.22s/it]"
          ],
          "name": "stderr"
        },
        {
          "output_type": "stream",
          "text": [
            "training loss: 1.500708818435669\n",
            "training loss: 1.4518523216247559\n",
            "training loss: 1.5469167232513428\n"
          ],
          "name": "stdout"
        },
        {
          "output_type": "stream",
          "text": [
            "\rtraining:   1%|▏         | 1286/100000 [1:32:59<115:41:26,  4.22s/it]"
          ],
          "name": "stderr"
        },
        {
          "output_type": "stream",
          "text": [
            "training loss: 1.5126848220825195\n",
            "training loss: 1.5926328897476196\n",
            "training loss: 1.381255865097046\n"
          ],
          "name": "stdout"
        },
        {
          "output_type": "stream",
          "text": [
            "training:   1%|▏         | 1289/100000 [1:33:12<115:41:30,  4.22s/it]"
          ],
          "name": "stderr"
        },
        {
          "output_type": "stream",
          "text": [
            "training loss: 1.5001987218856812\n",
            "training loss: 1.5080933570861816\n",
            "training loss: 1.540795087814331\n"
          ],
          "name": "stdout"
        },
        {
          "output_type": "stream",
          "text": [
            "\rtraining:   1%|▏         | 1292/100000 [1:33:24<115:40:47,  4.22s/it]"
          ],
          "name": "stderr"
        },
        {
          "output_type": "stream",
          "text": [
            "training loss: 1.3969439268112183\n",
            "training loss: 1.4343318939208984\n",
            "training loss: 1.596059799194336\n"
          ],
          "name": "stdout"
        },
        {
          "output_type": "stream",
          "text": [
            "\rtraining:   1%|▏         | 1295/100000 [1:33:37<115:40:41,  4.22s/it]"
          ],
          "name": "stderr"
        },
        {
          "output_type": "stream",
          "text": [
            "training loss: 1.4544203281402588\n",
            "training loss: 1.4300537109375\n",
            "training loss: 1.5860660076141357\n"
          ],
          "name": "stdout"
        },
        {
          "output_type": "stream",
          "text": [
            "\rtraining:   1%|▏         | 1298/100000 [1:33:50<115:41:33,  4.22s/it]"
          ],
          "name": "stderr"
        },
        {
          "output_type": "stream",
          "text": [
            "training loss: 1.661811351776123\n",
            "training loss: 1.471146821975708\n",
            "training loss: 1.4651060104370117\n"
          ],
          "name": "stdout"
        },
        {
          "output_type": "stream",
          "text": [
            "\rtraining:   1%|▏         | 1298/100000 [1:34:00<115:41:33,  4.22s/it]"
          ],
          "name": "stderr"
        },
        {
          "output_type": "stream",
          "text": [
            "training loss: 1.5133649110794067\n"
          ],
          "name": "stdout"
        },
        {
          "output_type": "stream",
          "text": [
            "\rtraining:   1%|▏         | 1301/100000 [1:34:03<116:29:26,  4.25s/it]"
          ],
          "name": "stderr"
        },
        {
          "output_type": "stream",
          "text": [
            "validation loss: 1.6008939743041992\n",
            "training loss: 1.4538204669952393\n",
            "training loss: 1.6352307796478271\n"
          ],
          "name": "stdout"
        },
        {
          "output_type": "stream",
          "text": [
            "\rtraining:   1%|▏         | 1304/100000 [1:34:15<116:14:58,  4.24s/it]"
          ],
          "name": "stderr"
        },
        {
          "output_type": "stream",
          "text": [
            "training loss: 1.5658962726593018\n",
            "training loss: 1.468000888824463\n",
            "training loss: 1.4167709350585938\n"
          ],
          "name": "stdout"
        },
        {
          "output_type": "stream",
          "text": [
            "\rtraining:   1%|▏         | 1307/100000 [1:34:28<116:03:07,  4.23s/it]"
          ],
          "name": "stderr"
        },
        {
          "output_type": "stream",
          "text": [
            "training loss: 1.458908200263977\n",
            "training loss: 1.518071174621582\n",
            "training loss: 1.5417633056640625\n"
          ],
          "name": "stdout"
        },
        {
          "output_type": "stream",
          "text": [
            "training:   1%|▏         | 1310/100000 [1:34:40<115:55:14,  4.23s/it]"
          ],
          "name": "stderr"
        },
        {
          "output_type": "stream",
          "text": [
            "training loss: 1.5572932958602905\n",
            "training loss: 1.5664504766464233\n",
            "training loss: 1.6170209646224976\n"
          ],
          "name": "stdout"
        },
        {
          "output_type": "stream",
          "text": [
            "\rtraining:   1%|▏         | 1313/100000 [1:34:53<115:50:41,  4.23s/it]"
          ],
          "name": "stderr"
        },
        {
          "output_type": "stream",
          "text": [
            "training loss: 1.511712670326233\n",
            "training loss: 1.5347144603729248\n",
            "training loss: 1.6257820129394531\n"
          ],
          "name": "stdout"
        },
        {
          "output_type": "stream",
          "text": [
            "\rtraining:   1%|▏         | 1316/100000 [1:35:06<115:49:27,  4.23s/it]"
          ],
          "name": "stderr"
        },
        {
          "output_type": "stream",
          "text": [
            "training loss: 1.564302921295166\n",
            "training loss: 1.4305438995361328\n",
            "training loss: 1.4669783115386963\n"
          ],
          "name": "stdout"
        },
        {
          "output_type": "stream",
          "text": [
            "\rtraining:   1%|▏         | 1319/100000 [1:35:18<115:43:29,  4.22s/it]"
          ],
          "name": "stderr"
        },
        {
          "output_type": "stream",
          "text": [
            "training loss: 1.5160260200500488\n",
            "training loss: 1.4128254652023315\n",
            "training loss: 1.594840407371521\n"
          ],
          "name": "stdout"
        },
        {
          "output_type": "stream",
          "text": [
            "training:   1%|▏         | 1322/100000 [1:35:31<115:41:54,  4.22s/it]"
          ],
          "name": "stderr"
        },
        {
          "output_type": "stream",
          "text": [
            "training loss: 1.621211051940918\n",
            "training loss: 1.5753569602966309\n",
            "training loss: 1.5099067687988281\n"
          ],
          "name": "stdout"
        },
        {
          "output_type": "stream",
          "text": [
            "\rtraining:   1%|▏         | 1325/100000 [1:35:44<115:43:06,  4.22s/it]"
          ],
          "name": "stderr"
        },
        {
          "output_type": "stream",
          "text": [
            "training loss: 1.443124532699585\n",
            "training loss: 1.4421474933624268\n",
            "training loss: 1.5910875797271729\n"
          ],
          "name": "stdout"
        },
        {
          "output_type": "stream",
          "text": [
            "\rtraining:   1%|▏         | 1328/100000 [1:35:56<115:41:49,  4.22s/it]"
          ],
          "name": "stderr"
        },
        {
          "output_type": "stream",
          "text": [
            "training loss: 1.3498531579971313\n",
            "training loss: 1.3604907989501953\n",
            "training loss: 1.6252481937408447\n"
          ],
          "name": "stdout"
        },
        {
          "output_type": "stream",
          "text": [
            "\rtraining:   1%|▏         | 1331/100000 [1:36:09<115:42:00,  4.22s/it]"
          ],
          "name": "stderr"
        },
        {
          "output_type": "stream",
          "text": [
            "training loss: 1.6386860609054565\n",
            "training loss: 1.5644512176513672\n",
            "training loss: 1.5538976192474365\n"
          ],
          "name": "stdout"
        },
        {
          "output_type": "stream",
          "text": [
            "training:   1%|▏         | 1334/100000 [1:36:22<115:40:52,  4.22s/it]"
          ],
          "name": "stderr"
        },
        {
          "output_type": "stream",
          "text": [
            "training loss: 1.607291340827942\n",
            "training loss: 1.5185253620147705\n",
            "training loss: 1.2668741941452026\n"
          ],
          "name": "stdout"
        },
        {
          "output_type": "stream",
          "text": [
            "\rtraining:   1%|▏         | 1337/100000 [1:36:34<115:39:10,  4.22s/it]"
          ],
          "name": "stderr"
        },
        {
          "output_type": "stream",
          "text": [
            "training loss: 1.6242175102233887\n",
            "training loss: 1.469653844833374\n",
            "training loss: 1.408759593963623\n"
          ],
          "name": "stdout"
        },
        {
          "output_type": "stream",
          "text": [
            "\rtraining:   1%|▏         | 1340/100000 [1:36:47<115:40:17,  4.22s/it]"
          ],
          "name": "stderr"
        },
        {
          "output_type": "stream",
          "text": [
            "training loss: 1.5011125802993774\n",
            "training loss: 1.469626784324646\n",
            "training loss: 1.587726354598999\n"
          ],
          "name": "stdout"
        },
        {
          "output_type": "stream",
          "text": [
            "\rtraining:   1%|▏         | 1343/100000 [1:37:00<115:39:41,  4.22s/it]"
          ],
          "name": "stderr"
        },
        {
          "output_type": "stream",
          "text": [
            "training loss: 1.6079057455062866\n",
            "training loss: 1.5423381328582764\n",
            "training loss: 1.4842451810836792\n"
          ],
          "name": "stdout"
        },
        {
          "output_type": "stream",
          "text": [
            "training:   1%|▏         | 1346/100000 [1:37:12<115:38:00,  4.22s/it]"
          ],
          "name": "stderr"
        },
        {
          "output_type": "stream",
          "text": [
            "training loss: 1.4839351177215576\n",
            "training loss: 1.5106886625289917\n",
            "training loss: 1.3006619215011597\n"
          ],
          "name": "stdout"
        },
        {
          "output_type": "stream",
          "text": [
            "\rtraining:   1%|▏         | 1349/100000 [1:37:25<115:36:09,  4.22s/it]"
          ],
          "name": "stderr"
        },
        {
          "output_type": "stream",
          "text": [
            "training loss: 1.5769284963607788\n",
            "training loss: 1.4846223592758179\n",
            "training loss: 1.4798388481140137\n"
          ],
          "name": "stdout"
        },
        {
          "output_type": "stream",
          "text": [
            "\rtraining:   1%|▏         | 1352/100000 [1:37:38<115:38:04,  4.22s/it]"
          ],
          "name": "stderr"
        },
        {
          "output_type": "stream",
          "text": [
            "training loss: 1.5107190608978271\n",
            "training loss: 1.487955927848816\n",
            "training loss: 1.5444269180297852\n"
          ],
          "name": "stdout"
        },
        {
          "output_type": "stream",
          "text": [
            "training:   1%|▏         | 1355/100000 [1:37:50<115:37:43,  4.22s/it]"
          ],
          "name": "stderr"
        },
        {
          "output_type": "stream",
          "text": [
            "training loss: 1.5346887111663818\n",
            "training loss: 1.5532104969024658\n",
            "training loss: 1.5908831357955933\n"
          ],
          "name": "stdout"
        },
        {
          "output_type": "stream",
          "text": [
            "\rtraining:   1%|▏         | 1358/100000 [1:38:03<115:37:38,  4.22s/it]"
          ],
          "name": "stderr"
        },
        {
          "output_type": "stream",
          "text": [
            "training loss: 1.5180963277816772\n",
            "training loss: 1.396794319152832\n",
            "training loss: 1.4934512376785278\n"
          ],
          "name": "stdout"
        },
        {
          "output_type": "stream",
          "text": [
            "\rtraining:   1%|▏         | 1361/100000 [1:38:16<115:41:42,  4.22s/it]"
          ],
          "name": "stderr"
        },
        {
          "output_type": "stream",
          "text": [
            "training loss: 1.4936747550964355\n",
            "training loss: 1.5772737264633179\n",
            "training loss: 1.567052960395813\n"
          ],
          "name": "stdout"
        },
        {
          "output_type": "stream",
          "text": [
            "\rtraining:   1%|▏         | 1364/100000 [1:38:28<115:40:17,  4.22s/it]"
          ],
          "name": "stderr"
        },
        {
          "output_type": "stream",
          "text": [
            "training loss: 1.5301246643066406\n",
            "training loss: 1.4527908563613892\n",
            "training loss: 1.4227088689804077\n"
          ],
          "name": "stdout"
        },
        {
          "output_type": "stream",
          "text": [
            "training:   1%|▏         | 1367/100000 [1:38:41<115:39:35,  4.22s/it]"
          ],
          "name": "stderr"
        },
        {
          "output_type": "stream",
          "text": [
            "training loss: 1.589822769165039\n",
            "training loss: 1.6062625646591187\n",
            "training loss: 1.4300765991210938\n"
          ],
          "name": "stdout"
        },
        {
          "output_type": "stream",
          "text": [
            "\rtraining:   1%|▏         | 1370/100000 [1:38:54<115:37:40,  4.22s/it]"
          ],
          "name": "stderr"
        },
        {
          "output_type": "stream",
          "text": [
            "training loss: 1.5494664907455444\n",
            "training loss: 1.5448013544082642\n",
            "training loss: 1.4396190643310547\n"
          ],
          "name": "stdout"
        },
        {
          "output_type": "stream",
          "text": [
            "\rtraining:   1%|▏         | 1373/100000 [1:39:06<115:36:03,  4.22s/it]"
          ],
          "name": "stderr"
        },
        {
          "output_type": "stream",
          "text": [
            "training loss: 1.6862082481384277\n",
            "training loss: 1.5659031867980957\n",
            "training loss: 1.5629304647445679\n"
          ],
          "name": "stdout"
        },
        {
          "output_type": "stream",
          "text": [
            "\rtraining:   1%|▏         | 1376/100000 [1:39:19<115:35:58,  4.22s/it]"
          ],
          "name": "stderr"
        },
        {
          "output_type": "stream",
          "text": [
            "training loss: 1.5714740753173828\n",
            "training loss: 1.5323517322540283\n",
            "training loss: 1.5302029848098755\n"
          ],
          "name": "stdout"
        },
        {
          "output_type": "stream",
          "text": [
            "training:   1%|▏         | 1379/100000 [1:39:32<115:37:35,  4.22s/it]"
          ],
          "name": "stderr"
        },
        {
          "output_type": "stream",
          "text": [
            "training loss: 1.4796993732452393\n",
            "training loss: 1.4849486351013184\n",
            "training loss: 1.650251865386963\n"
          ],
          "name": "stdout"
        },
        {
          "output_type": "stream",
          "text": [
            "\rtraining:   1%|▏         | 1382/100000 [1:39:44<115:38:07,  4.22s/it]"
          ],
          "name": "stderr"
        },
        {
          "output_type": "stream",
          "text": [
            "training loss: 1.6444025039672852\n",
            "training loss: 1.3922030925750732\n",
            "training loss: 1.7827262878417969\n"
          ],
          "name": "stdout"
        },
        {
          "output_type": "stream",
          "text": [
            "\rtraining:   1%|▏         | 1385/100000 [1:39:57<115:38:18,  4.22s/it]"
          ],
          "name": "stderr"
        },
        {
          "output_type": "stream",
          "text": [
            "training loss: 1.46766996383667\n",
            "training loss: 1.4505455493927002\n",
            "training loss: 1.6140164136886597\n"
          ],
          "name": "stdout"
        },
        {
          "output_type": "stream",
          "text": [
            "\rtraining:   1%|▏         | 1388/100000 [1:40:10<115:37:23,  4.22s/it]"
          ],
          "name": "stderr"
        },
        {
          "output_type": "stream",
          "text": [
            "training loss: 1.5407003164291382\n",
            "training loss: 1.614007830619812\n",
            "training loss: 1.481501579284668\n"
          ],
          "name": "stdout"
        },
        {
          "output_type": "stream",
          "text": [
            "training:   1%|▏         | 1391/100000 [1:40:22<115:39:30,  4.22s/it]"
          ],
          "name": "stderr"
        },
        {
          "output_type": "stream",
          "text": [
            "training loss: 1.489086389541626\n",
            "training loss: 1.5271047353744507\n",
            "training loss: 1.5120257139205933\n"
          ],
          "name": "stdout"
        },
        {
          "output_type": "stream",
          "text": [
            "\rtraining:   1%|▏         | 1394/100000 [1:40:35<115:38:19,  4.22s/it]"
          ],
          "name": "stderr"
        },
        {
          "output_type": "stream",
          "text": [
            "training loss: 1.5516963005065918\n",
            "training loss: 1.6478536128997803\n",
            "training loss: 1.4762539863586426\n"
          ],
          "name": "stdout"
        },
        {
          "output_type": "stream",
          "text": [
            "\rtraining:   1%|▏         | 1397/100000 [1:40:48<115:36:47,  4.22s/it]"
          ],
          "name": "stderr"
        },
        {
          "output_type": "stream",
          "text": [
            "training loss: 1.5369696617126465\n",
            "training loss: 1.5265552997589111\n",
            "training loss: 1.5793695449829102\n"
          ],
          "name": "stdout"
        },
        {
          "output_type": "stream",
          "text": [
            "\rtraining:   1%|▏         | 1400/100000 [1:41:00<115:36:38,  4.22s/it]"
          ],
          "name": "stderr"
        },
        {
          "output_type": "stream",
          "text": [
            "training loss: 1.405199408531189\n",
            "training loss: 1.4372113943099976\n",
            "validation loss: 1.516822338104248\n",
            "training loss: 1.5702067613601685\n"
          ],
          "name": "stdout"
        },
        {
          "output_type": "stream",
          "text": [
            "training:   1%|▏         | 1403/100000 [1:41:13<116:24:40,  4.25s/it]"
          ],
          "name": "stderr"
        },
        {
          "output_type": "stream",
          "text": [
            "training loss: 1.544120192527771\n",
            "training loss: 1.5104769468307495\n",
            "training loss: 1.5686168670654297\n"
          ],
          "name": "stdout"
        },
        {
          "output_type": "stream",
          "text": [
            "\rtraining:   1%|▏         | 1406/100000 [1:41:26<116:08:48,  4.24s/it]"
          ],
          "name": "stderr"
        },
        {
          "output_type": "stream",
          "text": [
            "training loss: 1.5581268072128296\n",
            "training loss: 1.6366419792175293\n",
            "training loss: 1.4887677431106567\n"
          ],
          "name": "stdout"
        },
        {
          "output_type": "stream",
          "text": [
            "\rtraining:   1%|▏         | 1409/100000 [1:41:39<115:59:19,  4.24s/it]"
          ],
          "name": "stderr"
        },
        {
          "output_type": "stream",
          "text": [
            "training loss: 1.4532220363616943\n",
            "training loss: 1.556667685508728\n",
            "training loss: 1.4511754512786865\n"
          ],
          "name": "stdout"
        },
        {
          "output_type": "stream",
          "text": [
            "training:   1%|▏         | 1412/100000 [1:41:51<115:53:08,  4.23s/it]"
          ],
          "name": "stderr"
        },
        {
          "output_type": "stream",
          "text": [
            "training loss: 1.442138910293579\n",
            "training loss: 1.516068935394287\n"
          ],
          "name": "stdout"
        },
        {
          "output_type": "stream",
          "text": [
            "\rtraining:   1%|▏         | 1413/100000 [1:41:58<118:34:28,  4.33s/it]\n"
          ],
          "name": "stderr"
        },
        {
          "output_type": "error",
          "ename": "KeyboardInterrupt",
          "evalue": "ignored",
          "traceback": [
            "\u001b[0;31m---------------------------------------------------------------------------\u001b[0m",
            "\u001b[0;31mKeyboardInterrupt\u001b[0m                         Traceback (most recent call last)",
            "\u001b[0;32m<ipython-input-3-9657430cf1a3>\u001b[0m in \u001b[0;36m<module>\u001b[0;34m()\u001b[0m\n\u001b[1;32m     87\u001b[0m     \u001b[0;32mfor\u001b[0m \u001b[0m__\u001b[0m \u001b[0;32min\u001b[0m \u001b[0mrange\u001b[0m\u001b[0;34m(\u001b[0m\u001b[0mGRADIENT_ACCUMULATE_EVERY\u001b[0m\u001b[0;34m)\u001b[0m\u001b[0;34m:\u001b[0m\u001b[0;34m\u001b[0m\u001b[0;34m\u001b[0m\u001b[0m\n\u001b[1;32m     88\u001b[0m         \u001b[0mloss\u001b[0m \u001b[0;34m=\u001b[0m \u001b[0mmodel\u001b[0m\u001b[0;34m(\u001b[0m\u001b[0mnext\u001b[0m\u001b[0;34m(\u001b[0m\u001b[0mtrain_loader\u001b[0m\u001b[0;34m)\u001b[0m\u001b[0;34m)\u001b[0m\u001b[0;34m\u001b[0m\u001b[0;34m\u001b[0m\u001b[0m\n\u001b[0;32m---> 89\u001b[0;31m         \u001b[0mloss\u001b[0m\u001b[0;34m.\u001b[0m\u001b[0mbackward\u001b[0m\u001b[0;34m(\u001b[0m\u001b[0;34m)\u001b[0m\u001b[0;34m\u001b[0m\u001b[0;34m\u001b[0m\u001b[0m\n\u001b[0m\u001b[1;32m     90\u001b[0m \u001b[0;34m\u001b[0m\u001b[0m\n\u001b[1;32m     91\u001b[0m     \u001b[0mprint\u001b[0m\u001b[0;34m(\u001b[0m\u001b[0;34mf'training loss: {loss.item()}'\u001b[0m\u001b[0;34m)\u001b[0m\u001b[0;34m\u001b[0m\u001b[0;34m\u001b[0m\u001b[0m\n",
            "\u001b[0;32m/usr/local/lib/python3.7/dist-packages/torch/_tensor.py\u001b[0m in \u001b[0;36mbackward\u001b[0;34m(self, gradient, retain_graph, create_graph, inputs)\u001b[0m\n\u001b[1;32m    253\u001b[0m                 \u001b[0mcreate_graph\u001b[0m\u001b[0;34m=\u001b[0m\u001b[0mcreate_graph\u001b[0m\u001b[0;34m,\u001b[0m\u001b[0;34m\u001b[0m\u001b[0;34m\u001b[0m\u001b[0m\n\u001b[1;32m    254\u001b[0m                 inputs=inputs)\n\u001b[0;32m--> 255\u001b[0;31m         \u001b[0mtorch\u001b[0m\u001b[0;34m.\u001b[0m\u001b[0mautograd\u001b[0m\u001b[0;34m.\u001b[0m\u001b[0mbackward\u001b[0m\u001b[0;34m(\u001b[0m\u001b[0mself\u001b[0m\u001b[0;34m,\u001b[0m \u001b[0mgradient\u001b[0m\u001b[0;34m,\u001b[0m \u001b[0mretain_graph\u001b[0m\u001b[0;34m,\u001b[0m \u001b[0mcreate_graph\u001b[0m\u001b[0;34m,\u001b[0m \u001b[0minputs\u001b[0m\u001b[0;34m=\u001b[0m\u001b[0minputs\u001b[0m\u001b[0;34m)\u001b[0m\u001b[0;34m\u001b[0m\u001b[0;34m\u001b[0m\u001b[0m\n\u001b[0m\u001b[1;32m    256\u001b[0m \u001b[0;34m\u001b[0m\u001b[0m\n\u001b[1;32m    257\u001b[0m     \u001b[0;32mdef\u001b[0m \u001b[0mregister_hook\u001b[0m\u001b[0;34m(\u001b[0m\u001b[0mself\u001b[0m\u001b[0;34m,\u001b[0m \u001b[0mhook\u001b[0m\u001b[0;34m)\u001b[0m\u001b[0;34m:\u001b[0m\u001b[0;34m\u001b[0m\u001b[0;34m\u001b[0m\u001b[0m\n",
            "\u001b[0;32m/usr/local/lib/python3.7/dist-packages/torch/autograd/__init__.py\u001b[0m in \u001b[0;36mbackward\u001b[0;34m(tensors, grad_tensors, retain_graph, create_graph, grad_variables, inputs)\u001b[0m\n\u001b[1;32m    147\u001b[0m     Variable._execution_engine.run_backward(\n\u001b[1;32m    148\u001b[0m         \u001b[0mtensors\u001b[0m\u001b[0;34m,\u001b[0m \u001b[0mgrad_tensors_\u001b[0m\u001b[0;34m,\u001b[0m \u001b[0mretain_graph\u001b[0m\u001b[0;34m,\u001b[0m \u001b[0mcreate_graph\u001b[0m\u001b[0;34m,\u001b[0m \u001b[0minputs\u001b[0m\u001b[0;34m,\u001b[0m\u001b[0;34m\u001b[0m\u001b[0;34m\u001b[0m\u001b[0m\n\u001b[0;32m--> 149\u001b[0;31m         allow_unreachable=True, accumulate_grad=True)  # allow_unreachable flag\n\u001b[0m\u001b[1;32m    150\u001b[0m \u001b[0;34m\u001b[0m\u001b[0m\n\u001b[1;32m    151\u001b[0m \u001b[0;34m\u001b[0m\u001b[0m\n",
            "\u001b[0;31mKeyboardInterrupt\u001b[0m: "
          ]
        }
      ]
    }
  ]
}